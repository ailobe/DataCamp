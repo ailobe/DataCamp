{
  "nbformat": 4,
  "nbformat_minor": 0,
  "metadata": {
    "colab": {
      "name": "Data Types for Data Science.ipynb",
      "version": "0.3.2",
      "provenance": [],
      "collapsed_sections": []
    },
    "kernelspec": {
      "name": "python3",
      "display_name": "Python 3"
    }
  },
  "cells": [
    {
      "metadata": {
        "id": "qLVwMtpqu3KE",
        "colab_type": "text"
      },
      "cell_type": "markdown",
      "source": [
        "# Data Types for Data Science\n",
        "https://www.datacamp.com/courses/data-types-for-data-science"
      ]
    },
    {
      "metadata": {
        "id": "qFTLVqiO6-AP",
        "colab_type": "text"
      },
      "cell_type": "markdown",
      "source": [
        "### Loading the files"
      ]
    },
    {
      "metadata": {
        "id": "2DH3JCZK6pls",
        "colab_type": "code",
        "colab": {}
      },
      "cell_type": "code",
      "source": [
        "# links\n",
        "URL1 = 'https://assets.datacamp.com/production/course_3423/datasets/baby_names.csv'"
      ],
      "execution_count": 0,
      "outputs": []
    },
    {
      "metadata": {
        "id": "u8ZHeQTW74Vz",
        "colab_type": "code",
        "colab": {
          "base_uri": "https://localhost:8080/",
          "height": 36
        },
        "outputId": "350f19a0-1094-4d2e-a824-8173a806bbdd"
      },
      "cell_type": "code",
      "source": [
        "from urllib.request import urlretrieve\n",
        "\n",
        "urlretrieve(URL1, 'baby_names.csv')"
      ],
      "execution_count": 51,
      "outputs": [
        {
          "output_type": "execute_result",
          "data": {
            "text/plain": [
              "('crime_sampler.csv', <http.client.HTTPMessage at 0x7fd4d658ee10>)"
            ]
          },
          "metadata": {
            "tags": []
          },
          "execution_count": 51
        }
      ]
    },
    {
      "metadata": {
        "id": "3wfc6iPfu94q",
        "colab_type": "text"
      },
      "cell_type": "markdown",
      "source": [
        "## 1. Fundamental data types"
      ]
    },
    {
      "metadata": {
        "id": "8i6JGrbDxn-y",
        "colab_type": "text"
      },
      "cell_type": "markdown",
      "source": [
        "### Manipulating lists"
      ]
    },
    {
      "metadata": {
        "id": "2DSdN5P0xkkb",
        "colab_type": "code",
        "colab": {
          "base_uri": "https://localhost:8080/",
          "height": 55
        },
        "outputId": "e732d708-178d-45f6-a743-bdd7d46aba02"
      },
      "cell_type": "code",
      "source": [
        "# Create a list containing the names: baby_names\n",
        "baby_names = ['Ximena', 'Aliza', 'Ayden', 'Calvin']\n",
        "\n",
        "# Extend baby_names with 'Rowen' and 'Sandeep'\n",
        "baby_names.extend(['Rowen','Sandeep'])\n",
        "\n",
        "# Print baby_names\n",
        "print(baby_names)\n",
        "\n",
        "# Find the position of 'Aliza': position\n",
        "position = baby_names.index('Aliza')\n",
        "\n",
        "# Remove 'Aliza' from baby_names\n",
        "baby_names.pop(position)\n",
        "\n",
        "# Print baby_names\n",
        "print(baby_names)"
      ],
      "execution_count": 4,
      "outputs": [
        {
          "output_type": "stream",
          "text": [
            "['Ximena', 'Aliza', 'Ayden', 'Calvin', 'Rowen', 'Sandeep']\n",
            "['Ximena', 'Ayden', 'Calvin', 'Rowen', 'Sandeep']\n"
          ],
          "name": "stdout"
        }
      ]
    },
    {
      "metadata": {
        "id": "wZ8UQgOJxtih",
        "colab_type": "text"
      },
      "cell_type": "markdown",
      "source": [
        "### Looping over lists"
      ]
    },
    {
      "metadata": {
        "id": "s-VyToT7yK7S",
        "colab_type": "code",
        "colab": {}
      },
      "cell_type": "code",
      "source": [
        "records = [['2011', 'FEMALE', 'HISPANIC', 'HAYLEE', '17', '71'],\n",
        " ['2011', 'FEMALE', 'HISPANIC', 'HAYLEY', '13', '75'],\n",
        " ['2011', 'FEMALE', 'HISPANIC', 'HAZEL', '10', '78'],\n",
        " ['2011', 'FEMALE', 'HISPANIC', 'HEAVEN', '15', '73'],\n",
        " ['2011', 'FEMALE', 'HISPANIC', 'XIMENA', '18', '70'],\n",
        " ['2011', 'FEMALE', 'HISPANIC', 'YAMILET', '11', '77'],\n",
        " ['2011', 'FEMALE', 'HISPANIC', 'YARETZI', '22', '66'],\n",
        " ['2011', 'FEMALE', 'HISPANIC', 'ZOE', '65', '28'],\n",
        " ['2011', 'FEMALE', 'HISPANIC', 'ZOEY', '27', '61']]"
      ],
      "execution_count": 0,
      "outputs": []
    },
    {
      "metadata": {
        "id": "UeXohTQWa8HJ",
        "colab_type": "text"
      },
      "cell_type": "markdown",
      "source": [
        "#### Non-Pythonic"
      ]
    },
    {
      "metadata": {
        "id": "p1e9C6fExq3t",
        "colab_type": "code",
        "colab": {
          "base_uri": "https://localhost:8080/",
          "height": 185
        },
        "outputId": "4158e2cf-c3ba-46a4-f6c7-1c1d0ff30eb3"
      },
      "cell_type": "code",
      "source": [
        "# Create the empty list: baby_names\n",
        "baby_names = []\n",
        "\n",
        "# Loop over records \n",
        "for row in records:\n",
        "    # Add the name to the list\n",
        "    baby_names.append(row[3])\n",
        "    \n",
        "# Sort the names\n",
        "for name in sorted(baby_names, reverse=True):\n",
        "    # Print each name\n",
        "    print(name)"
      ],
      "execution_count": 6,
      "outputs": [
        {
          "output_type": "stream",
          "text": [
            "ZOEY\n",
            "ZOE\n",
            "YARETZI\n",
            "YAMILET\n",
            "XIMENA\n",
            "HEAVEN\n",
            "HAZEL\n",
            "HAYLEY\n",
            "HAYLEE\n"
          ],
          "name": "stdout"
        }
      ]
    },
    {
      "metadata": {
        "id": "eASaTPSebCM1",
        "colab_type": "text"
      },
      "cell_type": "markdown",
      "source": [
        "#### More pythonic"
      ]
    },
    {
      "metadata": {
        "id": "AuDP0gFZbJid",
        "colab_type": "code",
        "colab": {
          "base_uri": "https://localhost:8080/",
          "height": 185
        },
        "outputId": "12764dd9-bfb0-4784-b438-aa086c9daa9f"
      },
      "cell_type": "code",
      "source": [
        "# List comprehension\n",
        "baby_names = [row[3] for row in records]\n",
        "\n",
        "# Sort the names\n",
        "for name in sorted(baby_names, reverse=True):\n",
        "    # Print each name\n",
        "    print(name)"
      ],
      "execution_count": 7,
      "outputs": [
        {
          "output_type": "stream",
          "text": [
            "ZOEY\n",
            "ZOE\n",
            "YARETZI\n",
            "YAMILET\n",
            "XIMENA\n",
            "HEAVEN\n",
            "HAZEL\n",
            "HAYLEY\n",
            "HAYLEE\n"
          ],
          "name": "stdout"
        }
      ]
    },
    {
      "metadata": {
        "id": "JeTfSLaCzCEv",
        "colab_type": "text"
      },
      "cell_type": "markdown",
      "source": [
        "### Using and unpacking tuples"
      ]
    },
    {
      "metadata": {
        "id": "nOcNVlSWzL1-",
        "colab_type": "code",
        "colab": {}
      },
      "cell_type": "code",
      "source": [
        "girl_names = ['Mia', 'TIFFANY', 'CHLOE', 'SOFIA', 'OLIVIA', 'MADISON', 'Kayla', 'HAILEY', 'FIONA', 'EMILY', 'Victoria', 'Madison', 'Alina', 'EMMA', 'GABRIELLE', 'Chloe', 'Isabella', 'AVA', 'ESTHER', 'Ava', 'CHAYA', 'CHANA', 'Camila', 'ANGELA', 'Esther', 'Miriam', 'TAYLOR', 'Aaliyah', 'Mariam', 'KAYLA', 'ISABELLA', 'CAMILA', 'Sofia', 'Taylor', 'Angela', 'GRACE', 'Zoe', 'Emily', 'NEVAEH', 'Fatoumata', 'ELLA', 'AALIYAH', 'JADA', 'Anna', 'Claire', 'Leah', 'SOPHIA', 'GENESIS', 'RACHEL', 'Serenity', 'Grace', 'ASHLEY', 'Emma', 'Sophia', 'MIA', 'ABIGAIL', 'Sarah', 'Ashley', 'Valentina', 'SERENITY', 'LONDON', 'Chaya', 'Chana', 'Rachel', 'LEAH', 'London', 'Skylar', 'SARAH', 'Olivia', 'MAKAYLA', 'Savannah', 'MIRIAM', 'Brielle','Samantha']\n",
        "boy_names = ['MUHAMMAD', 'Liam', 'JACK', 'SAMUEL', 'Elijah', 'Noah', 'Dylan', 'Moshe', 'Jeremiah', 'Mason', 'Ryan', 'Joshua', 'ANTHONY', 'ETHAN', 'JAYDEN', 'JOSHUA', 'RYAN', 'CHRISTOPHER', 'ALEXANDER', 'Carter', 'DAVID', 'Sebastian', 'JAMES', 'MICHAEL', 'JACOB', 'KEVIN', 'William', 'Muhammad', 'Jack', 'Amir', 'Samuel', 'BENJAMIN', 'Michael', 'Alexander', 'TYLER', 'James', 'CHRISTIAN', 'Matthew', 'Aiden', 'Eric', 'Angel', 'JEREMIAH', 'ANGEL', 'NOAH', 'JUSTIN', 'ISAIAH', 'Jayden', 'David', 'ELIJAH', 'MOSHE', 'SEBASTIAN', 'Jacob', 'Josiah', 'MATTHEW', 'Benjamin', 'Jason', 'JASON', 'Lucas', 'LUCAS', 'DANIEL', 'MASON', 'JOSIAH', 'Joseph', 'JOSEPH', 'Ethan', 'AIDEN', 'ERIC', 'Daniel']"
      ],
      "execution_count": 0,
      "outputs": []
    },
    {
      "metadata": {
        "id": "kMxxtZolcSx8",
        "colab_type": "text"
      },
      "cell_type": "markdown",
      "source": [
        "#### Less pythonic"
      ]
    },
    {
      "metadata": {
        "id": "cjuFfuY5x0_4",
        "colab_type": "code",
        "colab": {
          "base_uri": "https://localhost:8080/",
          "height": 1287
        },
        "outputId": "62473d7a-41d1-4c32-b03c-60ce15e4548c"
      },
      "cell_type": "code",
      "source": [
        "# Pair up the boy and girl names: pairs\n",
        "pairs = zip(girl_names, boy_names)\n",
        "\n",
        "# Iterate over pairs\n",
        "for idx, pair in enumerate(pairs):\n",
        "    # Unpack pair: girl_name, boy_name\n",
        "    girl_name, boy_name = pair\n",
        "    # Print the rank and names associated with each rank\n",
        "    print('Rank {}: {} and {}'.format(idx, girl_name, boy_name))"
      ],
      "execution_count": 9,
      "outputs": [
        {
          "output_type": "stream",
          "text": [
            "Rank 0: Mia and MUHAMMAD\n",
            "Rank 1: TIFFANY and Liam\n",
            "Rank 2: CHLOE and JACK\n",
            "Rank 3: SOFIA and SAMUEL\n",
            "Rank 4: OLIVIA and Elijah\n",
            "Rank 5: MADISON and Noah\n",
            "Rank 6: Kayla and Dylan\n",
            "Rank 7: HAILEY and Moshe\n",
            "Rank 8: FIONA and Jeremiah\n",
            "Rank 9: EMILY and Mason\n",
            "Rank 10: Victoria and Ryan\n",
            "Rank 11: Madison and Joshua\n",
            "Rank 12: Alina and ANTHONY\n",
            "Rank 13: EMMA and ETHAN\n",
            "Rank 14: GABRIELLE and JAYDEN\n",
            "Rank 15: Chloe and JOSHUA\n",
            "Rank 16: Isabella and RYAN\n",
            "Rank 17: AVA and CHRISTOPHER\n",
            "Rank 18: ESTHER and ALEXANDER\n",
            "Rank 19: Ava and Carter\n",
            "Rank 20: CHAYA and DAVID\n",
            "Rank 21: CHANA and Sebastian\n",
            "Rank 22: Camila and JAMES\n",
            "Rank 23: ANGELA and MICHAEL\n",
            "Rank 24: Esther and JACOB\n",
            "Rank 25: Miriam and KEVIN\n",
            "Rank 26: TAYLOR and William\n",
            "Rank 27: Aaliyah and Muhammad\n",
            "Rank 28: Mariam and Jack\n",
            "Rank 29: KAYLA and Amir\n",
            "Rank 30: ISABELLA and Samuel\n",
            "Rank 31: CAMILA and BENJAMIN\n",
            "Rank 32: Sofia and Michael\n",
            "Rank 33: Taylor and Alexander\n",
            "Rank 34: Angela and TYLER\n",
            "Rank 35: GRACE and James\n",
            "Rank 36: Zoe and CHRISTIAN\n",
            "Rank 37: Emily and Matthew\n",
            "Rank 38: NEVAEH and Aiden\n",
            "Rank 39: Fatoumata and Eric\n",
            "Rank 40: ELLA and Angel\n",
            "Rank 41: AALIYAH and JEREMIAH\n",
            "Rank 42: JADA and ANGEL\n",
            "Rank 43: Anna and NOAH\n",
            "Rank 44: Claire and JUSTIN\n",
            "Rank 45: Leah and ISAIAH\n",
            "Rank 46: SOPHIA and Jayden\n",
            "Rank 47: GENESIS and David\n",
            "Rank 48: RACHEL and ELIJAH\n",
            "Rank 49: Serenity and MOSHE\n",
            "Rank 50: Grace and SEBASTIAN\n",
            "Rank 51: ASHLEY and Jacob\n",
            "Rank 52: Emma and Josiah\n",
            "Rank 53: Sophia and MATTHEW\n",
            "Rank 54: MIA and Benjamin\n",
            "Rank 55: ABIGAIL and Jason\n",
            "Rank 56: Sarah and JASON\n",
            "Rank 57: Ashley and Lucas\n",
            "Rank 58: Valentina and LUCAS\n",
            "Rank 59: SERENITY and DANIEL\n",
            "Rank 60: LONDON and MASON\n",
            "Rank 61: Chaya and JOSIAH\n",
            "Rank 62: Chana and Joseph\n",
            "Rank 63: Rachel and JOSEPH\n",
            "Rank 64: LEAH and Ethan\n",
            "Rank 65: London and AIDEN\n",
            "Rank 66: Skylar and ERIC\n",
            "Rank 67: SARAH and Daniel\n"
          ],
          "name": "stdout"
        }
      ]
    },
    {
      "metadata": {
        "id": "33ABFiYIzv-i",
        "colab_type": "text"
      },
      "cell_type": "markdown",
      "source": [
        "### Making tuples by accident"
      ]
    },
    {
      "metadata": {
        "id": "bXq4kln0zEPf",
        "colab_type": "code",
        "colab": {
          "base_uri": "https://localhost:8080/",
          "height": 55
        },
        "outputId": "f87163ad-550b-4f9c-ea70-5abfa94f0bf8"
      },
      "cell_type": "code",
      "source": [
        "# Create the normal variable: normal\n",
        "normal = 'simple'\n",
        "\n",
        "# Create the mistaken variable: error\n",
        "error = 'trailing comma',\n",
        "\n",
        "# Print the types of the variables\n",
        "print(type(normal))\n",
        "print(type(error))"
      ],
      "execution_count": 10,
      "outputs": [
        {
          "output_type": "stream",
          "text": [
            "<class 'str'>\n",
            "<class 'tuple'>\n"
          ],
          "name": "stdout"
        }
      ]
    },
    {
      "metadata": {
        "id": "zaDWwMT2z1jU",
        "colab_type": "text"
      },
      "cell_type": "markdown",
      "source": [
        "### Finding all the data and the overlapping data between sets"
      ]
    },
    {
      "metadata": {
        "id": "N7qUCy9k0aZv",
        "colab_type": "code",
        "colab": {}
      },
      "cell_type": "code",
      "source": [
        "import pandas as pd\n",
        "\n",
        "baby_names = pd.read_csv('baby_names.csv')"
      ],
      "execution_count": 0,
      "outputs": []
    },
    {
      "metadata": {
        "id": "-7oSJN561DUg",
        "colab_type": "code",
        "colab": {}
      },
      "cell_type": "code",
      "source": [
        "_2011 = baby_names['BRITH_YEAR'] == 2011\n",
        "_2014 = baby_names['BRITH_YEAR'] == 2014\n",
        "\n",
        "baby_names_2011 = set([name.title() for name in baby_names[_2011]['NAME']])\n",
        "baby_names_2014 = set([name for name in baby_names[_2014]['NAME']])"
      ],
      "execution_count": 0,
      "outputs": []
    },
    {
      "metadata": {
        "id": "o1CS1V8rzx26",
        "colab_type": "code",
        "colab": {
          "base_uri": "https://localhost:8080/",
          "height": 55
        },
        "outputId": "eb3d2a16-eaab-4766-9d9b-ce3592b23c97"
      },
      "cell_type": "code",
      "source": [
        "# Find the union: all_names\n",
        "all_names = baby_names_2011.union(baby_names_2014)\n",
        "\n",
        "# Print the count of names in all_names\n",
        "print(len(all_names))\n",
        "\n",
        "# Find the intersection: overlapping_names\n",
        "overlapping_names = baby_names_2011.intersection(baby_names_2014)\n",
        "\n",
        "# Print the count of names in overlapping_names\n",
        "print(len(overlapping_names))"
      ],
      "execution_count": 13,
      "outputs": [
        {
          "output_type": "stream",
          "text": [
            "1461\n",
            "986\n"
          ],
          "name": "stdout"
        }
      ]
    },
    {
      "metadata": {
        "id": "74swcz7423yb",
        "colab_type": "text"
      },
      "cell_type": "markdown",
      "source": [
        "### Determining set differences"
      ]
    },
    {
      "metadata": {
        "id": "eAVhi2uez36x",
        "colab_type": "code",
        "colab": {
          "base_uri": "https://localhost:8080/",
          "height": 36
        },
        "outputId": "240b8882-8f0b-4dcb-f44f-e8462e87c66d"
      },
      "cell_type": "code",
      "source": [
        "# Create the empty set: baby_names_2011\n",
        "baby_names_2011 = set()\n",
        "\n",
        "# Loop over records and add the names from 2011 to the baby_names_2011 set\n",
        "for row in records:\n",
        "    # Check if the first column is '2011'\n",
        "    if row[0] == '2011':\n",
        "        # Add the fourth column to the set\n",
        "        baby_names_2011.add(row[3])\n",
        "\n",
        "# Find the difference between 2011 and 2014: differences\n",
        "differences = baby_names_2011.difference(baby_names_2014)\n",
        "\n",
        "# Print the differences\n",
        "print(differences)"
      ],
      "execution_count": 14,
      "outputs": [
        {
          "output_type": "stream",
          "text": [
            "{'YARETZI', 'XIMENA', 'ZOE', 'HAYLEE', 'HEAVEN', 'YAMILET', 'ZOEY', 'HAYLEY', 'HAZEL'}\n"
          ],
          "name": "stdout"
        }
      ]
    },
    {
      "metadata": {
        "id": "EbqzIUZ-c7ed",
        "colab_type": "text"
      },
      "cell_type": "markdown",
      "source": [
        "## 2. Dictionaries - the root of Python"
      ]
    },
    {
      "metadata": {
        "id": "Rahl1rW13bZT",
        "colab_type": "text"
      },
      "cell_type": "markdown",
      "source": [
        "### Creating and looping through dictionaries (non pythonic)"
      ]
    },
    {
      "metadata": {
        "id": "5Mt9gJZr3iMt",
        "colab_type": "code",
        "colab": {}
      },
      "cell_type": "code",
      "source": [
        "female_2012 = baby_names[(baby_names['BRITH_YEAR'] == 2012) & (baby_names['GENDER'] == 'FEMALE')]\n",
        "\n",
        "girl_name = [name for name in female_2012['NAME']]\n",
        "\n",
        "name_rank = [rank for rank in female_2012['RANK']]\n",
        "\n",
        "pairs = zip(girl_name, name_rank)\n",
        "\n",
        "female_baby_names_2012 = set([pair for idx, pair in enumerate(pairs)])"
      ],
      "execution_count": 0,
      "outputs": []
    },
    {
      "metadata": {
        "id": "XKl1CTxy26Rg",
        "colab_type": "code",
        "colab": {
          "base_uri": "https://localhost:8080/",
          "height": 204
        },
        "outputId": "9e7291e2-94de-4189-bcc6-fc2fb8fadd44"
      },
      "cell_type": "code",
      "source": [
        "# Create an empty dictionary: names\n",
        "names = {}\n",
        "\n",
        "# Loop over the girl names\n",
        "for name, rank in female_baby_names_2012:\n",
        "    # Add each name to the names dictionary using rank as the key\n",
        "    names[rank] = name\n",
        "    \n",
        "# Sort the names list by rank in descending order and slice the first 10 items\n",
        "for rank in sorted(names, reverse=True)[:10]:\n",
        "    # Print each item\n",
        "    print(names[rank])"
      ],
      "execution_count": 16,
      "outputs": [
        {
          "output_type": "stream",
          "text": [
            "BIANCA\n",
            "DALIA\n",
            "POLINA\n",
            "TZIPORA\n",
            "ADA\n",
            "IRIS\n",
            "JANA\n",
            "KATHRYN\n",
            "JULIANNA\n",
            "ETTY\n"
          ],
          "name": "stdout"
        }
      ]
    },
    {
      "metadata": {
        "id": "PFqDky6C9Rpy",
        "colab_type": "text"
      },
      "cell_type": "markdown",
      "source": [
        "### Safely finding by key (non-pythonic)"
      ]
    },
    {
      "metadata": {
        "id": "EcFgu-PA3d54",
        "colab_type": "code",
        "colab": {
          "base_uri": "https://localhost:8080/",
          "height": 73
        },
        "outputId": "f53c3791-0e82-4a4e-db51-ccc2a3c40faf"
      },
      "cell_type": "code",
      "source": [
        "# Safely print rank 7 from the names dictionary\n",
        "print(names.get(7))\n",
        "\n",
        "# Safely print the type of rank 100 from the names dictionary\n",
        "print(type(names.get(100)))\n",
        "\n",
        "# Safely print rank 105 from the names dictionary or 'Not Found'\n",
        "print(names.get(105, 'Not Found'))"
      ],
      "execution_count": 17,
      "outputs": [
        {
          "output_type": "stream",
          "text": [
            "CHAYA\n",
            "<class 'NoneType'>\n",
            "Not Found\n"
          ],
          "name": "stdout"
        }
      ]
    },
    {
      "metadata": {
        "id": "XFwy5XfI9X9w",
        "colab_type": "text"
      },
      "cell_type": "markdown",
      "source": [
        "### Dealing with nested data"
      ]
    },
    {
      "metadata": {
        "id": "nzcVbCHX9gsj",
        "colab_type": "code",
        "colab": {}
      },
      "cell_type": "code",
      "source": [
        "boy_names = {2012: {}, 2013: {1: 'David',  2: 'Joseph',  3: 'Michael',  4: 'Moshe',  5: 'Daniel',  6: 'Benjamin',  7: 'James',  8: 'Jacob',  9: 'Jack',  10: 'Alexander',  11: 'William',  12: 'John',  13: 'Henry',  14: 'Noah',  15: 'Samuel',  16: 'Nicholas',  17: 'Matthew',  18: 'Adam',  19: 'Chaim',  20: 'Abraham',  21: 'Liam',  22: 'Ryan',  23: 'Lucas',  24: 'Anthony',  25: 'Isaac',  26: 'Oliver',  27: 'Andrew',  28: 'Gabriel',  29: 'Yosef',  30: 'Leo',  31: 'Thomas',  32: 'Luke',  33: 'Jackson',  34: 'Shimon',  35: 'Theodore',  36: 'Joshua',  37: 'Christopher',  38: 'Sebastian',  39: 'Mason',  40: 'Eli',  41: 'Nathan',  42: 'Aaron',  43: 'Zachary',  44: 'Aron',  45: 'Luca',  46: 'Yehuda',  47: 'Yitzchok',  48: 'Owen',  49: 'Menachem',  50: 'Logan',  51: 'Aiden',  52: 'Yisroel',  53: 'Peter',  54: 'Yaakov',  55: 'Yakov',  56: 'Omar',  57: 'Levi',  58: 'Simon',  59: 'Shmuel',  60: 'Patrick',  61: 'Connor',  62: 'Jonah',  63: 'Zev',  64: 'Tzvi',  65: 'Nathaniel',  66: 'Harrison',  67: 'Tyler',  68: 'Mark',  69: 'Hunter',  70: 'Mohamed',  71: 'Lipa',  72: 'Mendel',  73: 'Sean',  74: 'Sam',  75: 'Solomon',  76: 'Martin',  77: 'Edward',  78: 'Wyatt',  79: 'Parker',  80: 'Steven', 81: 'Yechiel',  82: 'Nicolas',  83: 'Timothy',  84: 'Spencer',  85: 'Usher',  86: 'Rafael',  87: 'Yusuf',  88: 'Yehoshua',  89: 'Shaya',  90: 'Rayan',  91: 'Tristan',  92: 'Yossi',  93: 'Wesley',  94: 'Yoel',  95: 'Sawyer',  96: 'Yousef',  97: 'Walter',  98: 'Zalmen',  99: 'Yeshaya',  100: 'Yitzchak'}, 2014: {1: 'Joseph',  2: 'David',  3: 'Michael',  4: 'Moshe',  5: 'Jacob',  6: 'Benjamin',  7: 'Alexander',  8: 'Daniel',  9: 'Samuel',  10: 'Jack',  11: 'James',  12: 'Adam',  13: 'William',  14: 'Henry',  15: 'Abraham',  16: 'Nicholas',  17: 'John',  18: 'Ethan',  19: 'Liam',  20: 'Ryan',  21: 'Noah',  22: 'Matthew',  23: 'Chaim',  24: 'Theodore',  25: 'Isaac',  26: 'Lucas',  27: 'Thomas',  28: 'Yosef',  29: 'Anthony',  30: 'Oliver',  31: 'Max',  32: 'Gabriel',  33: 'Eli',  34: 'Shimon',  35: 'Luke',  36: 'Mason',  37: 'Mordechai',  38: 'Andrew',  39: 'Zachary',  40: 'Owen',  41: 'Yehuda',  42: 'Jackson',  43: 'Yisroel',  44: 'Nathan',  45: 'Aiden',  46: 'Christopher',  47: 'Jonathan',  48: 'Asher',  49: 'Logan',  50: 'Robert',  51: 'Yitzchok',  52: 'George',  53: 'Christian',  54: 'Aron',  55: 'Mark',  56: 'Levi',  57: 'Shmuel',  58: 'Miles',  59: 'Shlomo',  60: 'Peter',  61: 'Sean',  62: 'Eliezer',  63: 'Solomon',  64: 'Gavin',  65: 'Zev',  66: 'Nathaniel',  67: 'Yaakov',  68: 'Yakov',  69: 'Hunter',  70: 'Vincent',  71: 'Ari',  72: 'Edward',  73: 'Yechiel',  74: 'Oscar',  75: 'Shia',  76: 'Leonardo',  77: 'Victor',  78: 'Tyler',  79: 'Wyatt',  80: 'Sam',  81: 'Shaya',  82: 'Ian',  83: 'Raphael',  84: 'Philip',  85: 'Timothy',  86: 'Yehoshua',  87: 'Xavier',  88: 'Youssef',  89: 'Simcha',  90: 'Naftali',  91: 'Ronan',  92: 'Usher',  93: 'Shmiel',  94: 'Yousef',  95: 'Naftuli',  96: 'Yusuf',  97: 'Yossi',  98: 'Yisrael', 99: 'Shea',  100: 'Yoel',  101: 'Yahya',  102: 'Yidel'}}"
      ],
      "execution_count": 0,
      "outputs": []
    },
    {
      "metadata": {
        "id": "YpD8j59m9TvW",
        "colab_type": "code",
        "colab": {
          "base_uri": "https://localhost:8080/",
          "height": 131
        },
        "outputId": "ace39f82-254a-4be1-9d27-4f78af5326bd"
      },
      "cell_type": "code",
      "source": [
        "# Print a list of keys from the boy_names dictionary\n",
        "print(boy_names.keys())\n",
        "\n",
        "# Print a list of keys from the boy_names dictionary for the year 2013\n",
        "print(boy_names[2013].keys())\n",
        "\n",
        "# Loop over the dictionary\n",
        "for year in boy_names:\n",
        "    # Safely print the year and the third ranked name or 'Unknown'\n",
        "    print(year, boy_names[year].get(3, 'Unknown'))"
      ],
      "execution_count": 19,
      "outputs": [
        {
          "output_type": "stream",
          "text": [
            "dict_keys([2012, 2013, 2014])\n",
            "dict_keys([1, 2, 3, 4, 5, 6, 7, 8, 9, 10, 11, 12, 13, 14, 15, 16, 17, 18, 19, 20, 21, 22, 23, 24, 25, 26, 27, 28, 29, 30, 31, 32, 33, 34, 35, 36, 37, 38, 39, 40, 41, 42, 43, 44, 45, 46, 47, 48, 49, 50, 51, 52, 53, 54, 55, 56, 57, 58, 59, 60, 61, 62, 63, 64, 65, 66, 67, 68, 69, 70, 71, 72, 73, 74, 75, 76, 77, 78, 79, 80, 81, 82, 83, 84, 85, 86, 87, 88, 89, 90, 91, 92, 93, 94, 95, 96, 97, 98, 99, 100])\n",
            "2012 Unknown\n",
            "2013 Michael\n",
            "2014 Michael\n"
          ],
          "name": "stdout"
        }
      ]
    },
    {
      "metadata": {
        "id": "7pJ4VKrc-HK2",
        "colab_type": "text"
      },
      "cell_type": "markdown",
      "source": [
        "### Adding and extending dictionaries"
      ]
    },
    {
      "metadata": {
        "id": "Rxizik7r-kZQ",
        "colab_type": "code",
        "colab": {}
      },
      "cell_type": "code",
      "source": [
        "names_2011 = {1: 'Michael', 2: 'Joseph', 3: 'Jacob', 4: 'David', 5: 'Benjamin', 6: 'Moshe', 7: 'Daniel', 8: 'Alexander', 9: 'Matthew', 10: 'Jack', 11: 'Samuel', 12: 'James', 13: 'William', 14: 'John', 15: 'Nicholas', 16: 'Henry', 17: 'Chaim',18: 'Anthony', 19: 'Andrew', 20: 'Liam', 21: 'Charles', 22: 'Lucas', 23: 'Dylan', 24: 'Ryan', 25: 'Thomas', 26: 'Ethan', 27: 'Menachem', 28: 'Yosef', 29: 'Luke', 30: 'Oliver', 31: 'Noah', 32: 'Eli', 33: 'Gabriel', 34: 'Max', 35: 'Shimon', 36: 'Isaac', 37: 'Joshua', 38: 'Zachary', 39: 'Leo', 40: 'Julian', 41: 'Aiden', 42: 'Jake', 43: 'Mordechai',44: 'Yisroel', 45: 'Yehuda', 46: 'Sebastian', 47: 'Mark', 48: 'Robert', 49: 'Logan', 50: 'George', 51: 'Owen', 52: 'Vincent', 53: 'Tyler', 54: 'Yakov', 55: 'Aidan', 56: 'Yitzchok', 57: 'Asher', 58: 'Theodore', 59: 'Peter', 60: 'Solomon', 61: 'Zev', 62: 'Nathaniel', 63: 'Yaakov', 64: 'Shmuel', 65: 'Shulem', 66: 'Tzvi', 67: 'Levi',68: 'Jayden', 69: 'Mohamed', 70: 'Cole', 71: 'Sean', 72: 'Sam', 73: 'Victor', 74: 'Omar', 75: 'Steven', 76: 'Moses', 77: 'Shia', 78: 'Usher', 79: 'Nicolas', 80: 'Yechiel', 81: 'Shaya', 82: 'Wyatt', 83: 'Tristan', 84: 'Louis', 85: 'Yehoshua', 86: 'Sholom', 87: 'Yoel', 88: 'Rocco', 89: 'Xavier', 90: 'Yitzchak', 91: 'Shea', 92: 'Spencer', 93: 'Zalmen', 94: 'Yida', 95: 'Yousef', 96: 'Youssef', 97: 'Yonah'}"
      ],
      "execution_count": 0,
      "outputs": []
    },
    {
      "metadata": {
        "id": "aOQBw9mG9aU4",
        "colab_type": "code",
        "colab": {
          "base_uri": "https://localhost:8080/",
          "height": 92
        },
        "outputId": "b0b12903-5236-42f9-ec92-fcefd295dc42"
      },
      "cell_type": "code",
      "source": [
        "# Assign the names_2011 dictionary as the value to the 2011 key of boy_names\n",
        "boy_names[2011] = names_2011\n",
        "\n",
        "# Update the 2012 key in the boy_names dictionary\n",
        "boy_names[2012].update([(1, 'Casey'), (2, 'Aiden')])\n",
        "\n",
        "# Loop over the boy_names dictionary \n",
        "for year in boy_names:\n",
        "    # Loop over and sort the data for each year by descending rank\n",
        "    for rank in sorted(boy_names[year], reverse=True)[:1]:\n",
        "        # Check that you have a rank\n",
        "        if not rank:\n",
        "            print(year, 'No Data Available')\n",
        "        # Safely print the year and the least popular name or 'Not Available'\n",
        "        print(year, boy_names[year].get(rank, 'Not Available'))"
      ],
      "execution_count": 21,
      "outputs": [
        {
          "output_type": "stream",
          "text": [
            "2012 Aiden\n",
            "2013 Yitzchak\n",
            "2014 Yidel\n",
            "2011 Yonah\n"
          ],
          "name": "stdout"
        }
      ]
    },
    {
      "metadata": {
        "id": "CYuY1J6M-yNO",
        "colab_type": "text"
      },
      "cell_type": "markdown",
      "source": [
        "### Popping and deleting from dictionaries"
      ]
    },
    {
      "metadata": {
        "id": "MoY7uu9h-J9i",
        "colab_type": "code",
        "colab": {
          "base_uri": "https://localhost:8080/",
          "height": 56
        },
        "outputId": "18212b9f-cdf2-4d4f-b8c2-e356bd8e4998"
      },
      "cell_type": "code",
      "source": [
        "boy_names[2011] = names_2011\n",
        "\n",
        "# Remove 2011 and store it: boy_names_2011\n",
        "boy_names_2011 = boy_names.pop(2011)\n",
        "\n",
        "# Safely remove 2014 with an empty dictionary as the default: boy_names_2014\n",
        "boy_names_2014 = boy_names.pop(2014, {})\n",
        "\n",
        "# Delete 2012\n",
        "del boy_names[2012]\n",
        "\n",
        "# Print female_names\n",
        "print(boy_names)"
      ],
      "execution_count": 22,
      "outputs": [
        {
          "output_type": "stream",
          "text": [
            "{2013: {1: 'David', 2: 'Joseph', 3: 'Michael', 4: 'Moshe', 5: 'Daniel', 6: 'Benjamin', 7: 'James', 8: 'Jacob', 9: 'Jack', 10: 'Alexander', 11: 'William', 12: 'John', 13: 'Henry', 14: 'Noah', 15: 'Samuel', 16: 'Nicholas', 17: 'Matthew', 18: 'Adam', 19: 'Chaim', 20: 'Abraham', 21: 'Liam', 22: 'Ryan', 23: 'Lucas', 24: 'Anthony', 25: 'Isaac', 26: 'Oliver', 27: 'Andrew', 28: 'Gabriel', 29: 'Yosef', 30: 'Leo', 31: 'Thomas', 32: 'Luke', 33: 'Jackson', 34: 'Shimon', 35: 'Theodore', 36: 'Joshua', 37: 'Christopher', 38: 'Sebastian', 39: 'Mason', 40: 'Eli', 41: 'Nathan', 42: 'Aaron', 43: 'Zachary', 44: 'Aron', 45: 'Luca', 46: 'Yehuda', 47: 'Yitzchok', 48: 'Owen', 49: 'Menachem', 50: 'Logan', 51: 'Aiden', 52: 'Yisroel', 53: 'Peter', 54: 'Yaakov', 55: 'Yakov', 56: 'Omar', 57: 'Levi', 58: 'Simon', 59: 'Shmuel', 60: 'Patrick', 61: 'Connor', 62: 'Jonah', 63: 'Zev', 64: 'Tzvi', 65: 'Nathaniel', 66: 'Harrison', 67: 'Tyler', 68: 'Mark', 69: 'Hunter', 70: 'Mohamed', 71: 'Lipa', 72: 'Mendel', 73: 'Sean', 74: 'Sam', 75: 'Solomon', 76: 'Martin', 77: 'Edward', 78: 'Wyatt', 79: 'Parker', 80: 'Steven', 81: 'Yechiel', 82: 'Nicolas', 83: 'Timothy', 84: 'Spencer', 85: 'Usher', 86: 'Rafael', 87: 'Yusuf', 88: 'Yehoshua', 89: 'Shaya', 90: 'Rayan', 91: 'Tristan', 92: 'Yossi', 93: 'Wesley', 94: 'Yoel', 95: 'Sawyer', 96: 'Yousef', 97: 'Walter', 98: 'Zalmen', 99: 'Yeshaya', 100: 'Yitzchak'}}\n"
          ],
          "name": "stdout"
        }
      ]
    },
    {
      "metadata": {
        "id": "vjczFsEReCYu",
        "colab_type": "text"
      },
      "cell_type": "markdown",
      "source": [
        "### Working with dictionaries more pythonically"
      ]
    },
    {
      "metadata": {
        "id": "IBEWdL6TeU5w",
        "colab_type": "code",
        "colab": {}
      },
      "cell_type": "code",
      "source": [
        "boy_names = {2012: {}, 2014: {1: 'Joseph',  2: 'David',  3: 'Michael',  4: 'Moshe',  5: 'Jacob',  6: 'Benjamin',  7: 'Alexander',  8: 'Daniel',  9: 'Samuel',  10: 'Jack'}}"
      ],
      "execution_count": 0,
      "outputs": []
    },
    {
      "metadata": {
        "id": "ZvmAUECleET5",
        "colab_type": "code",
        "colab": {
          "base_uri": "https://localhost:8080/",
          "height": 204
        },
        "outputId": "bfc4e392-1dda-4062-8ea1-aebf7ab5b2b0"
      },
      "cell_type": "code",
      "source": [
        "# Iterate over the 2014 nested dictionary\n",
        "for rank, name in boy_names[2014].items():\n",
        "    # Print rank and name\n",
        "    print(rank, name)\n",
        "    \n",
        "# Iterate over the 2012 nested dictionary\n",
        "for rank, name in boy_names[2012].items():\n",
        "    # Print rank and name\n",
        "    print(rank, name)"
      ],
      "execution_count": 24,
      "outputs": [
        {
          "output_type": "stream",
          "text": [
            "1 Joseph\n",
            "2 David\n",
            "3 Michael\n",
            "4 Moshe\n",
            "5 Jacob\n",
            "6 Benjamin\n",
            "7 Alexander\n",
            "8 Daniel\n",
            "9 Samuel\n",
            "10 Jack\n"
          ],
          "name": "stdout"
        }
      ]
    },
    {
      "metadata": {
        "id": "vpcyxhx5fwXn",
        "colab_type": "text"
      },
      "cell_type": "markdown",
      "source": [
        "### Checking dictionaries for data more pythonically"
      ]
    },
    {
      "metadata": {
        "id": "eVl22bbygCbd",
        "colab_type": "code",
        "colab": {}
      },
      "cell_type": "code",
      "source": [
        "baby_names = {2012: {}, 2013: {1: 'David',  2: 'Joseph',  3: 'Michael',  4: 'Moshe',  5: 'Daniel',  6: 'Benjamin',  7: 'James',  8: 'Jacob',  9: 'Jack',  10: 'Alexander'}, 2014: {1: 'Joseph',  2: 'David',  3: 'Michael',  4: 'Moshe',  5: 'Jacob',  6: 'Benjamin',  7: 'Alexander',  8: 'Daniel',  9: 'Samuel',  10: 'Jack'}}"
      ],
      "execution_count": 0,
      "outputs": []
    },
    {
      "metadata": {
        "id": "fks47dF_XdMo",
        "colab_type": "code",
        "colab": {
          "base_uri": "https://localhost:8080/",
          "height": 55
        },
        "outputId": "040ad393-571c-41bf-97b0-1e2996c167d2"
      },
      "cell_type": "code",
      "source": [
        "# Check to see if 2011 is in baby_names\n",
        "if 2011 in baby_names:\n",
        "    # Print 'Found 2011'\n",
        "    print('Found 2011')\n",
        "    \n",
        "# Check to see if rank 1 is in 2012\n",
        "if 1 in baby_names[2012]:\n",
        "    # Print 'Found Rank 1 in 2012' if found\n",
        "    print('Found Rank 1 in 2012')\n",
        "else:\n",
        "    # Print 'Rank 1 missing from 2012' if not found\n",
        "    print('Rank 1 missing from 2012')\n",
        "    \n",
        "# Check to see if Rank 5 is in 2013\n",
        "if 5 in baby_names[2013]:\n",
        "   # Print 'Found Rank 5'\n",
        "   print('Found Rank 5')"
      ],
      "execution_count": 26,
      "outputs": [
        {
          "output_type": "stream",
          "text": [
            "Rank 1 missing from 2012\n",
            "Found Rank 5\n"
          ],
          "name": "stdout"
        }
      ]
    },
    {
      "metadata": {
        "id": "hrGsC5qAgV1f",
        "colab_type": "text"
      },
      "cell_type": "markdown",
      "source": [
        "### Creating a dictionary from a file"
      ]
    },
    {
      "metadata": {
        "id": "sPFQJNRyhdYS",
        "colab_type": "code",
        "colab": {
          "base_uri": "https://localhost:8080/",
          "height": 36
        },
        "outputId": "a36dde5f-c411-4a72-9ba4-d0136c2b4338"
      },
      "cell_type": "code",
      "source": [
        "# Import the python CSV module\n",
        "import csv\n",
        "\n",
        "# Create a python file object in read mode for the baby_names.csv file: csvfile\n",
        "csvfile = open('baby_names.csv', 'r')\n",
        "\n",
        "reader = csv.reader(csvfile)\n",
        "\n",
        "print(next(reader))"
      ],
      "execution_count": 27,
      "outputs": [
        {
          "output_type": "stream",
          "text": [
            "['BRITH_YEAR', 'GENDER', 'ETHNICTY', 'NAME', 'COUNT', 'RANK']\n"
          ],
          "name": "stdout"
        }
      ]
    },
    {
      "metadata": {
        "id": "GI4poUFvf63w",
        "colab_type": "code",
        "colab": {
          "base_uri": "https://localhost:8080/",
          "height": 56
        },
        "outputId": "d2a0dd0e-822e-41ca-b081-0a5a659f745e"
      },
      "cell_type": "code",
      "source": [
        "# Dictionary comprehension\n",
        "baby_names = {row[5]:row[3]for row in reader}\n",
        "\n",
        "# Print the dictionary keys\n",
        "print(baby_names.keys())"
      ],
      "execution_count": 28,
      "outputs": [
        {
          "output_type": "stream",
          "text": [
            "dict_keys(['75', '67', '42', '51', '53', '62', '8', '74', '71', '78', '73', '72', '77', '60', '1', '70', '61', '65', '58', '41', '76', '68', '48', '55', '40', '66', '64', '34', '44', '57', '63', '33', '31', '20', '69', '35', '13', '52', '59', '39', '9', '27', '10', '56', '12', '2', '25', '18', '14', '38', '28', '6', '3', '19', '45', '47', '11', '79', '17', '43', '80', '37', '81', '46', '5', '22', '50', '21', '30', '24', '54', '15', '36', '23', '7', '16', '49', '29', '4', '32', '26', '92', '90', '82', '91', '88', '89', '94', '83', '93', '84', '87', '85', '86', '96', '97', '95', '99', '98', '100', '101', '102'])\n"
          ],
          "name": "stdout"
        }
      ]
    },
    {
      "metadata": {
        "id": "Iky80E8Ij_fZ",
        "colab_type": "text"
      },
      "cell_type": "markdown",
      "source": [
        "## 3. Meet the collections module"
      ]
    },
    {
      "metadata": {
        "id": "Ypb3VafmlHKT",
        "colab_type": "text"
      },
      "cell_type": "markdown",
      "source": [
        "### Using Counter on lists"
      ]
    },
    {
      "metadata": {
        "id": "gcDlmt2_laik",
        "colab_type": "code",
        "colab": {}
      },
      "cell_type": "code",
      "source": [
        "stations = ['stationname', 'Austin-Forest Park', 'Austin-Forest Park', 'Austin-Forest Park', 'Austin-Forest Park', 'Austin-Forest Park', 'Austin-Forest Park', 'Harlem-Lake', 'Harlem-Lake', 'Harlem-Lake', 'Harlem-Lake', 'Harlem-Lake', 'Harlem-Lake', 'Pulaski-Lake', 'Pulaski-Lake', 'Pulaski-Lake', 'Pulaski-Lake', 'Pulaski-Lake', 'Pulaski-Lake', 'Pulaski-Lake', 'Pulaski-Lake', 'Quincy/Wells', 'Quincy/Wells', 'Quincy/Wells', 'Quincy/Wells', 'Quincy/Wells', 'Quincy/Wells', 'Davis', 'Davis', 'Davis', 'Davis', 'Davis', \"Belmont-O'Hare\", \"Belmont-O'Hare\", \"Belmont-O'Hare\", \"Belmont-O'Hare\",]"
      ],
      "execution_count": 0,
      "outputs": []
    },
    {
      "metadata": {
        "id": "N8JBdHA2gYSW",
        "colab_type": "code",
        "colab": {
          "base_uri": "https://localhost:8080/",
          "height": 56
        },
        "outputId": "826f664f-1489-4d08-fec7-9da86dcc59b4"
      },
      "cell_type": "code",
      "source": [
        "# Import the Counter object\n",
        "from collections import Counter\n",
        "\n",
        "# Create a Counter of the stations list: station_count\n",
        "station_count = Counter(stations)\n",
        "\n",
        "# Print the station_count\n",
        "print(station_count)"
      ],
      "execution_count": 30,
      "outputs": [
        {
          "output_type": "stream",
          "text": [
            "Counter({'Pulaski-Lake': 8, 'Austin-Forest Park': 6, 'Harlem-Lake': 6, 'Quincy/Wells': 6, 'Davis': 5, \"Belmont-O'Hare\": 4, 'stationname': 1})\n"
          ],
          "name": "stdout"
        }
      ]
    },
    {
      "metadata": {
        "id": "vJNTR4j5mLrH",
        "colab_type": "text"
      },
      "cell_type": "markdown",
      "source": [
        "### Finding most common elements"
      ]
    },
    {
      "metadata": {
        "id": "X3quW_8ukb9s",
        "colab_type": "code",
        "colab": {
          "base_uri": "https://localhost:8080/",
          "height": 36
        },
        "outputId": "c7cd519e-2a99-4105-ef5d-2eec1533b894"
      },
      "cell_type": "code",
      "source": [
        "# Find the 3 most common elements in the Counter of the stations list\n",
        "print(station_count.most_common(3))"
      ],
      "execution_count": 31,
      "outputs": [
        {
          "output_type": "stream",
          "text": [
            "[('Pulaski-Lake', 8), ('Austin-Forest Park', 6), ('Harlem-Lake', 6)]\n"
          ],
          "name": "stdout"
        }
      ]
    },
    {
      "metadata": {
        "id": "l0Kt8BqMmkRd",
        "colab_type": "text"
      },
      "cell_type": "markdown",
      "source": [
        "### Creating dictionaries of an unknown structure"
      ]
    },
    {
      "metadata": {
        "id": "pTDN99O0myI_",
        "colab_type": "code",
        "colab": {}
      },
      "cell_type": "code",
      "source": [
        "entries = [('01/01/2015', 'Austin-Forest Park', '587'),  ('01/02/2015', 'Austin-Forest Park', '1386'), ('01/03/2015', 'Austin-Forest Park', '785'), ('01/26/2015', 'Harlem-Lake', '3673'), ('01/27/2015', 'Harlem-Lake', '3885'), ('01/28/2015', 'Harlem-Lake', '3944'), ('01/29/2015', 'Harlem-Lake', '3872'), ('01/30/2015', 'Harlem-Lake', '4010'), ('01/31/2015', 'Harlem-Lake', '2311'), ('01/01/2015', 'Pulaski-Lake', '811'), ('01/02/2015', 'Pulaski-Lake', '1529'), ('01/03/2015', 'Pulaski-Lake', '1096'), ('01/26/2015', 'Quincy/Wells', '7906'), ('01/27/2015', 'Quincy/Wells', '8278'), ('01/28/2015', 'Quincy/Wells', '8185'), ('01/29/2015', 'Quincy/Wells', '7916'), ('01/30/2015', 'Quincy/Wells', '7593'), ('01/31/2015', 'Quincy/Wells', '1390'), ('01/01/2015', 'Davis', '1400'), ('01/02/2015', 'Davis', '2997'), ('01/03/2015', 'Davis', '2079'), ('01/14/2015', 'Davis', '3761'), ('01/15/2015', 'Davis', '3870'), ('01/16/2015', 'Davis', '4150'), ('01/17/2015', 'Davis', '3024'), ('01/18/2015', 'Davis', '2099')]"
      ],
      "execution_count": 0,
      "outputs": []
    },
    {
      "metadata": {
        "id": "n8oELbkRmWen",
        "colab_type": "code",
        "colab": {
          "base_uri": "https://localhost:8080/",
          "height": 75
        },
        "outputId": "fb1d0db3-a6fa-457d-acf8-f7ac85edd841"
      },
      "cell_type": "code",
      "source": [
        "# Create an empty dictionary: ridership\n",
        "ridership = {}\n",
        "\n",
        "# Iterate over the entries\n",
        "for date, stop, riders in entries:\n",
        "    # Check to see if date is already in the dictionary\n",
        "    if date not in ridership:\n",
        "        # Create an empty list for any missing date\n",
        "        ridership[date] = []\n",
        "    # Append the stop and riders as a tuple to the date keys list\n",
        "    ridership[date].append(riders)\n",
        "    \n",
        "# Print the ridership for '01/03/2015'\n",
        "print(ridership['01/03/2015'])\n",
        "\n",
        "# Print the first 5 items of the ridership dictionary\n",
        "print(list(ridership.items())[:5])"
      ],
      "execution_count": 33,
      "outputs": [
        {
          "output_type": "stream",
          "text": [
            "['785', '1096', '2079']\n",
            "[('01/01/2015', ['587', '811', '1400']), ('01/02/2015', ['1386', '1529', '2997']), ('01/03/2015', ['785', '1096', '2079']), ('01/26/2015', ['3673', '7906']), ('01/27/2015', ['3885', '8278'])]\n"
          ],
          "name": "stdout"
        }
      ]
    },
    {
      "metadata": {
        "id": "DsINmxW4nWak",
        "colab_type": "text"
      },
      "cell_type": "markdown",
      "source": [
        "### Safely appending to a key's value list with Defaultdict"
      ]
    },
    {
      "metadata": {
        "id": "vvEEcGF9mpnP",
        "colab_type": "code",
        "colab": {
          "base_uri": "https://localhost:8080/",
          "height": 56
        },
        "outputId": "cc2a8217-befe-4ed3-85ce-0afcad391f3f"
      },
      "cell_type": "code",
      "source": [
        "# Import defaultdict\n",
        "from collections import defaultdict\n",
        "\n",
        "# Create a defaultdict with a default type of list: ridership\n",
        "ridership = defaultdict(list)\n",
        "\n",
        "# Iterate over the entries\n",
        "for date, stop, riders in entries:\n",
        "    # Use the date as the key of ridership and append the riders to its value\n",
        "    ridership[date].append(int(riders))\n",
        "    \n",
        "# Print the first 10 items of the ridership dictionary\n",
        "print(list(ridership.items())[:5])"
      ],
      "execution_count": 34,
      "outputs": [
        {
          "output_type": "stream",
          "text": [
            "[('01/01/2015', [587, 811, 1400]), ('01/02/2015', [1386, 1529, 2997]), ('01/03/2015', [785, 1096, 2079]), ('01/26/2015', [3673, 7906]), ('01/27/2015', [3885, 8278])]\n"
          ],
          "name": "stdout"
        }
      ]
    },
    {
      "metadata": {
        "id": "FFS5m3HCnhda",
        "colab_type": "text"
      },
      "cell_type": "markdown",
      "source": [
        "### Working with OrderedDictionaries"
      ]
    },
    {
      "metadata": {
        "id": "MbEblH3ZnbzS",
        "colab_type": "code",
        "colab": {
          "base_uri": "https://localhost:8080/",
          "height": 36
        },
        "outputId": "e2fcecc4-a73f-42af-c45b-e06c08bd8abe"
      },
      "cell_type": "code",
      "source": [
        "# Import OrderedDict from collections\n",
        "from collections import OrderedDict\n",
        "\n",
        "# Create an OrderedDict called: ridership_date\n",
        "ridership_date = OrderedDict()\n",
        "\n",
        "# Iterate over the entries\n",
        "for date, stop, riders in entries:\n",
        "    # If a key does not exist in ridership_date, set it to 0\n",
        "    if not date in ridership_date:\n",
        "        ridership_date[date] = 0\n",
        "        \n",
        "    # Add riders to the date key in ridership_date\n",
        "    ridership_date[date] += int(riders)\n",
        "    \n",
        "# Print the first 5 records\n",
        "print(list(ridership_date.items())[:5])"
      ],
      "execution_count": 35,
      "outputs": [
        {
          "output_type": "stream",
          "text": [
            "[('01/01/2015', 2798), ('01/02/2015', 5912), ('01/03/2015', 3960), ('01/26/2015', 11579), ('01/27/2015', 12163)]\n"
          ],
          "name": "stdout"
        }
      ]
    },
    {
      "metadata": {
        "id": "1_nyJfV5uzca",
        "colab_type": "text"
      },
      "cell_type": "markdown",
      "source": [
        "### Powerful Ordered popping"
      ]
    },
    {
      "metadata": {
        "id": "8FZV8tAtrpRF",
        "colab_type": "code",
        "colab": {
          "base_uri": "https://localhost:8080/",
          "height": 92
        },
        "outputId": "c7e6de93-54a5-4f34-b03e-174a4aa3c9f6"
      },
      "cell_type": "code",
      "source": [
        "# Print the first key in ridership_date\n",
        "print(list(ridership_date.keys())[0])\n",
        "\n",
        "# Pop the first item from ridership_date and print it\n",
        "print(ridership_date.popitem(last=False))\n",
        "\n",
        "# Print the last key in ridership_date\n",
        "print(list(ridership_date.keys())[-1])\n",
        "\n",
        "# Pop the last item from ridership_date and print it\n",
        "print(ridership_date.popitem())"
      ],
      "execution_count": 36,
      "outputs": [
        {
          "output_type": "stream",
          "text": [
            "01/01/2015\n",
            "('01/01/2015', 2798)\n",
            "01/18/2015\n",
            "('01/18/2015', 2099)\n"
          ],
          "name": "stdout"
        }
      ]
    },
    {
      "metadata": {
        "id": "NAc0qX0nu6u6",
        "colab_type": "text"
      },
      "cell_type": "markdown",
      "source": [
        "### Creating namedtuples for storing data"
      ]
    },
    {
      "metadata": {
        "id": "ZlrFAzwfu1qR",
        "colab_type": "code",
        "colab": {
          "base_uri": "https://localhost:8080/",
          "height": 56
        },
        "outputId": "2773876b-551e-44a0-a466-81ad51f6d6d7"
      },
      "cell_type": "code",
      "source": [
        "# Import namedtuple from collections\n",
        "from collections import namedtuple\n",
        "\n",
        "# Create the namedtuple: DateDetails\n",
        "DateDetails = namedtuple('DateDetails', ['date', 'stop', 'riders'])\n",
        "\n",
        "# Create the empty list: labeled_entries\n",
        "labeled_entries = []\n",
        "\n",
        "# Iterate over the entries\n",
        "for date, stop, riders in entries:\n",
        "    # Append a new DateDetails namedtuple instance for each entry to labeled_entries\n",
        "    labeled_entries.append(DateDetails(date, stop, riders))\n",
        "    \n",
        "# Print the first 5 items in labeled_entries\n",
        "print(labeled_entries[:5])"
      ],
      "execution_count": 37,
      "outputs": [
        {
          "output_type": "stream",
          "text": [
            "[DateDetails(date='01/01/2015', stop='Austin-Forest Park', riders='587'), DateDetails(date='01/02/2015', stop='Austin-Forest Park', riders='1386'), DateDetails(date='01/03/2015', stop='Austin-Forest Park', riders='785'), DateDetails(date='01/26/2015', stop='Harlem-Lake', riders='3673'), DateDetails(date='01/27/2015', stop='Harlem-Lake', riders='3885')]\n"
          ],
          "name": "stdout"
        }
      ]
    },
    {
      "metadata": {
        "id": "Cv_togm3vCui",
        "colab_type": "text"
      },
      "cell_type": "markdown",
      "source": [
        "### Leveraging attributes on namedtuples"
      ]
    },
    {
      "metadata": {
        "id": "G2fjkdy8u9Gp",
        "colab_type": "code",
        "colab": {
          "base_uri": "https://localhost:8080/",
          "height": 297
        },
        "outputId": "17bf1e60-0936-4fa5-d866-fc63d0bc0cf8"
      },
      "cell_type": "code",
      "source": [
        "# Iterate over the first twenty items in labeled_entries\n",
        "for item in labeled_entries[:5]:\n",
        "    # Print each item's stop\n",
        "    print(item.stop)\n",
        "\n",
        "    # Print each item's date\n",
        "    print(item.date)\n",
        "\n",
        "    # Print each item's riders\n",
        "    print(item.riders)"
      ],
      "execution_count": 38,
      "outputs": [
        {
          "output_type": "stream",
          "text": [
            "Austin-Forest Park\n",
            "01/01/2015\n",
            "587\n",
            "Austin-Forest Park\n",
            "01/02/2015\n",
            "1386\n",
            "Austin-Forest Park\n",
            "01/03/2015\n",
            "785\n",
            "Harlem-Lake\n",
            "01/26/2015\n",
            "3673\n",
            "Harlem-Lake\n",
            "01/27/2015\n",
            "3885\n"
          ],
          "name": "stdout"
        }
      ]
    },
    {
      "metadata": {
        "id": "tabcSvtgvOO2",
        "colab_type": "text"
      },
      "cell_type": "markdown",
      "source": [
        "## 2. Handling Dates and Times"
      ]
    },
    {
      "metadata": {
        "id": "SZNKjR2BvTlv",
        "colab_type": "text"
      },
      "cell_type": "markdown",
      "source": [
        "### Strings to DateTimes"
      ]
    },
    {
      "metadata": {
        "id": "8a3pl7pvvb8j",
        "colab_type": "code",
        "colab": {}
      },
      "cell_type": "code",
      "source": [
        "dates_list = ['02/19/2001', '04/10/2001', '05/30/2001', '07/19/2001', '09/07/2001', '10/27/2001', '12/16/2001', '02/04/2002', '03/26/2002', '05/15/2002', '07/04/2002', '08/23/2002', '10/12/2002', '12/01/2002', '01/20/2003', '03/11/2003', '04/30/2003', '06/19/2003', '08/08/2003', '09/27/2003', '11/16/2003', '01/05/2004', '02/24/2004', '04/14/2004', '06/03/2004', '07/23/2004', '09/11/2004', '10/31/2004', '12/20/2004', '02/08/2005', '03/30/2005', '05/19/2005', '07/08/2005', '08/27/2005', '10/16/2005', '12/05/2005', '01/24/2006', '03/15/2006', '05/04/2006', '06/23/2006', '08/12/2006', '10/01/2006', '11/20/2006', '01/09/2007','02/28/2007', '04/19/2007', '06/08/2007', '07/28/2007', '09/16/2007', '11/05/2007', '12/25/2007', '02/13/2008', '04/03/2008', '05/23/2008', '07/12/2008', '08/31/2008', '10/20/2008','12/09/2008', '01/28/2009', '03/19/2009', '05/08/2009', '06/27/2009', '08/16/2009', '10/05/2009', '11/24/2009', '01/13/2010', '03/04/2010', '04/23/2010', '06/12/2010', '08/01/2010', '09/20/2010', '11/09/2010', '12/29/2010', '02/17/2011', '04/08/2011', '05/28/2011', '07/17/2011', '09/05/2011', '10/24/2011', '11/12/2011', '01/01/2012', '02/20/2012', '04/10/2012', '05/30/2012', '07/19/2012', '09/07/2012', '10/27/2012', '12/16/2012', '02/04/2013', '03/26/2013', '05/15/2013', '07/04/2013', '08/23/2013', '10/12/2013', '12/01/2013', '01/20/2014', '03/11/2014', '04/30/2014', '06/19/2014', '08/08/2014', '09/27/2014', '11/16/2014', '07/05/2014', '01/24/2015', '03/15/2015', '05/04/2015', '06/23/2015', '08/12/2015', '10/01/2015', '11/20/2015', '01/09/2016', '02/28/2016', '04/18/2016', '06/07/2016', '07/27/2016', '09/15/2016', '11/04/2016']"
      ],
      "execution_count": 0,
      "outputs": []
    },
    {
      "metadata": {
        "id": "Poui7JH0vE5X",
        "colab_type": "code",
        "colab": {
          "base_uri": "https://localhost:8080/",
          "height": 55
        },
        "outputId": "9a55e45e-9ba8-4c58-bfc7-138508d557cb"
      },
      "cell_type": "code",
      "source": [
        "# Import the datetime object from datetime\n",
        "from datetime import datetime\n",
        "\n",
        "datetimes_list = []\n",
        "\n",
        "# Iterate over the dates_list \n",
        "for date in dates_list:\n",
        "    # Convert each date to a datetime object: date_dt\n",
        "    date_dt = datetime.strptime(date, '%m/%d/%Y')\n",
        "    datetimes_list.append(date_dt)\n",
        "    # Print each date_dt\n",
        "\n",
        "print(dates_list[-1], type(dates_list[-1]))\n",
        "print(date_dt, type(date_dt))"
      ],
      "execution_count": 40,
      "outputs": [
        {
          "output_type": "stream",
          "text": [
            "11/04/2016 <class 'str'>\n",
            "2016-11-04 00:00:00 <class 'datetime.datetime'>\n"
          ],
          "name": "stdout"
        }
      ]
    },
    {
      "metadata": {
        "id": "dhhTGo6JzFI6",
        "colab_type": "text"
      },
      "cell_type": "markdown",
      "source": [
        "### Converting to a String"
      ]
    },
    {
      "metadata": {
        "id": "9npL-gnNvXeM",
        "colab_type": "code",
        "colab": {
          "base_uri": "https://localhost:8080/",
          "height": 391
        },
        "outputId": "2a1c839d-35f5-4c70-a226-49b3da73aa0a"
      },
      "cell_type": "code",
      "source": [
        "# Loop over the first 10 items of the datetimes_list\n",
        "for item in datetimes_list[:10]:\n",
        "    # Print out the record as a string in the format of 'MM/DD/YYYY'\n",
        "    print(datetime.strftime(item, '%m/%d/%Y'))\n",
        "    \n",
        "    # Print out the record as an ISO standard string\n",
        "    print(datetime.isoformat(item))"
      ],
      "execution_count": 41,
      "outputs": [
        {
          "output_type": "stream",
          "text": [
            "02/19/2001\n",
            "2001-02-19T00:00:00\n",
            "04/10/2001\n",
            "2001-04-10T00:00:00\n",
            "05/30/2001\n",
            "2001-05-30T00:00:00\n",
            "07/19/2001\n",
            "2001-07-19T00:00:00\n",
            "09/07/2001\n",
            "2001-09-07T00:00:00\n",
            "10/27/2001\n",
            "2001-10-27T00:00:00\n",
            "12/16/2001\n",
            "2001-12-16T00:00:00\n",
            "02/04/2002\n",
            "2002-02-04T00:00:00\n",
            "03/26/2002\n",
            "2002-03-26T00:00:00\n",
            "05/15/2002\n",
            "2002-05-15T00:00:00\n"
          ],
          "name": "stdout"
        }
      ]
    },
    {
      "metadata": {
        "id": "IlLTrdUY0eOI",
        "colab_type": "text"
      },
      "cell_type": "markdown",
      "source": [
        "### Pieces of Time"
      ]
    },
    {
      "metadata": {
        "id": "0KwrtbH-0pLw",
        "colab_type": "code",
        "colab": {}
      },
      "cell_type": "code",
      "source": [
        "daily_summaries = [('01/01/2001', 'U', '297192', '126455', '423647'), ('01/02/2001', 'W', '780827', '501952', '1282779'), ('01/03/2001', 'W', '824923', '536432', '1361355'), ('01/04/2001', 'W', '870021', '550011', '1420032'), ('01/05/2001', 'W', '890426', '557917', '1448343'), ('01/06/2001', 'A', '577401', '255356', '832757'), ('01/07/2001', 'U', '375831', '169825', '545656'), ('01/08/2001', 'W', '985221', '590706', '1575927'), ('01/09/2001', 'W', '978377', '599905', '1578282'), ('01/10/2001', 'W', '984884', '602052', '1586936'), ('01/11/2001', 'W', '995561', '607503', '1603064'), ('01/12/2001', 'W', '1018985', '605252', '1624237'), ('01/13/2001', 'A', '591791', '270056', '861847'), ('01/14/2001', 'U', '373091', '174842', '547933'), ('01/15/2001', 'W', '675845', '412149', '1087994'), ('01/16/2001', 'W', '1024367', '622163', '1646530'), ('01/17/2001', 'W', '1018690', '620343', '1639033'), ('01/18/2001', 'W', '1006996', '618832', '1625828'), ('01/19/2001', 'W', '909964', '583851', '1493815'), ('01/20/2001', 'A', '582348', '263815', '846163'), ('01/21/2001', 'U', '378381', '172107', '550488'), ('01/22/2001', 'W', '1005936', '598777', '1604713'), ('01/23/2001', 'W', '1019983', '610352', '1630335'), ('01/24/2001', 'W', '991661', '606835', '1598496'), ('01/25/2001', 'W', '1004257', '609877', '1614134'), ('01/26/2001', 'W', '965324', '597039', '1562363'), ('01/27/2001', 'A', '590836', '268078', '858914'), ('01/28/2001', 'U', '368819', '174434', '543253'), ('01/29/2001', 'W', '953532', '587052', '1540584'), ('01/30/2001', 'W', '982046', '607858', '1589904'), ('01/31/2001', 'W', '999392', '610508', '1609900')]"
      ],
      "execution_count": 0,
      "outputs": []
    },
    {
      "metadata": {
        "id": "wZUu42CdzHfV",
        "colab_type": "code",
        "colab": {
          "base_uri": "https://localhost:8080/",
          "height": 36
        },
        "outputId": "c00c8f38-ecfe-40cc-9233-47ab037f6905"
      },
      "cell_type": "code",
      "source": [
        "# Create a defaultdict of an integer: monthly_total_rides\n",
        "monthly_total_rides = defaultdict(int)\n",
        "\n",
        "# Loop over the list daily_summaries\n",
        "for daily_summary in daily_summaries:\n",
        "    # Convert the service_date to a datetime object\n",
        "    service_datetime = datetime.strptime(daily_summary[0], '%m/%d/%Y')\n",
        "\n",
        "    # Add the total rides to the current amount for the month\n",
        "    monthly_total_rides[service_datetime.month] += int(daily_summary[4])\n",
        "    \n",
        "# Print monthly_total_rides\n",
        "print(monthly_total_rides)"
      ],
      "execution_count": 43,
      "outputs": [
        {
          "output_type": "stream",
          "text": [
            "defaultdict(<class 'int'>, {1: 39735242})\n"
          ],
          "name": "stdout"
        }
      ]
    },
    {
      "metadata": {
        "id": "Yo6P0MdH3v8U",
        "colab_type": "text"
      },
      "cell_type": "markdown",
      "source": [
        "### Creating DateTime Objects... Now"
      ]
    },
    {
      "metadata": {
        "id": "f3WGk6Nn0gEN",
        "colab_type": "code",
        "colab": {
          "base_uri": "https://localhost:8080/",
          "height": 55
        },
        "outputId": "a9f4853b-78d3-4d0a-d838-fe4c6a9ce7df"
      },
      "cell_type": "code",
      "source": [
        "# Import datetime from the datetime module\n",
        "from datetime import datetime\n",
        "\n",
        "# Compute the local datetime: local_dt\n",
        "local_dt = datetime.now()\n",
        "\n",
        "# Print the local datetime\n",
        "print(local_dt)\n",
        "\n",
        "# Compute the UTC datetime: utc_dt\n",
        "utc_dt = datetime.utcnow()\n",
        "\n",
        "# Print the UTC datetime\n",
        "print(utc_dt)"
      ],
      "execution_count": 44,
      "outputs": [
        {
          "output_type": "stream",
          "text": [
            "2018-09-04 15:59:13.030063\n",
            "2018-09-04 15:59:13.032068\n"
          ],
          "name": "stdout"
        }
      ]
    },
    {
      "metadata": {
        "id": "u7yl12Zc36ZE",
        "colab_type": "text"
      },
      "cell_type": "markdown",
      "source": [
        "### Timezones"
      ]
    },
    {
      "metadata": {
        "id": "0ytdl0nO3yLT",
        "colab_type": "code",
        "colab": {
          "base_uri": "https://localhost:8080/",
          "height": 204
        },
        "outputId": "9680f16b-7cdc-4201-ed04-20ca41a9a148"
      },
      "cell_type": "code",
      "source": [
        "from pytz import timezone\n",
        "\n",
        "# Create a Timezone object for Chicago\n",
        "chicago_usa_tz = timezone('US/Central')\n",
        "\n",
        "# Create a Timezone object for New York\n",
        "ny_usa_tz = timezone('US/Eastern')\n",
        "\n",
        "# Iterate over the daily_summaries list\n",
        "for row in daily_summaries[:10]:\n",
        "    orig_dt = datetime.strptime(row[0], '%m/%d/%Y')\n",
        "    ridership = row[4]\n",
        "    \n",
        "    # Make the orig_dt timezone \"aware\" for Chicago\n",
        "    chicago_dt = orig_dt.replace(tzinfo=chicago_usa_tz)\n",
        "    \n",
        "    # Convert chicago_dt to the New York Timezone\n",
        "    ny_dt = chicago_dt.astimezone(ny_usa_tz)\n",
        "    \n",
        "    # Print the chicago_dt, ny_dt, and ridership\n",
        "    print('Chicago: %s, NY: %s, Ridership: %s' % (chicago_dt, ny_dt, ridership))"
      ],
      "execution_count": 45,
      "outputs": [
        {
          "output_type": "stream",
          "text": [
            "Chicago: 2001-01-01 00:00:00-05:51, NY: 2001-01-01 00:51:00-05:00, Ridership: 423647\n",
            "Chicago: 2001-01-02 00:00:00-05:51, NY: 2001-01-02 00:51:00-05:00, Ridership: 1282779\n",
            "Chicago: 2001-01-03 00:00:00-05:51, NY: 2001-01-03 00:51:00-05:00, Ridership: 1361355\n",
            "Chicago: 2001-01-04 00:00:00-05:51, NY: 2001-01-04 00:51:00-05:00, Ridership: 1420032\n",
            "Chicago: 2001-01-05 00:00:00-05:51, NY: 2001-01-05 00:51:00-05:00, Ridership: 1448343\n",
            "Chicago: 2001-01-06 00:00:00-05:51, NY: 2001-01-06 00:51:00-05:00, Ridership: 832757\n",
            "Chicago: 2001-01-07 00:00:00-05:51, NY: 2001-01-07 00:51:00-05:00, Ridership: 545656\n",
            "Chicago: 2001-01-08 00:00:00-05:51, NY: 2001-01-08 00:51:00-05:00, Ridership: 1575927\n",
            "Chicago: 2001-01-09 00:00:00-05:51, NY: 2001-01-09 00:51:00-05:00, Ridership: 1578282\n",
            "Chicago: 2001-01-10 00:00:00-05:51, NY: 2001-01-10 00:51:00-05:00, Ridership: 1586936\n"
          ],
          "name": "stdout"
        }
      ]
    },
    {
      "metadata": {
        "id": "CTDwRWyrUML_",
        "colab_type": "text"
      },
      "cell_type": "markdown",
      "source": [
        "### Localizing time with pendulum"
      ]
    },
    {
      "metadata": {
        "id": "fhaAgRtXUQZV",
        "colab_type": "code",
        "colab": {
          "base_uri": "https://localhost:8080/",
          "height": 317
        },
        "outputId": "1fe74ea5-6e3a-4017-ea67-6c5778f62fec"
      },
      "cell_type": "code",
      "source": [
        "!pip install pendulum"
      ],
      "execution_count": 48,
      "outputs": [
        {
          "output_type": "stream",
          "text": [
            "Collecting pendulum\n",
            "\u001b[?25l  Downloading https://files.pythonhosted.org/packages/b0/2b/1699eb626ce9bb79dcf710349b0eb45318cd38ad1c1dda3c95802fa0570f/pendulum-2.0.3-cp36-cp36m-manylinux1_x86_64.whl (139kB)\n",
            "\u001b[K    100% |████████████████████████████████| 143kB 6.4MB/s \n",
            "\u001b[?25hCollecting pytzdata>=2018.3 (from pendulum)\n",
            "\u001b[?25l  Downloading https://files.pythonhosted.org/packages/2b/b8/a007eedc118838b27247da7c31f25c2b9e68e68ed2ffafed3d340d379e84/pytzdata-2018.5-py2.py3-none-any.whl (981kB)\n",
            "\u001b[K    100% |████████████████████████████████| 983kB 8.8MB/s \n",
            "\u001b[?25hCollecting python-dateutil<3.0,>=2.6 (from pendulum)\n",
            "\u001b[?25l  Downloading https://files.pythonhosted.org/packages/cf/f5/af2b09c957ace60dcfac112b669c45c8c97e32f94aa8b56da4c6d1682825/python_dateutil-2.7.3-py2.py3-none-any.whl (211kB)\n",
            "\u001b[K    100% |████████████████████████████████| 215kB 12.0MB/s \n",
            "\u001b[?25hRequirement already satisfied: six>=1.5 in /usr/local/lib/python3.6/dist-packages (from python-dateutil<3.0,>=2.6->pendulum) (1.11.0)\n",
            "Installing collected packages: pytzdata, python-dateutil, pendulum\n",
            "  Found existing installation: python-dateutil 2.5.3\n",
            "    Uninstalling python-dateutil-2.5.3:\n",
            "      Successfully uninstalled python-dateutil-2.5.3\n",
            "Successfully installed pendulum-2.0.3 python-dateutil-2.7.3 pytzdata-2018.5\n"
          ],
          "name": "stdout"
        }
      ]
    },
    {
      "metadata": {
        "id": "Y1pTlWOrUNEi",
        "colab_type": "code",
        "colab": {
          "base_uri": "https://localhost:8080/",
          "height": 36
        },
        "outputId": "1be94fcc-37cb-4331-b9a1-e9cc79c23ecf"
      },
      "cell_type": "code",
      "source": [
        "# Import the pendulum module\n",
        "import pendulum\n",
        "\n",
        "# Create a now datetime for Tokyo: tokyo_dt\n",
        "tokyo_dt = pendulum.now('Asia/Tokyo')\n",
        "\n",
        "# Covert the tokyo_dt to Los Angeles: la_dt\n",
        "la_dt = tokyo_dt.in_timezone('America/Los_Angeles')\n",
        "\n",
        "# Print the ISO 8601 string of la_dt\n",
        "print(la_dt.to_iso8601_string())"
      ],
      "execution_count": 49,
      "outputs": [
        {
          "output_type": "stream",
          "text": [
            "2018-09-04T09:01:27.311031-07:00\n"
          ],
          "name": "stdout"
        }
      ]
    }
  ]
}