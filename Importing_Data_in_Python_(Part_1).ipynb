{
  "nbformat": 4,
  "nbformat_minor": 0,
  "metadata": {
    "colab": {
      "name": "Importing Data in Python (Part 1).ipynb",
      "version": "0.3.2",
      "provenance": [],
      "collapsed_sections": []
    },
    "kernelspec": {
      "name": "python3",
      "display_name": "Python 3"
    }
  },
  "cells": [
    {
      "metadata": {
        "id": "dInbkBkT6v50",
        "colab_type": "text"
      },
      "cell_type": "markdown",
      "source": [
        "# Importing Data in Python (Part 1)\n",
        "https://www.datacamp.com/courses/importing-data-in-python-part-1"
      ]
    },
    {
      "metadata": {
        "id": "qFTLVqiO6-AP",
        "colab_type": "text"
      },
      "cell_type": "markdown",
      "source": [
        "### Loading the files"
      ]
    },
    {
      "metadata": {
        "id": "2DH3JCZK6pls",
        "colab_type": "code",
        "colab": {}
      },
      "cell_type": "code",
      "source": [
        "# links\n",
        "URL2 = 'https://assets.datacamp.com/production/course_1607/datasets/L-L1_LOSC_4_V1-1126259446-32.hdf5'\n",
        "URL3 = 'https://assets.datacamp.com/production/course_1607/datasets/battledeath.xlsx'\n",
        "URL4 = 'https://assets.datacamp.com/production/course_1607/datasets/disarea.dta'\n",
        "URL5 = 'https://assets.datacamp.com/production/course_1607/datasets/ja_data2.mat'\n",
        "URL6 = 'https://assets.datacamp.com/production/course_1607/datasets/mnist_kaggle_some_rows.csv'\n",
        "URL7 = 'https://assets.datacamp.com/production/course_1607/datasets/sales.sas7bdat'\n",
        "URL8 = 'https://assets.datacamp.com/production/course_1607/datasets/seaslug.txt'\n",
        "URL9 = 'https://assets.datacamp.com/production/course_1607/datasets/titanic_sub.csv'"
      ],
      "execution_count": 0,
      "outputs": []
    },
    {
      "metadata": {
        "id": "u8ZHeQTW74Vz",
        "colab_type": "code",
        "colab": {
          "base_uri": "https://localhost:8080/",
          "height": 34
        },
        "outputId": "51de75ce-28fc-48c8-b161-4f099f21ec56"
      },
      "cell_type": "code",
      "source": [
        "from urllib.request import urlretrieve\n",
        "\n",
        "urlretrieve(URL2, 'LIGO_data.hdf5')\n",
        "urlretrieve(URL3, 'battledeath.xlsx')\n",
        "urlretrieve(URL4, 'disarea.dta')\n",
        "urlretrieve(URL5, 'albeck_gene_expression.mat')\n",
        "urlretrieve(URL6, 'digits.csv')\n",
        "urlretrieve(URL7, 'sales.sas7bdat')\n",
        "urlretrieve(URL8, 'seaslug.txt')\n",
        "urlretrieve(URL9, 'titanic.csv')"
      ],
      "execution_count": 2,
      "outputs": [
        {
          "output_type": "execute_result",
          "data": {
            "text/plain": [
              "('titanic.csv', <http.client.HTTPMessage at 0x7f3b4f341e80>)"
            ]
          },
          "metadata": {
            "tags": []
          },
          "execution_count": 2
        }
      ]
    },
    {
      "metadata": {
        "id": "gUqxgRtqQZlK",
        "colab_type": "text"
      },
      "cell_type": "markdown",
      "source": [
        "## 1. Introduction and flat files"
      ]
    },
    {
      "metadata": {
        "id": "IJY_yeaYQjoR",
        "colab_type": "text"
      },
      "cell_type": "markdown",
      "source": [
        "### Exploring your working directory"
      ]
    },
    {
      "metadata": {
        "id": "Fi5K5S2S8Mrh",
        "colab_type": "code",
        "colab": {
          "base_uri": "https://localhost:8080/",
          "height": 70
        },
        "outputId": "a5755cc4-c4f4-4694-ba71-e183a045f796"
      },
      "cell_type": "code",
      "source": [
        "!ls"
      ],
      "execution_count": 3,
      "outputs": [
        {
          "output_type": "stream",
          "text": [
            "albeck_gene_expression.mat  disarea.dta     sample_data\r\n",
            "battledeath.xlsx\t    LIGO_data.hdf5  seaslug.txt\r\n",
            "digits.csv\t\t    sales.sas7bdat  titanic.csv\r\n"
          ],
          "name": "stdout"
        }
      ]
    },
    {
      "metadata": {
        "id": "jqb3UWyLVVTb",
        "colab_type": "code",
        "colab": {
          "base_uri": "https://localhost:8080/",
          "height": 193
        },
        "outputId": "eef00271-a8bc-4ba3-d5a8-2bafca155e7a"
      },
      "cell_type": "code",
      "source": [
        "import os\n",
        "wd = os.getcwd()\n",
        "os.listdir(wd)"
      ],
      "execution_count": 4,
      "outputs": [
        {
          "output_type": "execute_result",
          "data": {
            "text/plain": [
              "['.config',\n",
              " 'sample_data',\n",
              " 'titanic.csv',\n",
              " 'battledeath.xlsx',\n",
              " 'seaslug.txt',\n",
              " 'disarea.dta',\n",
              " 'digits.csv',\n",
              " 'LIGO_data.hdf5',\n",
              " 'albeck_gene_expression.mat',\n",
              " 'sales.sas7bdat']"
            ]
          },
          "metadata": {
            "tags": []
          },
          "execution_count": 4
        }
      ]
    },
    {
      "metadata": {
        "id": "zPRD3FeDQwi_",
        "colab_type": "text"
      },
      "cell_type": "markdown",
      "source": [
        "### Importing entire text files"
      ]
    },
    {
      "metadata": {
        "id": "jsxbJv65QlTC",
        "colab_type": "code",
        "colab": {
          "base_uri": "https://localhost:8080/",
          "height": 897
        },
        "outputId": "092e1f97-a7da-40f3-9074-2aa8baa7718d"
      },
      "cell_type": "code",
      "source": [
        "# Open a file: file\n",
        "file = open('seaslug.txt', mode='r')\n",
        "\n",
        "# Print it\n",
        "print(file.read())\n",
        "\n",
        "# Check whether file is closed\n",
        "print(file.closed)\n",
        "\n",
        "# Close file\n",
        "file.close()\n",
        "\n",
        "# Check whether file is closed\n",
        "print(file.closed)"
      ],
      "execution_count": 5,
      "outputs": [
        {
          "output_type": "stream",
          "text": [
            "Time\tPercent\n",
            "99\t0.067\n",
            "99\t0.133\n",
            "99\t0.067\n",
            "99\t0\n",
            "99\t0\n",
            "0\t0.5\n",
            "0\t0.467\n",
            "0\t0.857\n",
            "0\t0.5\n",
            "0\t0.357\n",
            "0\t0.533\n",
            "5\t0.467\n",
            "5\t0.467\n",
            "5\t0.125\n",
            "5\t0.4\n",
            "5\t0.214\n",
            "5\t0.4\n",
            "10\t0.067\n",
            "10\t0.067\n",
            "10\t0.333\n",
            "10\t0.333\n",
            "10\t0.133\n",
            "10\t0.133\n",
            "15\t0.267\n",
            "15\t0.286\n",
            "15\t0.333\n",
            "15\t0.214\n",
            "15\t0\n",
            "15\t0\n",
            "20\t0.267\n",
            "20\t0.2\n",
            "20\t0.267\n",
            "20\t0.437\n",
            "20\t0.077\n",
            "20\t0.067\n",
            "25\t0.133\n",
            "25\t0.267\n",
            "25\t0.412\n",
            "25\t0\n",
            "25\t0.067\n",
            "25\t0.133\n",
            "30\t0\n",
            "30\t0.071\n",
            "30\t0\n",
            "30\t0.067\n",
            "30\t0.067\n",
            "30\t0.133\n",
            "False\n",
            "True\n"
          ],
          "name": "stdout"
        }
      ]
    },
    {
      "metadata": {
        "id": "vCuNjXyJRjCs",
        "colab_type": "text"
      },
      "cell_type": "markdown",
      "source": [
        "### Importing text files line by line"
      ]
    },
    {
      "metadata": {
        "id": "0H_DPPIqQzR9",
        "colab_type": "code",
        "colab": {
          "base_uri": "https://localhost:8080/",
          "height": 122
        },
        "outputId": "e183dc2b-f222-4ae7-c8e8-295403f99061"
      },
      "cell_type": "code",
      "source": [
        "# Read & print the first 3 lines\n",
        "with open('seaslug.txt') as file:\n",
        "    print(file.readline())\n",
        "    print(file.readline())\n",
        "    print(file.readline())"
      ],
      "execution_count": 6,
      "outputs": [
        {
          "output_type": "stream",
          "text": [
            "Time\tPercent\n",
            "\n",
            "99\t0.067\n",
            "\n",
            "99\t0.133\n",
            "\n"
          ],
          "name": "stdout"
        }
      ]
    },
    {
      "metadata": {
        "id": "dTETKguMR_5e",
        "colab_type": "text"
      },
      "cell_type": "markdown",
      "source": [
        "### Using NumPy to import flat files"
      ]
    },
    {
      "metadata": {
        "id": "AaKTv8DZRzva",
        "colab_type": "code",
        "colab": {
          "base_uri": "https://localhost:8080/",
          "height": 365
        },
        "outputId": "8496476b-5097-460e-bd7a-b9ac6aef474b"
      },
      "cell_type": "code",
      "source": [
        "# Import packages\n",
        "import numpy as np\n",
        "import matplotlib.pyplot as plt\n",
        "\n",
        "# Assign filename to variable: file\n",
        "file = 'digits.csv'\n",
        "\n",
        "# Load file as array: digits\n",
        "digits = np.loadtxt(file, delimiter=',')\n",
        "\n",
        "# Print datatype of digits\n",
        "print(type(digits))\n",
        "\n",
        "# Select and reshape a row\n",
        "im = digits[21, 1:]\n",
        "im_sq = np.reshape(im, (28, 28))\n",
        "\n",
        "# Plot reshaped data (matplotlib.pyplot already loaded as plt)\n",
        "plt.imshow(im_sq, cmap='Greys', interpolation='nearest')\n",
        "plt.show()"
      ],
      "execution_count": 7,
      "outputs": [
        {
          "output_type": "stream",
          "text": [
            "<class 'numpy.ndarray'>\n"
          ],
          "name": "stdout"
        },
        {
          "output_type": "display_data",
          "data": {
            "image/png": "[encoded data removed]",
            "text/plain": [
              "<matplotlib.figure.Figure at 0x7f3b4f341208>"
            ]
          },
          "metadata": {
            "tags": []
          }
        }
      ]
    },
    {
      "metadata": {
        "id": "Nsy7hU2HSRx7",
        "colab_type": "text"
      },
      "cell_type": "markdown",
      "source": [
        "### Customizing your NumPy import"
      ]
    },
    {
      "metadata": {
        "id": "bgtezjTwSCbO",
        "colab_type": "code",
        "colab": {
          "base_uri": "https://localhost:8080/",
          "height": 70
        },
        "outputId": "e8a10f1d-9305-4aed-f522-7561b6c78fc0"
      },
      "cell_type": "code",
      "source": [
        "# Assign the filename: file\n",
        "file = 'seaslug.txt'\n",
        "\n",
        "# Load the data: data\n",
        "data = np.loadtxt(file, delimiter='\\t', skiprows=1, usecols=[0])\n",
        "\n",
        "# Print data\n",
        "print(data)"
      ],
      "execution_count": 8,
      "outputs": [
        {
          "output_type": "stream",
          "text": [
            "[99. 99. 99. 99. 99.  0.  0.  0.  0.  0.  0.  5.  5.  5.  5.  5.  5. 10.\n",
            " 10. 10. 10. 10. 10. 15. 15. 15. 15. 15. 15. 20. 20. 20. 20. 20. 20. 25.\n",
            " 25. 25. 25. 25. 25. 30. 30. 30. 30. 30. 30.]\n"
          ],
          "name": "stdout"
        }
      ]
    },
    {
      "metadata": {
        "id": "wJQF7XLGSxNA",
        "colab_type": "text"
      },
      "cell_type": "markdown",
      "source": [
        "### Importing different datatypes"
      ]
    },
    {
      "metadata": {
        "id": "oc6ki3CLST9T",
        "colab_type": "code",
        "colab": {
          "base_uri": "https://localhost:8080/",
          "height": 396
        },
        "outputId": "8e254db1-d29b-43be-e6bc-c4ec51db34b4"
      },
      "cell_type": "code",
      "source": [
        "# Assign filename: file\n",
        "file = 'seaslug.txt'\n",
        "\n",
        "# Import file: data\n",
        "data = np.loadtxt(file, delimiter='\\t', dtype=str)\n",
        "\n",
        "# Print the first element of data\n",
        "print(data[0])\n",
        "\n",
        "# Import data as floats and skip the first row: data_float\n",
        "data_float = np.loadtxt(file, delimiter='\\t', dtype=float, skiprows=1)\n",
        "\n",
        "# Print the 10th element of data_float\n",
        "print(data_float[9])\n",
        "\n",
        "# Plot a scatterplot of the data\n",
        "plt.scatter(data_float[:, 0], data_float[:, 1])\n",
        "plt.xlabel('time (min.)')\n",
        "plt.ylabel('percentage of larvae')\n",
        "plt.show()"
      ],
      "execution_count": 9,
      "outputs": [
        {
          "output_type": "stream",
          "text": [
            "['Time' 'Percent']\n",
            "[0.    0.357]\n"
          ],
          "name": "stdout"
        },
        {
          "output_type": "display_data",
          "data": {
            "image/png": "[encoded data removed]",
            "text/plain": [
              "<matplotlib.figure.Figure at 0x7f3b4e8cceb8>"
            ]
          },
          "metadata": {
            "tags": []
          }
        }
      ]
    },
    {
      "metadata": {
        "id": "XImvB7-WS5RP",
        "colab_type": "text"
      },
      "cell_type": "markdown",
      "source": [
        "### Working with mixed datatypes (1)"
      ]
    },
    {
      "metadata": {
        "id": "-JErncXnSzk8",
        "colab_type": "code",
        "colab": {
          "base_uri": "https://localhost:8080/",
          "height": 52
        },
        "outputId": "ee35bee8-67a5-4437-937f-d31cb5e62b96"
      },
      "cell_type": "code",
      "source": [
        "data = np.genfromtxt('titanic.csv', delimiter=',', names=True, dtype=None, encoding=None)\n",
        "print(np.shape(data))\n",
        "data[0]"
      ],
      "execution_count": 10,
      "outputs": [
        {
          "output_type": "stream",
          "text": [
            "(891,)\n"
          ],
          "name": "stdout"
        },
        {
          "output_type": "execute_result",
          "data": {
            "text/plain": [
              "(1, 0, 3, 'male', 22., 1, 0, 'A/5 21171', 7.25, '', 'S')"
            ]
          },
          "metadata": {
            "tags": []
          },
          "execution_count": 10
        }
      ]
    },
    {
      "metadata": {
        "id": "knQX_aaCTpya",
        "colab_type": "text"
      },
      "cell_type": "markdown",
      "source": [
        "### Working with mixed datatypes (2)"
      ]
    },
    {
      "metadata": {
        "id": "mNO4It28TAgH",
        "colab_type": "code",
        "colab": {
          "base_uri": "https://localhost:8080/",
          "height": 70
        },
        "outputId": "962e01d2-1cb9-40b4-c225-c543376c07f4"
      },
      "cell_type": "code",
      "source": [
        "# Assign the filename: file\n",
        "file = 'titanic.csv'\n",
        "\n",
        "# Import file using np.recfromcsv: d\n",
        "d = np.recfromcsv(file, encoding=None)\n",
        "\n",
        "# Print out first three entries of d\n",
        "print(d[:3])"
      ],
      "execution_count": 11,
      "outputs": [
        {
          "output_type": "stream",
          "text": [
            "[(1, 0, 3, 'male', 22., 1, 0, 'A/5 21171',  7.25  , '', 'S')\n",
            " (2, 1, 1, 'female', 38., 1, 0, 'PC 17599', 71.2833, 'C85', 'C')\n",
            " (3, 1, 3, 'female', 26., 0, 0, 'STON/O2. 3101282',  7.925 , '', 'S')]\n"
          ],
          "name": "stdout"
        }
      ]
    },
    {
      "metadata": {
        "id": "qHATzFOlUso6",
        "colab_type": "text"
      },
      "cell_type": "markdown",
      "source": [
        "### Using pandas to import flat files as DataFrames"
      ]
    },
    {
      "metadata": {
        "id": "NRlNt1rqUfYO",
        "colab_type": "code",
        "colab": {
          "base_uri": "https://localhost:8080/",
          "height": 34
        },
        "outputId": "8a50f848-d763-4c88-de78-564864b5d5cf"
      },
      "cell_type": "code",
      "source": [
        "# Import pandas\n",
        "import pandas as pd\n",
        "\n",
        "# Assign the filename: file\n",
        "file = 'digits.csv'\n",
        "\n",
        "# Read the first 5 rows of the file into a DataFrame: data\n",
        "data = pd.read_csv(file, nrows=5, header=None)\n",
        "\n",
        "# Build a numpy array from the DataFrame: data_array\n",
        "data_array = np.array(data)\n",
        "\n",
        "# Print the datatype of data_array to the shell\n",
        "print(type(data_array))"
      ],
      "execution_count": 12,
      "outputs": [
        {
          "output_type": "stream",
          "text": [
            "<class 'numpy.ndarray'>\n"
          ],
          "name": "stdout"
        }
      ]
    },
    {
      "metadata": {
        "id": "2kBggOZ7U-yo",
        "colab_type": "text"
      },
      "cell_type": "markdown",
      "source": [
        "## 2. Importing data from other file types"
      ]
    },
    {
      "metadata": {
        "id": "43FnFtkIVNo0",
        "colab_type": "text"
      },
      "cell_type": "markdown",
      "source": [
        "### Loading a pickled file"
      ]
    },
    {
      "metadata": {
        "id": "lHz0F3EKUu4g",
        "colab_type": "code",
        "colab": {
          "base_uri": "https://localhost:8080/",
          "height": 54
        },
        "outputId": "260d25aa-ca2f-4894-ad8d-92c865e3cbd6"
      },
      "cell_type": "code",
      "source": [
        "# 'data.pkl' missing\n",
        "\n",
        "'''\n",
        "# Import pickle package\n",
        "import pickle\n",
        "\n",
        "# Open pickle file and load data: d\n",
        "with open('data.pkl', mode='rb') as file:\n",
        "    d = pickle.load(file)\n",
        "\n",
        "# Print d\n",
        "print(d)\n",
        "\n",
        "# Print datatype of d\n",
        "print(type(d))\n",
        "'''"
      ],
      "execution_count": 13,
      "outputs": [
        {
          "output_type": "execute_result",
          "data": {
            "text/plain": [
              "\"\\n# Import pickle package\\nimport pickle\\n\\n# Open pickle file and load data: d\\nwith open('data.pkl', mode='rb') as file:\\n    d = pickle.load(file)\\n\\n# Print d\\nprint(d)\\n\\n# Print datatype of d\\nprint(type(d))\\n\""
            ]
          },
          "metadata": {
            "tags": []
          },
          "execution_count": 13
        }
      ]
    },
    {
      "metadata": {
        "id": "hxSSE-QOV8WL",
        "colab_type": "text"
      },
      "cell_type": "markdown",
      "source": [
        "### Listing sheets in Excel files"
      ]
    },
    {
      "metadata": {
        "id": "mnajjVEkWLRz",
        "colab_type": "code",
        "colab": {
          "base_uri": "https://localhost:8080/",
          "height": 105
        },
        "outputId": "7dc084ec-b9a5-49ca-c038-4c8bec747a06"
      },
      "cell_type": "code",
      "source": [
        "!pip install xlrd"
      ],
      "execution_count": 14,
      "outputs": [
        {
          "output_type": "stream",
          "text": [
            "Collecting xlrd\n",
            "\u001b[?25l  Downloading https://files.pythonhosted.org/packages/07/e6/e95c4eec6221bfd8528bcc4ea252a850bffcc4be88ebc367e23a1a84b0bb/xlrd-1.1.0-py2.py3-none-any.whl (108kB)\n",
            "\u001b[K    100% |████████████████████████████████| 112kB 2.6MB/s \n",
            "\u001b[?25hInstalling collected packages: xlrd\n",
            "Successfully installed xlrd-1.1.0\n"
          ],
          "name": "stdout"
        }
      ]
    },
    {
      "metadata": {
        "id": "onZYnLFsVA7w",
        "colab_type": "code",
        "colab": {
          "base_uri": "https://localhost:8080/",
          "height": 34
        },
        "outputId": "87a0f10f-eaee-409b-c091-16f8afd773e6"
      },
      "cell_type": "code",
      "source": [
        "# Assign spreadsheet filename: file\n",
        "file = 'battledeath.xlsx'\n",
        "\n",
        "# Load spreadsheet: xl\n",
        "xl = pd.ExcelFile(file)\n",
        "\n",
        "# Print sheet names\n",
        "print(xl.sheet_names)"
      ],
      "execution_count": 15,
      "outputs": [
        {
          "output_type": "stream",
          "text": [
            "['2002', '2004']\n"
          ],
          "name": "stdout"
        }
      ]
    },
    {
      "metadata": {
        "id": "31QuF3moWQvL",
        "colab_type": "text"
      },
      "cell_type": "markdown",
      "source": [
        "### Importing sheets from Excel files"
      ]
    },
    {
      "metadata": {
        "id": "d6AZubt2WBoY",
        "colab_type": "code",
        "colab": {
          "base_uri": "https://localhost:8080/",
          "height": 228
        },
        "outputId": "5dc27953-5d20-4b26-d780-c3496917bf89"
      },
      "cell_type": "code",
      "source": [
        "# Load a sheet into a DataFrame by name: df1\n",
        "df1 = xl.parse('2004')\n",
        "\n",
        "# Print the head of the DataFrame df1\n",
        "print(df1.head())\n",
        "\n",
        "# Load a sheet into a DataFrame by index: df2\n",
        "df2 = xl.parse('2002')\n",
        "\n",
        "# Print the head of the DataFrame df2\n",
        "print(df2.head())"
      ],
      "execution_count": 16,
      "outputs": [
        {
          "output_type": "stream",
          "text": [
            "  War(country)      2004\n",
            "0  Afghanistan  9.451028\n",
            "1      Albania  0.130354\n",
            "2      Algeria  3.407277\n",
            "3      Andorra  0.000000\n",
            "4       Angola  2.597931\n",
            "  War, age-adjusted mortality due to       2002\n",
            "0                        Afghanistan  36.083990\n",
            "1                            Albania   0.128908\n",
            "2                            Algeria  18.314120\n",
            "3                            Andorra   0.000000\n",
            "4                             Angola  18.964560\n"
          ],
          "name": "stdout"
        }
      ]
    },
    {
      "metadata": {
        "id": "2v_2ZNx_We1a",
        "colab_type": "text"
      },
      "cell_type": "markdown",
      "source": [
        "### Customizing your spreadsheet import"
      ]
    },
    {
      "metadata": {
        "id": "qUqfvtVzWSyj",
        "colab_type": "code",
        "colab": {
          "base_uri": "https://localhost:8080/",
          "height": 122
        },
        "outputId": "5cd43735-235c-4467-e82d-0c0d3293c615"
      },
      "cell_type": "code",
      "source": [
        "# Parse the first sheet and rename the columns: df1\n",
        "df1 = xl.parse(0, skiprows=[0], names=['Country', 'AAM due to War (2002)'])\n",
        "\n",
        "# Print the head of the DataFrame df1\n",
        "print(df1.head())"
      ],
      "execution_count": 17,
      "outputs": [
        {
          "output_type": "stream",
          "text": [
            "               Country  AAM due to War (2002)\n",
            "0              Albania               0.128908\n",
            "1              Algeria              18.314120\n",
            "2              Andorra               0.000000\n",
            "3               Angola              18.964560\n",
            "4  Antigua and Barbuda               0.000000\n"
          ],
          "name": "stdout"
        }
      ]
    },
    {
      "metadata": {
        "id": "FklwzLehX4m8",
        "colab_type": "text"
      },
      "cell_type": "markdown",
      "source": [
        "### Importing SAS files"
      ]
    },
    {
      "metadata": {
        "id": "Qzetre__YPca",
        "colab_type": "code",
        "colab": {
          "base_uri": "https://localhost:8080/",
          "height": 175
        },
        "outputId": "70845264-edf1-42ce-fbd7-386b83bbc9ad"
      },
      "cell_type": "code",
      "source": [
        "!pip install sas7bdat"
      ],
      "execution_count": 18,
      "outputs": [
        {
          "output_type": "stream",
          "text": [
            "Collecting sas7bdat\n",
            "  Downloading https://files.pythonhosted.org/packages/18/65/bd270e2c602665662534148f9e5aa4843e5396f3ebe54debbcb1580b5032/sas7bdat-2.1.1.tar.gz\n",
            "Requirement already satisfied: six>=1.8.0 in /usr/local/lib/python3.6/dist-packages (from sas7bdat) (1.11.0)\n",
            "Building wheels for collected packages: sas7bdat\n",
            "  Running setup.py bdist_wheel for sas7bdat ... \u001b[?25l-\b \b\\\b \bdone\n",
            "\u001b[?25h  Stored in directory: /root/.cache/pip/wheels/ff/aa/3e/79e974cf4258c5a5a97474db043f09473f38e1800ff1b82395\n",
            "Successfully built sas7bdat\n",
            "Installing collected packages: sas7bdat\n",
            "Successfully installed sas7bdat-2.1.1\n"
          ],
          "name": "stdout"
        }
      ]
    },
    {
      "metadata": {
        "id": "ekojeWB-WiEn",
        "colab_type": "code",
        "colab": {
          "base_uri": "https://localhost:8080/",
          "height": 467
        },
        "outputId": "72320ec1-9565-402b-9b6b-2dfe0576bc32"
      },
      "cell_type": "code",
      "source": [
        "# Import sas7bdat package\n",
        "from sas7bdat import SAS7BDAT\n",
        "\n",
        "# Save file to a DataFrame: df_sas\n",
        "with SAS7BDAT('sales.sas7bdat') as file:\n",
        "    df_sas = file.to_data_frame()\n",
        "\n",
        "# Print head of DataFrame\n",
        "print(df_sas.head())\n",
        "\n",
        "# Plot histogram of DataFrame features (pandas and pyplot already imported)\n",
        "pd.DataFrame.hist(df_sas[['P']])\n",
        "plt.ylabel('count')\n",
        "plt.show()"
      ],
      "execution_count": 19,
      "outputs": [
        {
          "output_type": "stream",
          "text": [
            "     YEAR     P           S\n",
            "0  1950.0  12.9  181.899994\n",
            "1  1951.0  11.9  245.000000\n",
            "2  1952.0  10.7  250.199997\n",
            "3  1953.0  11.3  265.899994\n",
            "4  1954.0  11.2  248.500000\n"
          ],
          "name": "stdout"
        },
        {
          "output_type": "display_data",
          "data": {
            "image/png": "[encoded data removed]",
            "text/plain": [
              "<matplotlib.figure.Figure at 0x7f3b4be2ec18>"
            ]
          },
          "metadata": {
            "tags": []
          }
        }
      ]
    },
    {
      "metadata": {
        "id": "G_MUNO1yYUnC",
        "colab_type": "text"
      },
      "cell_type": "markdown",
      "source": [
        "### Importing Stata files"
      ]
    },
    {
      "metadata": {
        "id": "ZlnONnD_X6vM",
        "colab_type": "code",
        "colab": {
          "base_uri": "https://localhost:8080/",
          "height": 763
        },
        "outputId": "3455abce-e477-4d13-94b7-2482186e5b57"
      },
      "cell_type": "code",
      "source": [
        "# Import pandas\n",
        "import pandas as pd\n",
        "\n",
        "# Load Stata file into a pandas DataFrame: df\n",
        "df = pd.read_stata('disarea.dta')\n",
        "\n",
        "# Print the head of the DataFrame df\n",
        "print(df.head())\n",
        "\n",
        "# Plot histogram of one column of the DataFrame\n",
        "pd.DataFrame.hist(df[['disa10']])\n",
        "plt.xlabel('Extent of disease')\n",
        "plt.ylabel('Number of countries')\n",
        "plt.show()"
      ],
      "execution_count": 20,
      "outputs": [
        {
          "output_type": "stream",
          "text": [
            "  wbcode               country  disa1  disa2  disa3  disa4  disa5  disa6  \\\n",
            "0    AFG           Afghanistan   0.00   0.00   0.76   0.73    0.0   0.00   \n",
            "1    AGO                Angola   0.32   0.02   0.56   0.00    0.0   0.00   \n",
            "2    ALB               Albania   0.00   0.00   0.02   0.00    0.0   0.00   \n",
            "3    ARE  United Arab Emirates   0.00   0.00   0.00   0.00    0.0   0.00   \n",
            "4    ARG             Argentina   0.00   0.24   0.24   0.00    0.0   0.23   \n",
            "\n",
            "   disa7  disa8   ...    disa16  disa17  disa18  disa19  disa20  disa21  \\\n",
            "0   0.00    0.0   ...       0.0     0.0     0.0    0.00    0.00     0.0   \n",
            "1   0.56    0.0   ...       0.0     0.4     0.0    0.61    0.00     0.0   \n",
            "2   0.00    0.0   ...       0.0     0.0     0.0    0.00    0.00     0.0   \n",
            "3   0.00    0.0   ...       0.0     0.0     0.0    0.00    0.00     0.0   \n",
            "4   0.00    0.0   ...       0.0     0.0     0.0    0.00    0.05     0.0   \n",
            "\n",
            "   disa22  disa23  disa24  disa25  \n",
            "0    0.00    0.02    0.00    0.00  \n",
            "1    0.99    0.98    0.61    0.00  \n",
            "2    0.00    0.00    0.00    0.16  \n",
            "3    0.00    0.00    0.00    0.00  \n",
            "4    0.00    0.01    0.00    0.11  \n",
            "\n",
            "[5 rows x 27 columns]\n"
          ],
          "name": "stdout"
        },
        {
          "output_type": "display_data",
          "data": {
            "image/png": "[encoded data removed]",
            "text/plain": [
              "<matplotlib.figure.Figure at 0x7f3b4be034e0>"
            ]
          },
          "metadata": {
            "tags": []
          }
        }
      ]
    },
    {
      "metadata": {
        "id": "zlS91mvBYgRk",
        "colab_type": "text"
      },
      "cell_type": "markdown",
      "source": [
        "### Importing HDF5 files"
      ]
    },
    {
      "metadata": {
        "id": "hTcujSfuYbcR",
        "colab_type": "code",
        "colab": {
          "base_uri": "https://localhost:8080/",
          "height": 87
        },
        "outputId": "5b976695-e5c0-4dc2-8ea5-a4413e5714e2"
      },
      "cell_type": "code",
      "source": [
        "# Import packages\n",
        "import numpy as np\n",
        "import h5py\n",
        "\n",
        "# Assign filename: file\n",
        "file = 'LIGO_data.hdf5'\n",
        "\n",
        "# Load file: data\n",
        "data = h5py.File(file,'r')\n",
        "\n",
        "# Print the datatype of the loaded file\n",
        "print(type(data))\n",
        "\n",
        "# Print the keys of the file\n",
        "for key in data.keys():\n",
        "    print(key)"
      ],
      "execution_count": 22,
      "outputs": [
        {
          "output_type": "stream",
          "text": [
            "<class 'h5py._hl.files.File'>\n",
            "meta\n",
            "quality\n",
            "strain\n"
          ],
          "name": "stdout"
        }
      ]
    },
    {
      "metadata": {
        "id": "XSIeHeL2Y0N6",
        "colab_type": "text"
      },
      "cell_type": "markdown",
      "source": [
        "### Extracting data from your HDF5 file"
      ]
    },
    {
      "metadata": {
        "id": "3VWcTw30YkGT",
        "colab_type": "code",
        "colab": {
          "base_uri": "https://localhost:8080/",
          "height": 390
        },
        "outputId": "b940a17f-6317-4106-f15a-6f2f5425681a"
      },
      "cell_type": "code",
      "source": [
        "# Get the HDF5 group: group\n",
        "group = data['strain']\n",
        "\n",
        "# Check out keys of group\n",
        "for key in group.keys():\n",
        "    print(key)\n",
        "\n",
        "# Set variable equal to time series data: strain\n",
        "strain = data['strain']['Strain'].value\n",
        "\n",
        "# Set number of time points to sample: num_samples\n",
        "num_samples = 10000\n",
        "\n",
        "# Set time vector\n",
        "time = np.arange(0, 1, 1/num_samples)\n",
        "\n",
        "# Plot data\n",
        "plt.plot(time, strain[:num_samples])\n",
        "plt.xlabel('GPS Time (s)')\n",
        "plt.ylabel('strain')\n",
        "plt.show()"
      ],
      "execution_count": 23,
      "outputs": [
        {
          "output_type": "stream",
          "text": [
            "Strain\n"
          ],
          "name": "stdout"
        },
        {
          "output_type": "display_data",
          "data": {
            "image/png": "[encoded data removed]",
            "text/plain": [
              "<matplotlib.figure.Figure at 0x7f3b4f387a20>"
            ]
          },
          "metadata": {
            "tags": []
          }
        }
      ]
    },
    {
      "metadata": {
        "id": "s7JNF22XY7gG",
        "colab_type": "text"
      },
      "cell_type": "markdown",
      "source": [
        "### Importing MATLAB files\n"
      ]
    },
    {
      "metadata": {
        "id": "_Cyjy6huY2Ws",
        "colab_type": "code",
        "colab": {
          "base_uri": "https://localhost:8080/",
          "height": 34
        },
        "outputId": "34e0f108-6dd7-4c6c-8331-db2a0f209d6b"
      },
      "cell_type": "code",
      "source": [
        "# Import package\n",
        "import scipy.io\n",
        "\n",
        "# Load MATLAB file: mat\n",
        "mat = scipy.io.loadmat('albeck_gene_expression.mat')\n",
        "\n",
        "# Print the datatype type of mat\n",
        "print(type(mat))"
      ],
      "execution_count": 24,
      "outputs": [
        {
          "output_type": "stream",
          "text": [
            "<class 'dict'>\n"
          ],
          "name": "stdout"
        }
      ]
    },
    {
      "metadata": {
        "id": "6C3px1m4ZH5e",
        "colab_type": "text"
      },
      "cell_type": "markdown",
      "source": [
        "### The structure of .mat in Python"
      ]
    },
    {
      "metadata": {
        "id": "93PYhADWY90A",
        "colab_type": "code",
        "colab": {
          "base_uri": "https://localhost:8080/",
          "height": 414
        },
        "outputId": "393df7a2-f78a-40e0-8c75-82186c334e7a"
      },
      "cell_type": "code",
      "source": [
        "# Print the keys of the MATLAB dictionary\n",
        "print(mat.keys())\n",
        "\n",
        "# Print the type of the value corresponding to the key 'CYratioCyt'\n",
        "print(type(mat['CYratioCyt']))\n",
        "\n",
        "# Print the shape of the value corresponding to the key 'CYratioCyt'\n",
        "print(np.shape(mat['CYratioCyt']))\n",
        "\n",
        "# Subset the array and plot it\n",
        "data = mat['CYratioCyt'][25, 5:]\n",
        "fig = plt.figure()\n",
        "plt.plot(data)\n",
        "plt.xlabel('time (min.)')\n",
        "plt.ylabel('normalized fluorescence (measure of expression)')\n",
        "plt.show()"
      ],
      "execution_count": 25,
      "outputs": [
        {
          "output_type": "stream",
          "text": [
            "dict_keys(['__header__', '__version__', '__globals__', 'rfpCyt', 'rfpNuc', 'cfpNuc', 'cfpCyt', 'yfpNuc', 'yfpCyt', 'CYratioCyt'])\n",
            "<class 'numpy.ndarray'>\n",
            "(200, 137)\n"
          ],
          "name": "stdout"
        },
        {
          "output_type": "display_data",
          "data": {
            "image/png": "[encoded data removed]",
            "text/plain": [
              "<matplotlib.figure.Figure at 0x7f3b4e8e6f98>"
            ]
          },
          "metadata": {
            "tags": []
          }
        }
      ]
    }
  ]
}