{
  "nbformat": 4,
  "nbformat_minor": 0,
  "metadata": {
    "colab": {
      "name": "Manipulating DataFrames with pandas.ipynb",
      "version": "0.3.2",
      "provenance": [],
      "collapsed_sections": []
    },
    "kernelspec": {
      "name": "python3",
      "display_name": "Python 3"
    }
  },
  "cells": [
    {
      "metadata": {
        "id": "ugBjLfX6rRMo",
        "colab_type": "text"
      },
      "cell_type": "markdown",
      "source": [
        "# Manipulating DataFrames with pandas\n",
        "https://www.datacamp.com/courses/manipulating-dataframes-with-pandas"
      ]
    },
    {
      "metadata": {
        "id": "6GOT2LOsrNkG",
        "colab_type": "code",
        "colab": {}
      },
      "cell_type": "code",
      "source": [
        "URL1 = 'https://assets.datacamp.com/production/course_1650/datasets/pennsylvania2012_turnout.csv'\n",
        "URL2 = 'https://assets.datacamp.com/production/course_1650/datasets/titanic.csv'\n",
        "URL3 = 'https://assets.datacamp.com/production/course_1650/datasets/pittsburgh2013.csv'\n",
        "URL4 = 'https://assets.datacamp.com/production/course_1650/datasets/users.csv'\n",
        "URL5 = 'https://assets.datacamp.com/production/course_1650/datasets/gapminder_tidy.csv'"
      ],
      "execution_count": 0,
      "outputs": []
    },
    {
      "metadata": {
        "id": "aofhhy7osCOO",
        "colab_type": "code",
        "colab": {
          "base_uri": "https://localhost:8080/",
          "height": 36
        },
        "outputId": "9c7d7f27-f1ef-4410-d8ee-0595089cab2f"
      },
      "cell_type": "code",
      "source": [
        "from urllib.request import urlretrieve\n",
        "\n",
        "urlretrieve(URL1, 'election.csv')\n",
        "urlretrieve(URL2, 'titanic.csv')\n",
        "urlretrieve(URL3, 'weather.csv')\n",
        "urlretrieve(URL4, 'users.csv')\n",
        "urlretrieve(URL5, 'gap.csv')"
      ],
      "execution_count": 2,
      "outputs": [
        {
          "output_type": "execute_result",
          "data": {
            "text/plain": [
              "('gap.csv', <http.client.HTTPMessage at 0x7fa6b6cc72e8>)"
            ]
          },
          "metadata": {
            "tags": []
          },
          "execution_count": 2
        }
      ]
    },
    {
      "metadata": {
        "id": "9zC9uuxBraX2",
        "colab_type": "text"
      },
      "cell_type": "markdown",
      "source": [
        "## 1. Extracting and transforming data"
      ]
    },
    {
      "metadata": {
        "id": "_9NnnN1fsPUv",
        "colab_type": "text"
      },
      "cell_type": "markdown",
      "source": [
        "### Index ordering"
      ]
    },
    {
      "metadata": {
        "id": "RmYAogtyrblP",
        "colab_type": "code",
        "colab": {}
      },
      "cell_type": "code",
      "source": [
        "# Import pandas\n",
        "import pandas as pd\n",
        "\n",
        "# Read in filename and set the index: election\n",
        "election = pd.read_csv('election.csv', index_col='county')"
      ],
      "execution_count": 0,
      "outputs": []
    },
    {
      "metadata": {
        "id": "ytoqKFGTsIzG",
        "colab_type": "code",
        "colab": {
          "base_uri": "https://localhost:8080/",
          "height": 36
        },
        "outputId": "b78e3101-e47c-4553-ed9e-2a939f2f0f81"
      },
      "cell_type": "code",
      "source": [
        "election.loc['Bedford', 'winner']"
      ],
      "execution_count": 4,
      "outputs": [
        {
          "output_type": "execute_result",
          "data": {
            "text/plain": [
              "'Romney'"
            ]
          },
          "metadata": {
            "tags": []
          },
          "execution_count": 4
        }
      ]
    },
    {
      "metadata": {
        "id": "uv-VN7qfs8on",
        "colab_type": "text"
      },
      "cell_type": "markdown",
      "source": [
        "### Positional and labeled indexing"
      ]
    },
    {
      "metadata": {
        "id": "D7W8d-oEsSzI",
        "colab_type": "code",
        "colab": {
          "base_uri": "https://localhost:8080/",
          "height": 251
        },
        "outputId": "2386c0d5-5c2e-42b7-8a97-94446d79d2d0"
      },
      "cell_type": "code",
      "source": [
        "# Assign the row position of election.loc['Bedford']: x\n",
        "x = 4\n",
        "\n",
        "# Assign the column position of election['winner']: y\n",
        "y = 4\n",
        "\n",
        "# Print the boolean equivalence\n",
        "print(election.iloc[x, y] == election.loc['Bedford', 'winner'])\n",
        "\n",
        "election.head()"
      ],
      "execution_count": 5,
      "outputs": [
        {
          "output_type": "stream",
          "text": [
            "True\n"
          ],
          "name": "stdout"
        },
        {
          "output_type": "execute_result",
          "data": {
            "text/html": [
              "<div>\n",
              "<style scoped>\n",
              "    .dataframe tbody tr th:only-of-type {\n",
              "        vertical-align: middle;\n",
              "    }\n",
              "\n",
              "    .dataframe tbody tr th {\n",
              "        vertical-align: top;\n",
              "    }\n",
              "\n",
              "    .dataframe thead th {\n",
              "        text-align: right;\n",
              "    }\n",
              "</style>\n",
              "<table border=\"1\" class=\"dataframe\">\n",
              "  <thead>\n",
              "    <tr style=\"text-align: right;\">\n",
              "      <th></th>\n",
              "      <th>state</th>\n",
              "      <th>total</th>\n",
              "      <th>Obama</th>\n",
              "      <th>Romney</th>\n",
              "      <th>winner</th>\n",
              "      <th>voters</th>\n",
              "      <th>turnout</th>\n",
              "      <th>margin</th>\n",
              "    </tr>\n",
              "    <tr>\n",
              "      <th>county</th>\n",
              "      <th></th>\n",
              "      <th></th>\n",
              "      <th></th>\n",
              "      <th></th>\n",
              "      <th></th>\n",
              "      <th></th>\n",
              "      <th></th>\n",
              "      <th></th>\n",
              "    </tr>\n",
              "  </thead>\n",
              "  <tbody>\n",
              "    <tr>\n",
              "      <th>Adams</th>\n",
              "      <td>PA</td>\n",
              "      <td>41973</td>\n",
              "      <td>35.482334</td>\n",
              "      <td>63.112001</td>\n",
              "      <td>Romney</td>\n",
              "      <td>61156</td>\n",
              "      <td>68.632677</td>\n",
              "      <td>27.629667</td>\n",
              "    </tr>\n",
              "    <tr>\n",
              "      <th>Allegheny</th>\n",
              "      <td>PA</td>\n",
              "      <td>614671</td>\n",
              "      <td>56.640219</td>\n",
              "      <td>42.185820</td>\n",
              "      <td>Obama</td>\n",
              "      <td>924351</td>\n",
              "      <td>66.497575</td>\n",
              "      <td>14.454399</td>\n",
              "    </tr>\n",
              "    <tr>\n",
              "      <th>Armstrong</th>\n",
              "      <td>PA</td>\n",
              "      <td>28322</td>\n",
              "      <td>30.696985</td>\n",
              "      <td>67.901278</td>\n",
              "      <td>Romney</td>\n",
              "      <td>42147</td>\n",
              "      <td>67.198140</td>\n",
              "      <td>37.204293</td>\n",
              "    </tr>\n",
              "    <tr>\n",
              "      <th>Beaver</th>\n",
              "      <td>PA</td>\n",
              "      <td>80015</td>\n",
              "      <td>46.032619</td>\n",
              "      <td>52.637630</td>\n",
              "      <td>Romney</td>\n",
              "      <td>115157</td>\n",
              "      <td>69.483401</td>\n",
              "      <td>6.605012</td>\n",
              "    </tr>\n",
              "    <tr>\n",
              "      <th>Bedford</th>\n",
              "      <td>PA</td>\n",
              "      <td>21444</td>\n",
              "      <td>22.057452</td>\n",
              "      <td>76.986570</td>\n",
              "      <td>Romney</td>\n",
              "      <td>32189</td>\n",
              "      <td>66.619031</td>\n",
              "      <td>54.929118</td>\n",
              "    </tr>\n",
              "  </tbody>\n",
              "</table>\n",
              "</div>"
            ],
            "text/plain": [
              "          state   total      Obama     Romney  winner  voters    turnout  \\\n",
              "county                                                                     \n",
              "Adams        PA   41973  35.482334  63.112001  Romney   61156  68.632677   \n",
              "Allegheny    PA  614671  56.640219  42.185820   Obama  924351  66.497575   \n",
              "Armstrong    PA   28322  30.696985  67.901278  Romney   42147  67.198140   \n",
              "Beaver       PA   80015  46.032619  52.637630  Romney  115157  69.483401   \n",
              "Bedford      PA   21444  22.057452  76.986570  Romney   32189  66.619031   \n",
              "\n",
              "              margin  \n",
              "county                \n",
              "Adams      27.629667  \n",
              "Allegheny  14.454399  \n",
              "Armstrong  37.204293  \n",
              "Beaver      6.605012  \n",
              "Bedford    54.929118  "
            ]
          },
          "metadata": {
            "tags": []
          },
          "execution_count": 5
        }
      ]
    },
    {
      "metadata": {
        "id": "DOxCJyMntODD",
        "colab_type": "text"
      },
      "cell_type": "markdown",
      "source": [
        "### Indexing and column rearrangement"
      ]
    },
    {
      "metadata": {
        "id": "Df94qXI2s-54",
        "colab_type": "code",
        "colab": {
          "base_uri": "https://localhost:8080/",
          "height": 148
        },
        "outputId": "41474238-ec19-429e-c87c-d1b48c9d34ab"
      },
      "cell_type": "code",
      "source": [
        "# Create a separate dataframe with the columns ['winner', 'total', 'voters']: results\n",
        "results = election[['winner', 'total', 'voters']]\n",
        "\n",
        "# Print the output of results.head()\n",
        "print(results.head())"
      ],
      "execution_count": 6,
      "outputs": [
        {
          "output_type": "stream",
          "text": [
            "           winner   total  voters\n",
            "county                           \n",
            "Adams      Romney   41973   61156\n",
            "Allegheny   Obama  614671  924351\n",
            "Armstrong  Romney   28322   42147\n",
            "Beaver     Romney   80015  115157\n",
            "Bedford    Romney   21444   32189\n"
          ],
          "name": "stdout"
        }
      ]
    },
    {
      "metadata": {
        "id": "iHnSmlqftehN",
        "colab_type": "text"
      },
      "cell_type": "markdown",
      "source": [
        "### Slicing rows"
      ]
    },
    {
      "metadata": {
        "id": "optSjbS2tGbv",
        "colab_type": "code",
        "colab": {
          "base_uri": "https://localhost:8080/",
          "height": 503
        },
        "outputId": "079f6df6-f41e-40b9-b9cb-79967f7bfd7f"
      },
      "cell_type": "code",
      "source": [
        "# Slice the row labels 'Perry' to 'Potter': p_counties\n",
        "p_counties = election.loc['Perry':'Potter']\n",
        "\n",
        "# Print the p_counties DataFrame\n",
        "print(p_counties)\n",
        "\n",
        "# Slice the row labels 'Potter' to 'Perry' in reverse order: p_counties_rev\n",
        "p_counties_rev = election.loc['Potter':'Perry':-1]\n",
        "\n",
        "# Print the p_counties_rev DataFrame\n",
        "print(p_counties_rev)"
      ],
      "execution_count": 7,
      "outputs": [
        {
          "output_type": "stream",
          "text": [
            "             state   total      Obama     Romney  winner   voters    turnout  \\\n",
            "county                                                                         \n",
            "Perry           PA   18240  29.769737  68.591009  Romney    27245  66.948064   \n",
            "Philadelphia    PA  653598  85.224251  14.051451   Obama  1099197  59.461407   \n",
            "Pike            PA   23164  43.904334  54.882576  Romney    41840  55.363289   \n",
            "Potter          PA    7205  26.259542  72.158223  Romney    10913  66.022175   \n",
            "\n",
            "                 margin  \n",
            "county                   \n",
            "Perry         38.821272  \n",
            "Philadelphia  71.172800  \n",
            "Pike          10.978242  \n",
            "Potter        45.898681  \n",
            "             state   total      Obama     Romney  winner   voters    turnout  \\\n",
            "county                                                                         \n",
            "Potter          PA    7205  26.259542  72.158223  Romney    10913  66.022175   \n",
            "Pike            PA   23164  43.904334  54.882576  Romney    41840  55.363289   \n",
            "Philadelphia    PA  653598  85.224251  14.051451   Obama  1099197  59.461407   \n",
            "Perry           PA   18240  29.769737  68.591009  Romney    27245  66.948064   \n",
            "\n",
            "                 margin  \n",
            "county                   \n",
            "Potter        45.898681  \n",
            "Pike          10.978242  \n",
            "Philadelphia  71.172800  \n",
            "Perry         38.821272  \n"
          ],
          "name": "stdout"
        }
      ]
    },
    {
      "metadata": {
        "id": "MR27Yj_NtoLf",
        "colab_type": "text"
      },
      "cell_type": "markdown",
      "source": [
        "### Slicing columns"
      ]
    },
    {
      "metadata": {
        "id": "hF_3GjhItg72",
        "colab_type": "code",
        "colab": {
          "base_uri": "https://localhost:8080/",
          "height": 409
        },
        "outputId": "609a2583-57e6-46c3-bda6-273051c43aa2"
      },
      "cell_type": "code",
      "source": [
        "# Slice the columns from the starting column to 'Obama': left_columns\n",
        "left_columns = election.loc[:,:'Obama']\n",
        "\n",
        "# Print the output of left_columns.head()\n",
        "print(left_columns.head())\n",
        "\n",
        "# Slice the columns from 'Obama' to 'winner': middle_columns\n",
        "middle_columns = election.loc[:,'Obama':'winner']\n",
        "\n",
        "# Print the output of middle_columns.head()\n",
        "print(middle_columns.head())\n",
        "\n",
        "# Slice the columns from 'Romney' to the end: 'right_columns'\n",
        "right_columns = election.loc[:,'Romney':]\n",
        "\n",
        "# Print the output of right_columns.head()\n",
        "print(right_columns.head())"
      ],
      "execution_count": 8,
      "outputs": [
        {
          "output_type": "stream",
          "text": [
            "          state   total      Obama\n",
            "county                            \n",
            "Adams        PA   41973  35.482334\n",
            "Allegheny    PA  614671  56.640219\n",
            "Armstrong    PA   28322  30.696985\n",
            "Beaver       PA   80015  46.032619\n",
            "Bedford      PA   21444  22.057452\n",
            "               Obama     Romney  winner\n",
            "county                                 \n",
            "Adams      35.482334  63.112001  Romney\n",
            "Allegheny  56.640219  42.185820   Obama\n",
            "Armstrong  30.696985  67.901278  Romney\n",
            "Beaver     46.032619  52.637630  Romney\n",
            "Bedford    22.057452  76.986570  Romney\n",
            "              Romney  winner  voters    turnout     margin\n",
            "county                                                    \n",
            "Adams      63.112001  Romney   61156  68.632677  27.629667\n",
            "Allegheny  42.185820   Obama  924351  66.497575  14.454399\n",
            "Armstrong  67.901278  Romney   42147  67.198140  37.204293\n",
            "Beaver     52.637630  Romney  115157  69.483401   6.605012\n",
            "Bedford    76.986570  Romney   32189  66.619031  54.929118\n"
          ],
          "name": "stdout"
        }
      ]
    },
    {
      "metadata": {
        "id": "kyajhOApt65c",
        "colab_type": "text"
      },
      "cell_type": "markdown",
      "source": [
        "### Subselecting DataFrames with lists"
      ]
    },
    {
      "metadata": {
        "id": "sMPi8Tp5tyY7",
        "colab_type": "code",
        "colab": {
          "base_uri": "https://localhost:8080/",
          "height": 111
        },
        "outputId": "59467047-3753-4df5-f210-b05ef226d065"
      },
      "cell_type": "code",
      "source": [
        "# Create the list of row labels: rows\n",
        "rows = ['Philadelphia', 'Centre', 'Fulton']\n",
        "\n",
        "# Create the list of column labels: cols\n",
        "cols = ['winner', 'Obama', 'Romney']\n",
        "\n",
        "# Create the new DataFrame: three_counties\n",
        "three_counties = election.loc[rows,cols]\n",
        "\n",
        "# Print the three_counties DataFrame\n",
        "print(three_counties)"
      ],
      "execution_count": 9,
      "outputs": [
        {
          "output_type": "stream",
          "text": [
            "              winner      Obama     Romney\n",
            "county                                    \n",
            "Philadelphia   Obama  85.224251  14.051451\n",
            "Centre        Romney  48.948416  48.977486\n",
            "Fulton        Romney  21.096291  77.748861\n"
          ],
          "name": "stdout"
        }
      ]
    },
    {
      "metadata": {
        "id": "YXNAjTbIuFNG",
        "colab_type": "text"
      },
      "cell_type": "markdown",
      "source": [
        "### Thresholding data"
      ]
    },
    {
      "metadata": {
        "id": "rHkVLj69t_Ei",
        "colab_type": "code",
        "colab": {
          "base_uri": "https://localhost:8080/",
          "height": 372
        },
        "outputId": "1d809a18-8f34-4c19-edd8-d9866c6fbab1"
      },
      "cell_type": "code",
      "source": [
        "# Create the boolean array: high_turnout\n",
        "high_turnout = election.turnout > 70\n",
        "\n",
        "# Filter the election DataFrame with the high_turnout array: high_turnout_df\n",
        "high_turnout_df = election[high_turnout]\n",
        "\n",
        "# Print the high_turnout_results DataFrame\n",
        "print(high_turnout_df)"
      ],
      "execution_count": 10,
      "outputs": [
        {
          "output_type": "stream",
          "text": [
            "             state   total      Obama     Romney  winner  voters    turnout  \\\n",
            "county                                                                        \n",
            "Bucks           PA  319407  49.966970  48.801686   Obama  435606  73.324748   \n",
            "Butler          PA   88924  31.920516  66.816607  Romney  122762  72.436096   \n",
            "Chester         PA  248295  49.228539  49.650617  Romney  337822  73.498766   \n",
            "Forest          PA    2308  38.734835  59.835355  Romney    3232  71.410891   \n",
            "Franklin        PA   62802  30.110506  68.583803  Romney   87406  71.850903   \n",
            "Montgomery      PA  401787  56.637223  42.286834   Obama  551105  72.905708   \n",
            "Westmoreland    PA  168709  37.567646  61.306154  Romney  238006  70.884347   \n",
            "\n",
            "                 margin  \n",
            "county                   \n",
            "Bucks          1.165284  \n",
            "Butler        34.896091  \n",
            "Chester        0.422079  \n",
            "Forest        21.100520  \n",
            "Franklin      38.473297  \n",
            "Montgomery    14.350390  \n",
            "Westmoreland  23.738508  \n"
          ],
          "name": "stdout"
        }
      ]
    },
    {
      "metadata": {
        "id": "oNJ__KjTuOVb",
        "colab_type": "text"
      },
      "cell_type": "markdown",
      "source": [
        "### Filtering columns using other columns"
      ]
    },
    {
      "metadata": {
        "id": "j-t_j7ZQuHnM",
        "colab_type": "code",
        "colab": {
          "base_uri": "https://localhost:8080/",
          "height": 372
        },
        "outputId": "4136b420-b386-4c37-8c52-abf7e7332344"
      },
      "cell_type": "code",
      "source": [
        "# Import numpy\n",
        "import numpy as np\n",
        "\n",
        "# Create the boolean array: too_close\n",
        "too_close = election.margin < 1\n",
        "\n",
        "# Assign np.nan to the 'winner' column where the results were too close to call\n",
        "election.winner[too_close] = np.nan\n",
        "\n",
        "# Print the output of election.info()\n",
        "print(election.info())"
      ],
      "execution_count": 11,
      "outputs": [
        {
          "output_type": "stream",
          "text": [
            "<class 'pandas.core.frame.DataFrame'>\n",
            "Index: 67 entries, Adams to York\n",
            "Data columns (total 8 columns):\n",
            "state      67 non-null object\n",
            "total      67 non-null int64\n",
            "Obama      67 non-null float64\n",
            "Romney     67 non-null float64\n",
            "winner     64 non-null object\n",
            "voters     67 non-null int64\n",
            "turnout    67 non-null float64\n",
            "margin     67 non-null float64\n",
            "dtypes: float64(4), int64(2), object(2)\n",
            "memory usage: 7.2+ KB\n",
            "None\n"
          ],
          "name": "stdout"
        },
        {
          "output_type": "stream",
          "text": [
            "/usr/local/lib/python3.6/dist-packages/ipykernel_launcher.py:7: SettingWithCopyWarning: \n",
            "A value is trying to be set on a copy of a slice from a DataFrame\n",
            "\n",
            "See the caveats in the documentation: http://pandas.pydata.org/pandas-docs/stable/indexing.html#indexing-view-versus-copy\n",
            "  import sys\n"
          ],
          "name": "stderr"
        }
      ]
    },
    {
      "metadata": {
        "id": "1vMFsmheulOv",
        "colab_type": "text"
      },
      "cell_type": "markdown",
      "source": [
        "### Filtering using NaNs"
      ]
    },
    {
      "metadata": {
        "id": "nqePYCBBuw5J",
        "colab_type": "code",
        "colab": {}
      },
      "cell_type": "code",
      "source": [
        "titanic = pd.read_csv('titanic.csv')"
      ],
      "execution_count": 0,
      "outputs": []
    },
    {
      "metadata": {
        "id": "bQv_Q6N3vYp9",
        "colab_type": "code",
        "colab": {
          "base_uri": "https://localhost:8080/",
          "height": 391
        },
        "outputId": "58995d7e-6bb9-4ec0-aa49-e1b5fd78fc1e"
      },
      "cell_type": "code",
      "source": [
        "print(titanic.shape)\n",
        "titanic.info()"
      ],
      "execution_count": 13,
      "outputs": [
        {
          "output_type": "stream",
          "text": [
            "(1309, 14)\n",
            "<class 'pandas.core.frame.DataFrame'>\n",
            "RangeIndex: 1309 entries, 0 to 1308\n",
            "Data columns (total 14 columns):\n",
            "pclass       1309 non-null int64\n",
            "survived     1309 non-null int64\n",
            "name         1309 non-null object\n",
            "sex          1309 non-null object\n",
            "age          1046 non-null float64\n",
            "sibsp        1309 non-null int64\n",
            "parch        1309 non-null int64\n",
            "ticket       1309 non-null object\n",
            "fare         1308 non-null float64\n",
            "cabin        295 non-null object\n",
            "embarked     1307 non-null object\n",
            "boat         486 non-null object\n",
            "body         121 non-null float64\n",
            "home.dest    745 non-null object\n",
            "dtypes: float64(3), int64(4), object(7)\n",
            "memory usage: 143.2+ KB\n"
          ],
          "name": "stdout"
        }
      ]
    },
    {
      "metadata": {
        "id": "1JPgJOAWuQfG",
        "colab_type": "code",
        "colab": {
          "base_uri": "https://localhost:8080/",
          "height": 372
        },
        "outputId": "117b2f6d-814b-45a6-f372-7ffd10d3a358"
      },
      "cell_type": "code",
      "source": [
        "# Select the 'age' and 'cabin' columns: df\n",
        "df = titanic[['age' ,'cabin']]\n",
        "\n",
        "# Print the shape of df\n",
        "print(df.shape)\n",
        "\n",
        "# Drop rows in df with how='any' and print the shape\n",
        "print(df.dropna(how='any').shape)\n",
        "\n",
        "# Drop rows in df with how='all' and print the shape\n",
        "print(df.dropna(how='all').shape)\n",
        "\n",
        "# Drop columns in titanic with less than 1000 non-missing values\n",
        "print(titanic.dropna(thresh=1000, axis='columns').info())"
      ],
      "execution_count": 14,
      "outputs": [
        {
          "output_type": "stream",
          "text": [
            "(1309, 2)\n",
            "(272, 2)\n",
            "(1069, 2)\n",
            "<class 'pandas.core.frame.DataFrame'>\n",
            "RangeIndex: 1309 entries, 0 to 1308\n",
            "Data columns (total 10 columns):\n",
            "pclass      1309 non-null int64\n",
            "survived    1309 non-null int64\n",
            "name        1309 non-null object\n",
            "sex         1309 non-null object\n",
            "age         1046 non-null float64\n",
            "sibsp       1309 non-null int64\n",
            "parch       1309 non-null int64\n",
            "ticket      1309 non-null object\n",
            "fare        1308 non-null float64\n",
            "embarked    1307 non-null object\n",
            "dtypes: float64(2), int64(4), object(4)\n",
            "memory usage: 102.3+ KB\n",
            "None\n"
          ],
          "name": "stdout"
        }
      ]
    },
    {
      "metadata": {
        "id": "hYdfwGpWvghI",
        "colab_type": "text"
      },
      "cell_type": "markdown",
      "source": [
        "### Using apply() to transform a column"
      ]
    },
    {
      "metadata": {
        "id": "63-7bgxOvxBO",
        "colab_type": "code",
        "colab": {}
      },
      "cell_type": "code",
      "source": [
        "weather = pd.read_csv('weather.csv')"
      ],
      "execution_count": 0,
      "outputs": []
    },
    {
      "metadata": {
        "id": "gjX7U8omunMu",
        "colab_type": "code",
        "colab": {
          "base_uri": "https://localhost:8080/",
          "height": 129
        },
        "outputId": "0982fd77-648a-471a-c319-773e5db5f02e"
      },
      "cell_type": "code",
      "source": [
        "# Write a function to convert degrees Fahrenheit to degrees Celsius: to_celsius\n",
        "def to_celsius(F):\n",
        "    return 5/9*(F - 32)\n",
        "\n",
        "# Apply the function over 'Mean TemperatureF' and 'Mean Dew PointF': df_celsius\n",
        "df_celsius = weather[['Mean TemperatureF','Mean Dew PointF']].apply(to_celsius)\n",
        "\n",
        "# Reassign the columns df_celsius\n",
        "df_celsius.columns = ['Mean TemperatureC', 'Mean Dew PointC']\n",
        "\n",
        "# Print the output of df_celsius.head()\n",
        "print(df_celsius.head())\n"
      ],
      "execution_count": 16,
      "outputs": [
        {
          "output_type": "stream",
          "text": [
            "   Mean TemperatureC  Mean Dew PointC\n",
            "0          -2.222222        -2.777778\n",
            "1          -6.111111       -11.111111\n",
            "2          -4.444444        -9.444444\n",
            "3          -2.222222        -7.222222\n",
            "4          -1.111111        -6.666667\n"
          ],
          "name": "stdout"
        }
      ]
    },
    {
      "metadata": {
        "id": "CyJ4XCciwam3",
        "colab_type": "text"
      },
      "cell_type": "markdown",
      "source": [
        "### Using .map() with a dictionary"
      ]
    },
    {
      "metadata": {
        "id": "CPE09qjywC2G",
        "colab_type": "code",
        "colab": {
          "base_uri": "https://localhost:8080/",
          "height": 297
        },
        "outputId": "80a1c2ee-306f-4fdd-947a-8937147bf616"
      },
      "cell_type": "code",
      "source": [
        "# Create the dictionary: red_vs_blue\n",
        "red_vs_blue = {'Obama':'blue', 'Romney':'red'}\n",
        "\n",
        "# Use the dictionary to map the 'winner' column to the new column: election['color']\n",
        "election['color'] = election.winner.map(red_vs_blue)\n",
        "\n",
        "# Print the output of election.head()\n",
        "print(election.head())"
      ],
      "execution_count": 17,
      "outputs": [
        {
          "output_type": "stream",
          "text": [
            "          state   total      Obama     Romney  winner  voters    turnout  \\\n",
            "county                                                                     \n",
            "Adams        PA   41973  35.482334  63.112001  Romney   61156  68.632677   \n",
            "Allegheny    PA  614671  56.640219  42.185820   Obama  924351  66.497575   \n",
            "Armstrong    PA   28322  30.696985  67.901278  Romney   42147  67.198140   \n",
            "Beaver       PA   80015  46.032619  52.637630  Romney  115157  69.483401   \n",
            "Bedford      PA   21444  22.057452  76.986570  Romney   32189  66.619031   \n",
            "\n",
            "              margin color  \n",
            "county                      \n",
            "Adams      27.629667   red  \n",
            "Allegheny  14.454399  blue  \n",
            "Armstrong  37.204293   red  \n",
            "Beaver      6.605012   red  \n",
            "Bedford    54.929118   red  \n"
          ],
          "name": "stdout"
        }
      ]
    },
    {
      "metadata": {
        "id": "GAQABRaSwhwD",
        "colab_type": "text"
      },
      "cell_type": "markdown",
      "source": [
        "### Using vectorized functions"
      ]
    },
    {
      "metadata": {
        "id": "BxYRiFw4wsxY",
        "colab_type": "text"
      },
      "cell_type": "markdown",
      "source": [
        "When performance is paramount, you should avoid using `.apply()` and `.map()` because those constructs perform Python for-loops over the data stored in a pandas Series or DataFrame. By using **vectorized functions** instead, you can loop over the data at the same speed as compiled code (C, Fortran, etc.)! NumPy, SciPy and pandas come with a variety of vectorized functions (called **Universal Functions or UFuncs in NumPy**).\n",
        "\n",
        "In this exercise you're going to import the **`zscore`** function from `scipy.stats` and use it to compute the deviation in voter turnout in Pennsylvania from the mean in fractions of the standard deviation. In statistics, the z-score is the number of standard deviations by which an observation is above the mean - so if it is negative, it means the observation is below the mean.\n",
        "\n",
        "Instead of using `.apply()` as you did in the earlier exercises, the`zscore` UFunc will take a pandas Series as input and return a NumPy array. You will then assign the values of the NumPy array to a new column in the DataFrame. "
      ]
    },
    {
      "metadata": {
        "id": "249o2Nc0wD3I",
        "colab_type": "code",
        "colab": {
          "base_uri": "https://localhost:8080/",
          "height": 316
        },
        "outputId": "1840a81c-0652-4f2b-c1cb-276b2edeecc0"
      },
      "cell_type": "code",
      "source": [
        "# Import zscore from scipy.stats\n",
        "from scipy.stats import zscore\n",
        "\n",
        "# Call zscore with election['turnout'] as input: turnout_zscore\n",
        "turnout_zscore = zscore(election['turnout'])\n",
        "\n",
        "# Print the type of turnout_zscore\n",
        "print(type(turnout_zscore))\n",
        "\n",
        "# Assign turnout_zscore to a new column: election['turnout_zscore']\n",
        "election['turnout_zscore'] = turnout_zscore\n",
        "\n",
        "# Print the output of election.head()\n",
        "print(election.head())"
      ],
      "execution_count": 18,
      "outputs": [
        {
          "output_type": "stream",
          "text": [
            "<class 'numpy.ndarray'>\n",
            "          state   total      Obama     Romney  winner  voters    turnout  \\\n",
            "county                                                                     \n",
            "Adams        PA   41973  35.482334  63.112001  Romney   61156  68.632677   \n",
            "Allegheny    PA  614671  56.640219  42.185820   Obama  924351  66.497575   \n",
            "Armstrong    PA   28322  30.696985  67.901278  Romney   42147  67.198140   \n",
            "Beaver       PA   80015  46.032619  52.637630  Romney  115157  69.483401   \n",
            "Bedford      PA   21444  22.057452  76.986570  Romney   32189  66.619031   \n",
            "\n",
            "              margin color  turnout_zscore  \n",
            "county                                      \n",
            "Adams      27.629667   red        0.853734  \n",
            "Allegheny  14.454399  blue        0.439846  \n",
            "Armstrong  37.204293   red        0.575650  \n",
            "Beaver      6.605012   red        1.018647  \n",
            "Bedford    54.929118   red        0.463391  \n"
          ],
          "name": "stdout"
        }
      ]
    },
    {
      "metadata": {
        "id": "lgZWR7A2w77r",
        "colab_type": "text"
      },
      "cell_type": "markdown",
      "source": [
        "## 2. Advanced indexing"
      ]
    },
    {
      "metadata": {
        "id": "AwU-QkqJGWKg",
        "colab_type": "text"
      },
      "cell_type": "markdown",
      "source": [
        "### Changing index of a DataFrame"
      ]
    },
    {
      "metadata": {
        "id": "wfExGUgZ-GSi",
        "colab_type": "code",
        "colab": {}
      },
      "cell_type": "code",
      "source": [
        "labels = ['month', 'eggs', 'salt', 'spam']\n",
        "values = [['Jan', 'Feb', 'Mar', 'Apr', 'May', 'Jun'],\n",
        "          [47,110,221,77,132,205],\n",
        "          [12.0,50.0,89.0,87.0,np.nan,60.0],\n",
        "          [17,31,72,20,52,55]]\n",
        "\n",
        "data = {label:value for label, value in zip(labels,values)}"
      ],
      "execution_count": 0,
      "outputs": []
    },
    {
      "metadata": {
        "id": "vkRSdZnqwjp5",
        "colab_type": "code",
        "colab": {}
      },
      "cell_type": "code",
      "source": [
        "sales = pd.DataFrame(data)\n",
        "sales.set_index('month',inplace=True)"
      ],
      "execution_count": 0,
      "outputs": []
    },
    {
      "metadata": {
        "id": "oQ40G7XvFjuu",
        "colab_type": "code",
        "colab": {
          "base_uri": "https://localhost:8080/",
          "height": 148
        },
        "outputId": "fea5e929-e44f-49be-c58d-6b529b4c01e0"
      },
      "cell_type": "code",
      "source": [
        "df = sales.copy()\n",
        "\n",
        "# Create the list of new indexes: new_idx\n",
        "new_idx = [idx.upper() for idx in sales.index]\n",
        "\n",
        "# Assign new_idx to sales.index\n",
        "df.index = new_idx\n",
        "\n",
        "# Print the sales DataFrame\n",
        "print(df)"
      ],
      "execution_count": 21,
      "outputs": [
        {
          "output_type": "stream",
          "text": [
            "     eggs  salt  spam\n",
            "JAN    47  12.0    17\n",
            "FEB   110  50.0    31\n",
            "MAR   221  89.0    72\n",
            "APR    77  87.0    20\n",
            "MAY   132   NaN    52\n",
            "JUN   205  60.0    55\n"
          ],
          "name": "stdout"
        }
      ]
    },
    {
      "metadata": {
        "id": "4R5-74y2G6f_",
        "colab_type": "text"
      },
      "cell_type": "markdown",
      "source": [
        "### Changing index name labels"
      ]
    },
    {
      "metadata": {
        "id": "qVSZRjCiGbt_",
        "colab_type": "code",
        "colab": {
          "base_uri": "https://localhost:8080/",
          "height": 316
        },
        "outputId": "0174ab0b-fbd3-4e26-a2b8-a1c6ffaf4504"
      },
      "cell_type": "code",
      "source": [
        "# Assign the string 'MONTHS' to sales.index.name\n",
        "df.index.name = 'MONTHS'\n",
        "\n",
        "# Print the sales DataFrame\n",
        "print(df)\n",
        "\n",
        "# Assign the string 'PRODUCTS' to sales.columns.name \n",
        "df.columns.name = 'PRODUCTS'\n",
        "\n",
        "# Print the sales dataframe again\n",
        "print(df)"
      ],
      "execution_count": 22,
      "outputs": [
        {
          "output_type": "stream",
          "text": [
            "        eggs  salt  spam\n",
            "MONTHS                  \n",
            "JAN       47  12.0    17\n",
            "FEB      110  50.0    31\n",
            "MAR      221  89.0    72\n",
            "APR       77  87.0    20\n",
            "MAY      132   NaN    52\n",
            "JUN      205  60.0    55\n",
            "PRODUCTS  eggs  salt  spam\n",
            "MONTHS                    \n",
            "JAN         47  12.0    17\n",
            "FEB        110  50.0    31\n",
            "MAR        221  89.0    72\n",
            "APR         77  87.0    20\n",
            "MAY        132   NaN    52\n",
            "JUN        205  60.0    55\n"
          ],
          "name": "stdout"
        }
      ]
    },
    {
      "metadata": {
        "id": "pEzRO09UHCwJ",
        "colab_type": "text"
      },
      "cell_type": "markdown",
      "source": [
        "### Building an index, then a DataFrame"
      ]
    },
    {
      "metadata": {
        "id": "LSdocqVfG9fM",
        "colab_type": "code",
        "colab": {
          "base_uri": "https://localhost:8080/",
          "height": 148
        },
        "outputId": "458e53d3-0a57-4c12-c419-e23f3aea7932"
      },
      "cell_type": "code",
      "source": [
        "# Generate the list of months: months\n",
        "months = ['Jan', 'Feb', 'Mar', 'Apr', 'May', 'Jun']\n",
        "\n",
        "# Assign months to sales.index\n",
        "df.index = months\n",
        "\n",
        "# Print the modified sales DataFrame\n",
        "print(df)"
      ],
      "execution_count": 23,
      "outputs": [
        {
          "output_type": "stream",
          "text": [
            "PRODUCTS  eggs  salt  spam\n",
            "Jan         47  12.0    17\n",
            "Feb        110  50.0    31\n",
            "Mar        221  89.0    72\n",
            "Apr         77  87.0    20\n",
            "May        132   NaN    52\n",
            "Jun        205  60.0    55\n"
          ],
          "name": "stdout"
        }
      ]
    },
    {
      "metadata": {
        "id": "ihm5O82hHJR0",
        "colab_type": "text"
      },
      "cell_type": "markdown",
      "source": [
        "### Extracting data with a MultiIndex"
      ]
    },
    {
      "metadata": {
        "id": "rIzIjqGeHWls",
        "colab_type": "code",
        "colab": {}
      },
      "cell_type": "code",
      "source": [
        "state = ['CA','CA','NY','NY','TX','TX']\n",
        "data['state'] = state\n",
        "df = pd.DataFrame(data)\n",
        "df = df.set_index(['state','month'])"
      ],
      "execution_count": 0,
      "outputs": []
    },
    {
      "metadata": {
        "id": "YWhxKTuaHEnr",
        "colab_type": "code",
        "colab": {
          "base_uri": "https://localhost:8080/",
          "height": 391
        },
        "outputId": "4e594496-924e-455c-91b3-a2cb196189ba"
      },
      "cell_type": "code",
      "source": [
        "# Print sales.loc[['CA', 'TX']]\n",
        "print(df.loc[['CA']],'\\n')\n",
        "\n",
        "# Print sales.loc[['CA', 'TX']]\n",
        "print(df.loc[['CA', 'TX']],'\\n')\n",
        "\n",
        "# Print sales['CA':'TX']\n",
        "print(df['CA':'TX'])"
      ],
      "execution_count": 25,
      "outputs": [
        {
          "output_type": "stream",
          "text": [
            "             eggs  salt  spam\n",
            "state month                  \n",
            "CA    Jan      47  12.0    17\n",
            "      Feb     110  50.0    31 \n",
            "\n",
            "             eggs  salt  spam\n",
            "state month                  \n",
            "CA    Jan      47  12.0    17\n",
            "      Feb     110  50.0    31\n",
            "TX    May     132   NaN    52\n",
            "      Jun     205  60.0    55 \n",
            "\n",
            "             eggs  salt  spam\n",
            "state month                  \n",
            "CA    Jan      47  12.0    17\n",
            "      Feb     110  50.0    31\n",
            "NY    Mar     221  89.0    72\n",
            "      Apr      77  87.0    20\n",
            "TX    May     132   NaN    52\n",
            "      Jun     205  60.0    55\n"
          ],
          "name": "stdout"
        }
      ]
    },
    {
      "metadata": {
        "id": "9WQcPk_mKy6x",
        "colab_type": "text"
      },
      "cell_type": "markdown",
      "source": [
        "### Using .loc[] with nonunique indexes"
      ]
    },
    {
      "metadata": {
        "id": "ndDNxMYIRfpD",
        "colab_type": "code",
        "colab": {}
      },
      "cell_type": "code",
      "source": [
        "sales = df.reset_index()"
      ],
      "execution_count": 0,
      "outputs": []
    },
    {
      "metadata": {
        "id": "TvY2mjrJHNdM",
        "colab_type": "code",
        "colab": {
          "base_uri": "https://localhost:8080/",
          "height": 260
        },
        "outputId": "d251b497-71a9-4d03-90f8-3d84748ea27a"
      },
      "cell_type": "code",
      "source": [
        "# Set the index to the column 'state': sales\n",
        "sales = sales.set_index('state')\n",
        "\n",
        "# Print the sales DataFrame\n",
        "print(sales,'\\n')\n",
        "\n",
        "# Access the data from 'NY'\n",
        "print(sales.loc['NY'])"
      ],
      "execution_count": 27,
      "outputs": [
        {
          "output_type": "stream",
          "text": [
            "      month  eggs  salt  spam\n",
            "state                        \n",
            "CA      Jan    47  12.0    17\n",
            "CA      Feb   110  50.0    31\n",
            "NY      Mar   221  89.0    72\n",
            "NY      Apr    77  87.0    20\n",
            "TX      May   132   NaN    52\n",
            "TX      Jun   205  60.0    55 \n",
            "\n",
            "      month  eggs  salt  spam\n",
            "state                        \n",
            "NY      Mar   221  89.0    72\n",
            "NY      Apr    77  87.0    20\n"
          ],
          "name": "stdout"
        }
      ]
    },
    {
      "metadata": {
        "id": "5oJkQnBJLkft",
        "colab_type": "text"
      },
      "cell_type": "markdown",
      "source": [
        "### Indexing multiple levels of a MultiIndex"
      ]
    },
    {
      "metadata": {
        "id": "Pz4YW6gzLwsu",
        "colab_type": "code",
        "colab": {}
      },
      "cell_type": "code",
      "source": [
        "sales = df.reset_index()\n",
        "sales['month'] = [1,2,1,2,1,2]\n",
        "sales = sales.set_index(['state','month'])"
      ],
      "execution_count": 0,
      "outputs": []
    },
    {
      "metadata": {
        "id": "SIUdnPBgMt34",
        "colab_type": "code",
        "colab": {
          "base_uri": "https://localhost:8080/",
          "height": 92
        },
        "outputId": "7c0c10f5-f7ab-42ac-923d-b613d51aa3ad"
      },
      "cell_type": "code",
      "source": [
        "# Look up data for NY in month 1: NY_month1\n",
        "sales.loc[('NY', 1)]"
      ],
      "execution_count": 29,
      "outputs": [
        {
          "output_type": "execute_result",
          "data": {
            "text/plain": [
              "eggs    221.0\n",
              "salt     89.0\n",
              "spam     72.0\n",
              "Name: (NY, 1), dtype: float64"
            ]
          },
          "metadata": {
            "tags": []
          },
          "execution_count": 29
        }
      ]
    },
    {
      "metadata": {
        "id": "HKauSgvAXtvC",
        "colab_type": "code",
        "colab": {
          "base_uri": "https://localhost:8080/",
          "height": 141
        },
        "outputId": "465e6c78-61b9-46fe-82f7-fdd841b1a4ce"
      },
      "cell_type": "code",
      "source": [
        "# Look up data for CA and TX in month 2: CA_TX_month2\n",
        "sales.loc[(['CA', 'TX'], 2),:]"
      ],
      "execution_count": 30,
      "outputs": [
        {
          "output_type": "execute_result",
          "data": {
            "text/html": [
              "<div>\n",
              "<style scoped>\n",
              "    .dataframe tbody tr th:only-of-type {\n",
              "        vertical-align: middle;\n",
              "    }\n",
              "\n",
              "    .dataframe tbody tr th {\n",
              "        vertical-align: top;\n",
              "    }\n",
              "\n",
              "    .dataframe thead th {\n",
              "        text-align: right;\n",
              "    }\n",
              "</style>\n",
              "<table border=\"1\" class=\"dataframe\">\n",
              "  <thead>\n",
              "    <tr style=\"text-align: right;\">\n",
              "      <th></th>\n",
              "      <th></th>\n",
              "      <th>eggs</th>\n",
              "      <th>salt</th>\n",
              "      <th>spam</th>\n",
              "    </tr>\n",
              "    <tr>\n",
              "      <th>state</th>\n",
              "      <th>month</th>\n",
              "      <th></th>\n",
              "      <th></th>\n",
              "      <th></th>\n",
              "    </tr>\n",
              "  </thead>\n",
              "  <tbody>\n",
              "    <tr>\n",
              "      <th>CA</th>\n",
              "      <th>2</th>\n",
              "      <td>110</td>\n",
              "      <td>50.0</td>\n",
              "      <td>31</td>\n",
              "    </tr>\n",
              "    <tr>\n",
              "      <th>TX</th>\n",
              "      <th>2</th>\n",
              "      <td>205</td>\n",
              "      <td>60.0</td>\n",
              "      <td>55</td>\n",
              "    </tr>\n",
              "  </tbody>\n",
              "</table>\n",
              "</div>"
            ],
            "text/plain": [
              "             eggs  salt  spam\n",
              "state month                  \n",
              "CA    2       110  50.0    31\n",
              "TX    2       205  60.0    55"
            ]
          },
          "metadata": {
            "tags": []
          },
          "execution_count": 30
        }
      ]
    },
    {
      "metadata": {
        "id": "FwmEuC-VK8Km",
        "colab_type": "code",
        "colab": {
          "base_uri": "https://localhost:8080/",
          "height": 171
        },
        "outputId": "f330d507-e8c4-4417-a410-bcccd8257da2"
      },
      "cell_type": "code",
      "source": [
        "# Look up data for all states in month 2: all_month2\n",
        "sales.loc[(slice(None), 2),:]"
      ],
      "execution_count": 31,
      "outputs": [
        {
          "output_type": "execute_result",
          "data": {
            "text/html": [
              "<div>\n",
              "<style scoped>\n",
              "    .dataframe tbody tr th:only-of-type {\n",
              "        vertical-align: middle;\n",
              "    }\n",
              "\n",
              "    .dataframe tbody tr th {\n",
              "        vertical-align: top;\n",
              "    }\n",
              "\n",
              "    .dataframe thead th {\n",
              "        text-align: right;\n",
              "    }\n",
              "</style>\n",
              "<table border=\"1\" class=\"dataframe\">\n",
              "  <thead>\n",
              "    <tr style=\"text-align: right;\">\n",
              "      <th></th>\n",
              "      <th></th>\n",
              "      <th>eggs</th>\n",
              "      <th>salt</th>\n",
              "      <th>spam</th>\n",
              "    </tr>\n",
              "    <tr>\n",
              "      <th>state</th>\n",
              "      <th>month</th>\n",
              "      <th></th>\n",
              "      <th></th>\n",
              "      <th></th>\n",
              "    </tr>\n",
              "  </thead>\n",
              "  <tbody>\n",
              "    <tr>\n",
              "      <th>CA</th>\n",
              "      <th>2</th>\n",
              "      <td>110</td>\n",
              "      <td>50.0</td>\n",
              "      <td>31</td>\n",
              "    </tr>\n",
              "    <tr>\n",
              "      <th>NY</th>\n",
              "      <th>2</th>\n",
              "      <td>77</td>\n",
              "      <td>87.0</td>\n",
              "      <td>20</td>\n",
              "    </tr>\n",
              "    <tr>\n",
              "      <th>TX</th>\n",
              "      <th>2</th>\n",
              "      <td>205</td>\n",
              "      <td>60.0</td>\n",
              "      <td>55</td>\n",
              "    </tr>\n",
              "  </tbody>\n",
              "</table>\n",
              "</div>"
            ],
            "text/plain": [
              "             eggs  salt  spam\n",
              "state month                  \n",
              "CA    2       110  50.0    31\n",
              "NY    2        77  87.0    20\n",
              "TX    2       205  60.0    55"
            ]
          },
          "metadata": {
            "tags": []
          },
          "execution_count": 31
        }
      ]
    },
    {
      "metadata": {
        "id": "WQCjqPahYis2",
        "colab_type": "text"
      },
      "cell_type": "markdown",
      "source": [
        "## 3. Rearranging and reshaping data"
      ]
    },
    {
      "metadata": {
        "id": "udimUj4GYlcB",
        "colab_type": "text"
      },
      "cell_type": "markdown",
      "source": [
        "## Pivoting a single variable"
      ]
    },
    {
      "metadata": {
        "id": "xmHBtXo5Y0vD",
        "colab_type": "code",
        "colab": {}
      },
      "cell_type": "code",
      "source": [
        "users = pd.read_csv('users.csv')"
      ],
      "execution_count": 0,
      "outputs": []
    },
    {
      "metadata": {
        "id": "hQt9vkgqY6pv",
        "colab_type": "code",
        "colab": {}
      },
      "cell_type": "code",
      "source": [
        "users\n",
        "users = users.drop('Unnamed: 0',axis=1)"
      ],
      "execution_count": 0,
      "outputs": []
    },
    {
      "metadata": {
        "id": "5rg_O00PLncZ",
        "colab_type": "code",
        "colab": {
          "base_uri": "https://localhost:8080/",
          "height": 141
        },
        "outputId": "47ee2b1c-75d9-431b-b21a-2307f72293bf"
      },
      "cell_type": "code",
      "source": [
        "# Pivot the users DataFrame: visitors_pivot\n",
        "visitors_pivot = users.pivot(index='weekday',columns='city',values='visitors')\n",
        "\n",
        "# Print the pivoted DataFrame\n",
        "visitors_pivot"
      ],
      "execution_count": 34,
      "outputs": [
        {
          "output_type": "execute_result",
          "data": {
            "text/html": [
              "<div>\n",
              "<style scoped>\n",
              "    .dataframe tbody tr th:only-of-type {\n",
              "        vertical-align: middle;\n",
              "    }\n",
              "\n",
              "    .dataframe tbody tr th {\n",
              "        vertical-align: top;\n",
              "    }\n",
              "\n",
              "    .dataframe thead th {\n",
              "        text-align: right;\n",
              "    }\n",
              "</style>\n",
              "<table border=\"1\" class=\"dataframe\">\n",
              "  <thead>\n",
              "    <tr style=\"text-align: right;\">\n",
              "      <th>city</th>\n",
              "      <th>Austin</th>\n",
              "      <th>Dallas</th>\n",
              "    </tr>\n",
              "    <tr>\n",
              "      <th>weekday</th>\n",
              "      <th></th>\n",
              "      <th></th>\n",
              "    </tr>\n",
              "  </thead>\n",
              "  <tbody>\n",
              "    <tr>\n",
              "      <th>Mon</th>\n",
              "      <td>326</td>\n",
              "      <td>456</td>\n",
              "    </tr>\n",
              "    <tr>\n",
              "      <th>Sun</th>\n",
              "      <td>139</td>\n",
              "      <td>237</td>\n",
              "    </tr>\n",
              "  </tbody>\n",
              "</table>\n",
              "</div>"
            ],
            "text/plain": [
              "city     Austin  Dallas\n",
              "weekday                \n",
              "Mon         326     456\n",
              "Sun         139     237"
            ]
          },
          "metadata": {
            "tags": []
          },
          "execution_count": 34
        }
      ]
    },
    {
      "metadata": {
        "id": "KhwEOxh3ZLEf",
        "colab_type": "text"
      },
      "cell_type": "markdown",
      "source": [
        "### Pivoting all variables"
      ]
    },
    {
      "metadata": {
        "id": "qXUFSdZ-Y4t8",
        "colab_type": "code",
        "colab": {
          "base_uri": "https://localhost:8080/",
          "height": 141
        },
        "outputId": "70ae2919-cd1a-4af0-dc55-ac3a67fdb984"
      },
      "cell_type": "code",
      "source": [
        "# Pivot users with signups indexed by weekday and city: signups_pivot\n",
        "signups_pivot = users.pivot(index='weekday',columns='city',values='signups')\n",
        "\n",
        "# Print signups_pivot\n",
        "signups_pivot"
      ],
      "execution_count": 35,
      "outputs": [
        {
          "output_type": "execute_result",
          "data": {
            "text/html": [
              "<div>\n",
              "<style scoped>\n",
              "    .dataframe tbody tr th:only-of-type {\n",
              "        vertical-align: middle;\n",
              "    }\n",
              "\n",
              "    .dataframe tbody tr th {\n",
              "        vertical-align: top;\n",
              "    }\n",
              "\n",
              "    .dataframe thead th {\n",
              "        text-align: right;\n",
              "    }\n",
              "</style>\n",
              "<table border=\"1\" class=\"dataframe\">\n",
              "  <thead>\n",
              "    <tr style=\"text-align: right;\">\n",
              "      <th>city</th>\n",
              "      <th>Austin</th>\n",
              "      <th>Dallas</th>\n",
              "    </tr>\n",
              "    <tr>\n",
              "      <th>weekday</th>\n",
              "      <th></th>\n",
              "      <th></th>\n",
              "    </tr>\n",
              "  </thead>\n",
              "  <tbody>\n",
              "    <tr>\n",
              "      <th>Mon</th>\n",
              "      <td>3</td>\n",
              "      <td>5</td>\n",
              "    </tr>\n",
              "    <tr>\n",
              "      <th>Sun</th>\n",
              "      <td>7</td>\n",
              "      <td>12</td>\n",
              "    </tr>\n",
              "  </tbody>\n",
              "</table>\n",
              "</div>"
            ],
            "text/plain": [
              "city     Austin  Dallas\n",
              "weekday                \n",
              "Mon           3       5\n",
              "Sun           7      12"
            ]
          },
          "metadata": {
            "tags": []
          },
          "execution_count": 35
        }
      ]
    },
    {
      "metadata": {
        "id": "UockDIQcZP6n",
        "colab_type": "code",
        "colab": {
          "base_uri": "https://localhost:8080/",
          "height": 171
        },
        "outputId": "5e1b9f2b-b582-498c-d169-adec97ce3f6d"
      },
      "cell_type": "code",
      "source": [
        "# Pivot users pivoted by both signups and visitors: pivot\n",
        "pivot = users.pivot(index='weekday', columns='city')\n",
        "\n",
        "# Print the pivoted DataFrame\n",
        "pivot"
      ],
      "execution_count": 36,
      "outputs": [
        {
          "output_type": "execute_result",
          "data": {
            "text/html": [
              "<div>\n",
              "<style scoped>\n",
              "    .dataframe tbody tr th:only-of-type {\n",
              "        vertical-align: middle;\n",
              "    }\n",
              "\n",
              "    .dataframe tbody tr th {\n",
              "        vertical-align: top;\n",
              "    }\n",
              "\n",
              "    .dataframe thead tr th {\n",
              "        text-align: left;\n",
              "    }\n",
              "\n",
              "    .dataframe thead tr:last-of-type th {\n",
              "        text-align: right;\n",
              "    }\n",
              "</style>\n",
              "<table border=\"1\" class=\"dataframe\">\n",
              "  <thead>\n",
              "    <tr>\n",
              "      <th></th>\n",
              "      <th colspan=\"2\" halign=\"left\">visitors</th>\n",
              "      <th colspan=\"2\" halign=\"left\">signups</th>\n",
              "    </tr>\n",
              "    <tr>\n",
              "      <th>city</th>\n",
              "      <th>Austin</th>\n",
              "      <th>Dallas</th>\n",
              "      <th>Austin</th>\n",
              "      <th>Dallas</th>\n",
              "    </tr>\n",
              "    <tr>\n",
              "      <th>weekday</th>\n",
              "      <th></th>\n",
              "      <th></th>\n",
              "      <th></th>\n",
              "      <th></th>\n",
              "    </tr>\n",
              "  </thead>\n",
              "  <tbody>\n",
              "    <tr>\n",
              "      <th>Mon</th>\n",
              "      <td>326</td>\n",
              "      <td>456</td>\n",
              "      <td>3</td>\n",
              "      <td>5</td>\n",
              "    </tr>\n",
              "    <tr>\n",
              "      <th>Sun</th>\n",
              "      <td>139</td>\n",
              "      <td>237</td>\n",
              "      <td>7</td>\n",
              "      <td>12</td>\n",
              "    </tr>\n",
              "  </tbody>\n",
              "</table>\n",
              "</div>"
            ],
            "text/plain": [
              "        visitors        signups       \n",
              "city      Austin Dallas  Austin Dallas\n",
              "weekday                               \n",
              "Mon          326    456       3      5\n",
              "Sun          139    237       7     12"
            ]
          },
          "metadata": {
            "tags": []
          },
          "execution_count": 36
        }
      ]
    },
    {
      "metadata": {
        "id": "Dx5wSM3_Zfwm",
        "colab_type": "text"
      },
      "cell_type": "markdown",
      "source": [
        "### Stacking & unstacking I"
      ]
    },
    {
      "metadata": {
        "id": "OSD1AqvBZtEW",
        "colab_type": "code",
        "colab": {
          "base_uri": "https://localhost:8080/",
          "height": 202
        },
        "outputId": "feca851e-f798-4fcf-fe14-16a8e1dfd1f3"
      },
      "cell_type": "code",
      "source": [
        "users = users.set_index(['city','weekday'])\n",
        "users"
      ],
      "execution_count": 37,
      "outputs": [
        {
          "output_type": "execute_result",
          "data": {
            "text/html": [
              "<div>\n",
              "<style scoped>\n",
              "    .dataframe tbody tr th:only-of-type {\n",
              "        vertical-align: middle;\n",
              "    }\n",
              "\n",
              "    .dataframe tbody tr th {\n",
              "        vertical-align: top;\n",
              "    }\n",
              "\n",
              "    .dataframe thead th {\n",
              "        text-align: right;\n",
              "    }\n",
              "</style>\n",
              "<table border=\"1\" class=\"dataframe\">\n",
              "  <thead>\n",
              "    <tr style=\"text-align: right;\">\n",
              "      <th></th>\n",
              "      <th></th>\n",
              "      <th>visitors</th>\n",
              "      <th>signups</th>\n",
              "    </tr>\n",
              "    <tr>\n",
              "      <th>city</th>\n",
              "      <th>weekday</th>\n",
              "      <th></th>\n",
              "      <th></th>\n",
              "    </tr>\n",
              "  </thead>\n",
              "  <tbody>\n",
              "    <tr>\n",
              "      <th>Austin</th>\n",
              "      <th>Sun</th>\n",
              "      <td>139</td>\n",
              "      <td>7</td>\n",
              "    </tr>\n",
              "    <tr>\n",
              "      <th>Dallas</th>\n",
              "      <th>Sun</th>\n",
              "      <td>237</td>\n",
              "      <td>12</td>\n",
              "    </tr>\n",
              "    <tr>\n",
              "      <th>Austin</th>\n",
              "      <th>Mon</th>\n",
              "      <td>326</td>\n",
              "      <td>3</td>\n",
              "    </tr>\n",
              "    <tr>\n",
              "      <th>Dallas</th>\n",
              "      <th>Mon</th>\n",
              "      <td>456</td>\n",
              "      <td>5</td>\n",
              "    </tr>\n",
              "  </tbody>\n",
              "</table>\n",
              "</div>"
            ],
            "text/plain": [
              "                visitors  signups\n",
              "city   weekday                   \n",
              "Austin Sun           139        7\n",
              "Dallas Sun           237       12\n",
              "Austin Mon           326        3\n",
              "Dallas Mon           456        5"
            ]
          },
          "metadata": {
            "tags": []
          },
          "execution_count": 37
        }
      ]
    },
    {
      "metadata": {
        "id": "CHdm6NALZNOw",
        "colab_type": "code",
        "colab": {
          "base_uri": "https://localhost:8080/",
          "height": 171
        },
        "outputId": "5d9a11d6-c3a5-4a7d-d56a-9b65bfc796d0"
      },
      "cell_type": "code",
      "source": [
        "# Unstack users by 'weekday': byweekday\n",
        "byweekday = users.unstack('weekday')\n",
        "\n",
        "# Print the byweekday DataFrame\n",
        "byweekday"
      ],
      "execution_count": 38,
      "outputs": [
        {
          "output_type": "execute_result",
          "data": {
            "text/html": [
              "<div>\n",
              "<style scoped>\n",
              "    .dataframe tbody tr th:only-of-type {\n",
              "        vertical-align: middle;\n",
              "    }\n",
              "\n",
              "    .dataframe tbody tr th {\n",
              "        vertical-align: top;\n",
              "    }\n",
              "\n",
              "    .dataframe thead tr th {\n",
              "        text-align: left;\n",
              "    }\n",
              "\n",
              "    .dataframe thead tr:last-of-type th {\n",
              "        text-align: right;\n",
              "    }\n",
              "</style>\n",
              "<table border=\"1\" class=\"dataframe\">\n",
              "  <thead>\n",
              "    <tr>\n",
              "      <th></th>\n",
              "      <th colspan=\"2\" halign=\"left\">visitors</th>\n",
              "      <th colspan=\"2\" halign=\"left\">signups</th>\n",
              "    </tr>\n",
              "    <tr>\n",
              "      <th>weekday</th>\n",
              "      <th>Mon</th>\n",
              "      <th>Sun</th>\n",
              "      <th>Mon</th>\n",
              "      <th>Sun</th>\n",
              "    </tr>\n",
              "    <tr>\n",
              "      <th>city</th>\n",
              "      <th></th>\n",
              "      <th></th>\n",
              "      <th></th>\n",
              "      <th></th>\n",
              "    </tr>\n",
              "  </thead>\n",
              "  <tbody>\n",
              "    <tr>\n",
              "      <th>Austin</th>\n",
              "      <td>326</td>\n",
              "      <td>139</td>\n",
              "      <td>3</td>\n",
              "      <td>7</td>\n",
              "    </tr>\n",
              "    <tr>\n",
              "      <th>Dallas</th>\n",
              "      <td>456</td>\n",
              "      <td>237</td>\n",
              "      <td>5</td>\n",
              "      <td>12</td>\n",
              "    </tr>\n",
              "  </tbody>\n",
              "</table>\n",
              "</div>"
            ],
            "text/plain": [
              "        visitors      signups    \n",
              "weekday      Mon  Sun     Mon Sun\n",
              "city                             \n",
              "Austin       326  139       3   7\n",
              "Dallas       456  237       5  12"
            ]
          },
          "metadata": {
            "tags": []
          },
          "execution_count": 38
        }
      ]
    },
    {
      "metadata": {
        "id": "xNsO12BLZjtR",
        "colab_type": "code",
        "colab": {
          "base_uri": "https://localhost:8080/",
          "height": 202
        },
        "outputId": "142b2bd9-cb3f-40a5-e41e-da120d2e1a70"
      },
      "cell_type": "code",
      "source": [
        "# Stack byweekday by 'weekday' and print it\n",
        "byweekday.stack(level='weekday')"
      ],
      "execution_count": 39,
      "outputs": [
        {
          "output_type": "execute_result",
          "data": {
            "text/html": [
              "<div>\n",
              "<style scoped>\n",
              "    .dataframe tbody tr th:only-of-type {\n",
              "        vertical-align: middle;\n",
              "    }\n",
              "\n",
              "    .dataframe tbody tr th {\n",
              "        vertical-align: top;\n",
              "    }\n",
              "\n",
              "    .dataframe thead th {\n",
              "        text-align: right;\n",
              "    }\n",
              "</style>\n",
              "<table border=\"1\" class=\"dataframe\">\n",
              "  <thead>\n",
              "    <tr style=\"text-align: right;\">\n",
              "      <th></th>\n",
              "      <th></th>\n",
              "      <th>visitors</th>\n",
              "      <th>signups</th>\n",
              "    </tr>\n",
              "    <tr>\n",
              "      <th>city</th>\n",
              "      <th>weekday</th>\n",
              "      <th></th>\n",
              "      <th></th>\n",
              "    </tr>\n",
              "  </thead>\n",
              "  <tbody>\n",
              "    <tr>\n",
              "      <th rowspan=\"2\" valign=\"top\">Austin</th>\n",
              "      <th>Mon</th>\n",
              "      <td>326</td>\n",
              "      <td>3</td>\n",
              "    </tr>\n",
              "    <tr>\n",
              "      <th>Sun</th>\n",
              "      <td>139</td>\n",
              "      <td>7</td>\n",
              "    </tr>\n",
              "    <tr>\n",
              "      <th rowspan=\"2\" valign=\"top\">Dallas</th>\n",
              "      <th>Mon</th>\n",
              "      <td>456</td>\n",
              "      <td>5</td>\n",
              "    </tr>\n",
              "    <tr>\n",
              "      <th>Sun</th>\n",
              "      <td>237</td>\n",
              "      <td>12</td>\n",
              "    </tr>\n",
              "  </tbody>\n",
              "</table>\n",
              "</div>"
            ],
            "text/plain": [
              "                visitors  signups\n",
              "city   weekday                   \n",
              "Austin Mon           326        3\n",
              "       Sun           139        7\n",
              "Dallas Mon           456        5\n",
              "       Sun           237       12"
            ]
          },
          "metadata": {
            "tags": []
          },
          "execution_count": 39
        }
      ]
    },
    {
      "metadata": {
        "id": "p50VlY4iaSg_",
        "colab_type": "text"
      },
      "cell_type": "markdown",
      "source": [
        "### Stacking & unstacking II"
      ]
    },
    {
      "metadata": {
        "id": "dVE6tK3GaPZh",
        "colab_type": "code",
        "colab": {
          "base_uri": "https://localhost:8080/",
          "height": 223
        },
        "outputId": "20dc1330-270e-467e-c87a-be9aca691b25"
      },
      "cell_type": "code",
      "source": [
        "# Unstack users by 'city': bycity\n",
        "bycity = users.unstack('city')\n",
        "\n",
        "# Print the bycity DataFrame\n",
        "print(bycity)\n",
        "\n",
        "# Stack bycity by 'city' and print it\n",
        "print(bycity.stack(level='city'))"
      ],
      "execution_count": 40,
      "outputs": [
        {
          "output_type": "stream",
          "text": [
            "        visitors        signups       \n",
            "city      Austin Dallas  Austin Dallas\n",
            "weekday                               \n",
            "Mon          326    456       3      5\n",
            "Sun          139    237       7     12\n",
            "                visitors  signups\n",
            "weekday city                     \n",
            "Mon     Austin       326        3\n",
            "        Dallas       456        5\n",
            "Sun     Austin       139        7\n",
            "        Dallas       237       12\n"
          ],
          "name": "stdout"
        }
      ]
    },
    {
      "metadata": {
        "id": "kykarKXQkcpV",
        "colab_type": "text"
      },
      "cell_type": "markdown",
      "source": [
        "### Restoring the index order"
      ]
    },
    {
      "metadata": {
        "id": "jVN01vv9aU50",
        "colab_type": "code",
        "colab": {
          "base_uri": "https://localhost:8080/",
          "height": 260
        },
        "outputId": "9da06288-48bc-4ea6-96e5-28904773864d"
      },
      "cell_type": "code",
      "source": [
        "# Stack 'city' back into the index of bycity: newusers\n",
        "newusers = bycity.stack(level='city')\n",
        "\n",
        "# Swap the levels of the index of newusers: newusers\n",
        "newusers = newusers.swaplevel(0, 1)\n",
        "\n",
        "# Print newusers and verify that the index is not sorted\n",
        "print(newusers)\n",
        "\n",
        "# Sort the index of newusers: newusers\n",
        "newusers = newusers.sort_index()\n",
        "\n",
        "# Print newusers and verify that the index is now sorted\n",
        "print(newusers)\n",
        "\n",
        "# Verify that the new DataFrame is equal to the original\n",
        "print(newusers.equals(users))"
      ],
      "execution_count": 41,
      "outputs": [
        {
          "output_type": "stream",
          "text": [
            "                visitors  signups\n",
            "city   weekday                   \n",
            "Austin Mon           326        3\n",
            "Dallas Mon           456        5\n",
            "Austin Sun           139        7\n",
            "Dallas Sun           237       12\n",
            "                visitors  signups\n",
            "city   weekday                   \n",
            "Austin Mon           326        3\n",
            "       Sun           139        7\n",
            "Dallas Mon           456        5\n",
            "       Sun           237       12\n",
            "False\n"
          ],
          "name": "stdout"
        }
      ]
    },
    {
      "metadata": {
        "id": "s9uerQZ_kmyf",
        "colab_type": "text"
      },
      "cell_type": "markdown",
      "source": [
        "### Adding names for readability"
      ]
    },
    {
      "metadata": {
        "id": "effxQZvPkuex",
        "colab_type": "code",
        "colab": {
          "base_uri": "https://localhost:8080/",
          "height": 141
        },
        "outputId": "60de0449-3b60-45a8-b15c-f60dba5e81e6"
      },
      "cell_type": "code",
      "source": [
        "users = pd.read_csv('users.csv')\n",
        "\n",
        "visitors_by_city_weekday = users.pivot(index='weekday',columns='city',values='visitors')\n",
        "\n",
        "visitors_by_city_weekday"
      ],
      "execution_count": 42,
      "outputs": [
        {
          "output_type": "execute_result",
          "data": {
            "text/html": [
              "<div>\n",
              "<style scoped>\n",
              "    .dataframe tbody tr th:only-of-type {\n",
              "        vertical-align: middle;\n",
              "    }\n",
              "\n",
              "    .dataframe tbody tr th {\n",
              "        vertical-align: top;\n",
              "    }\n",
              "\n",
              "    .dataframe thead th {\n",
              "        text-align: right;\n",
              "    }\n",
              "</style>\n",
              "<table border=\"1\" class=\"dataframe\">\n",
              "  <thead>\n",
              "    <tr style=\"text-align: right;\">\n",
              "      <th>city</th>\n",
              "      <th>Austin</th>\n",
              "      <th>Dallas</th>\n",
              "    </tr>\n",
              "    <tr>\n",
              "      <th>weekday</th>\n",
              "      <th></th>\n",
              "      <th></th>\n",
              "    </tr>\n",
              "  </thead>\n",
              "  <tbody>\n",
              "    <tr>\n",
              "      <th>Mon</th>\n",
              "      <td>326</td>\n",
              "      <td>456</td>\n",
              "    </tr>\n",
              "    <tr>\n",
              "      <th>Sun</th>\n",
              "      <td>139</td>\n",
              "      <td>237</td>\n",
              "    </tr>\n",
              "  </tbody>\n",
              "</table>\n",
              "</div>"
            ],
            "text/plain": [
              "city     Austin  Dallas\n",
              "weekday                \n",
              "Mon         326     456\n",
              "Sun         139     237"
            ]
          },
          "metadata": {
            "tags": []
          },
          "execution_count": 42
        }
      ]
    },
    {
      "metadata": {
        "id": "rWUbZkHHmLq5",
        "colab_type": "code",
        "colab": {
          "base_uri": "https://localhost:8080/",
          "height": 110
        },
        "outputId": "d16c0307-7c7a-4634-cfd6-1b9964c65e24"
      },
      "cell_type": "code",
      "source": [
        "# Reset the index: visitors_by_city_weekday\n",
        "visitors_by_city_weekday = visitors_by_city_weekday.reset_index() \n",
        "\n",
        "# Print visitors_by_city_weekday\n",
        "visitors_by_city_weekday"
      ],
      "execution_count": 43,
      "outputs": [
        {
          "output_type": "execute_result",
          "data": {
            "text/html": [
              "<div>\n",
              "<style scoped>\n",
              "    .dataframe tbody tr th:only-of-type {\n",
              "        vertical-align: middle;\n",
              "    }\n",
              "\n",
              "    .dataframe tbody tr th {\n",
              "        vertical-align: top;\n",
              "    }\n",
              "\n",
              "    .dataframe thead th {\n",
              "        text-align: right;\n",
              "    }\n",
              "</style>\n",
              "<table border=\"1\" class=\"dataframe\">\n",
              "  <thead>\n",
              "    <tr style=\"text-align: right;\">\n",
              "      <th>city</th>\n",
              "      <th>weekday</th>\n",
              "      <th>Austin</th>\n",
              "      <th>Dallas</th>\n",
              "    </tr>\n",
              "  </thead>\n",
              "  <tbody>\n",
              "    <tr>\n",
              "      <th>0</th>\n",
              "      <td>Mon</td>\n",
              "      <td>326</td>\n",
              "      <td>456</td>\n",
              "    </tr>\n",
              "    <tr>\n",
              "      <th>1</th>\n",
              "      <td>Sun</td>\n",
              "      <td>139</td>\n",
              "      <td>237</td>\n",
              "    </tr>\n",
              "  </tbody>\n",
              "</table>\n",
              "</div>"
            ],
            "text/plain": [
              "city weekday  Austin  Dallas\n",
              "0        Mon     326     456\n",
              "1        Sun     139     237"
            ]
          },
          "metadata": {
            "tags": []
          },
          "execution_count": 43
        }
      ]
    },
    {
      "metadata": {
        "id": "AYFUmYOnkedo",
        "colab_type": "code",
        "colab": {
          "base_uri": "https://localhost:8080/",
          "height": 171
        },
        "outputId": "2284d5b1-9594-423c-c93f-743b513e4abb"
      },
      "cell_type": "code",
      "source": [
        "# Melt visitors_by_city_weekday: visitors\n",
        "visitors = pd.melt(visitors_by_city_weekday, id_vars='weekday', value_name='visitors')\n",
        "\n",
        "# Print visitors\n",
        "visitors"
      ],
      "execution_count": 44,
      "outputs": [
        {
          "output_type": "execute_result",
          "data": {
            "text/html": [
              "<div>\n",
              "<style scoped>\n",
              "    .dataframe tbody tr th:only-of-type {\n",
              "        vertical-align: middle;\n",
              "    }\n",
              "\n",
              "    .dataframe tbody tr th {\n",
              "        vertical-align: top;\n",
              "    }\n",
              "\n",
              "    .dataframe thead th {\n",
              "        text-align: right;\n",
              "    }\n",
              "</style>\n",
              "<table border=\"1\" class=\"dataframe\">\n",
              "  <thead>\n",
              "    <tr style=\"text-align: right;\">\n",
              "      <th></th>\n",
              "      <th>weekday</th>\n",
              "      <th>city</th>\n",
              "      <th>visitors</th>\n",
              "    </tr>\n",
              "  </thead>\n",
              "  <tbody>\n",
              "    <tr>\n",
              "      <th>0</th>\n",
              "      <td>Mon</td>\n",
              "      <td>Austin</td>\n",
              "      <td>326</td>\n",
              "    </tr>\n",
              "    <tr>\n",
              "      <th>1</th>\n",
              "      <td>Sun</td>\n",
              "      <td>Austin</td>\n",
              "      <td>139</td>\n",
              "    </tr>\n",
              "    <tr>\n",
              "      <th>2</th>\n",
              "      <td>Mon</td>\n",
              "      <td>Dallas</td>\n",
              "      <td>456</td>\n",
              "    </tr>\n",
              "    <tr>\n",
              "      <th>3</th>\n",
              "      <td>Sun</td>\n",
              "      <td>Dallas</td>\n",
              "      <td>237</td>\n",
              "    </tr>\n",
              "  </tbody>\n",
              "</table>\n",
              "</div>"
            ],
            "text/plain": [
              "  weekday    city  visitors\n",
              "0     Mon  Austin       326\n",
              "1     Sun  Austin       139\n",
              "2     Mon  Dallas       456\n",
              "3     Sun  Dallas       237"
            ]
          },
          "metadata": {
            "tags": []
          },
          "execution_count": 44
        }
      ]
    },
    {
      "metadata": {
        "id": "or_CsBsgmiIR",
        "colab_type": "text"
      },
      "cell_type": "markdown",
      "source": [
        "### Going from wide to long"
      ]
    },
    {
      "metadata": {
        "id": "uzdXC-9xmthh",
        "colab_type": "code",
        "colab": {}
      },
      "cell_type": "code",
      "source": [
        "users = pd.read_csv('users.csv')\n",
        "users = users.drop('Unnamed: 0',axis=1)"
      ],
      "execution_count": 0,
      "outputs": []
    },
    {
      "metadata": {
        "id": "wCLhbw6OmJcu",
        "colab_type": "code",
        "colab": {
          "base_uri": "https://localhost:8080/",
          "height": 185
        },
        "outputId": "05dbd494-3a93-4704-f668-45dc177e34c5"
      },
      "cell_type": "code",
      "source": [
        "# Melt users: skinny\n",
        "skinny = pd.melt(users, id_vars=['weekday', 'city'])\n",
        "\n",
        "# Print skinny\n",
        "print(skinny)"
      ],
      "execution_count": 46,
      "outputs": [
        {
          "output_type": "stream",
          "text": [
            "  weekday    city  variable  value\n",
            "0     Sun  Austin  visitors    139\n",
            "1     Sun  Dallas  visitors    237\n",
            "2     Mon  Austin  visitors    326\n",
            "3     Mon  Dallas  visitors    456\n",
            "4     Sun  Austin   signups      7\n",
            "5     Sun  Dallas   signups     12\n",
            "6     Mon  Austin   signups      3\n",
            "7     Mon  Dallas   signups      5\n"
          ],
          "name": "stdout"
        }
      ]
    },
    {
      "metadata": {
        "id": "P6Kv_GLbnRgG",
        "colab_type": "text"
      },
      "cell_type": "markdown",
      "source": [
        "### Obtaining key-value pairs with melt()"
      ]
    },
    {
      "metadata": {
        "id": "EPKK5G5Mmktc",
        "colab_type": "code",
        "colab": {
          "base_uri": "https://localhost:8080/",
          "height": 297
        },
        "outputId": "d969508c-5e0b-41a9-d71e-33edfda33f20"
      },
      "cell_type": "code",
      "source": [
        "# Set the new index: users_idx\n",
        "users_idx = users.set_index(['city', 'weekday'])\n",
        "\n",
        "# Print the users_idx DataFrame\n",
        "print(users_idx)\n",
        "\n",
        "# Obtain the key-value pairs: kv_pairs\n",
        "kv_pairs = pd.melt(users_idx, col_level=0)\n",
        "\n",
        "# Print the key-value pairs\n",
        "print(kv_pairs)"
      ],
      "execution_count": 47,
      "outputs": [
        {
          "output_type": "stream",
          "text": [
            "                visitors  signups\n",
            "city   weekday                   \n",
            "Austin Sun           139        7\n",
            "Dallas Sun           237       12\n",
            "Austin Mon           326        3\n",
            "Dallas Mon           456        5\n",
            "   variable  value\n",
            "0  visitors    139\n",
            "1  visitors    237\n",
            "2  visitors    326\n",
            "3  visitors    456\n",
            "4   signups      7\n",
            "5   signups     12\n",
            "6   signups      3\n",
            "7   signups      5\n"
          ],
          "name": "stdout"
        }
      ]
    },
    {
      "metadata": {
        "id": "BKz2_89EnYNb",
        "colab_type": "text"
      },
      "cell_type": "markdown",
      "source": [
        "### Setting up a pivot table"
      ]
    },
    {
      "metadata": {
        "id": "5pOS3wH3nUAO",
        "colab_type": "code",
        "colab": {
          "base_uri": "https://localhost:8080/",
          "height": 171
        },
        "outputId": "2de7a5f1-e9f4-4d43-aabd-6294a739ebb0"
      },
      "cell_type": "code",
      "source": [
        "# Create the DataFrame with the appropriate pivot table: by_city_day\n",
        "by_city_day = users.pivot_table(index='weekday', columns='city')\n",
        "\n",
        "# Print by_city_day\n",
        "by_city_day"
      ],
      "execution_count": 48,
      "outputs": [
        {
          "output_type": "execute_result",
          "data": {
            "text/html": [
              "<div>\n",
              "<style scoped>\n",
              "    .dataframe tbody tr th:only-of-type {\n",
              "        vertical-align: middle;\n",
              "    }\n",
              "\n",
              "    .dataframe tbody tr th {\n",
              "        vertical-align: top;\n",
              "    }\n",
              "\n",
              "    .dataframe thead tr th {\n",
              "        text-align: left;\n",
              "    }\n",
              "\n",
              "    .dataframe thead tr:last-of-type th {\n",
              "        text-align: right;\n",
              "    }\n",
              "</style>\n",
              "<table border=\"1\" class=\"dataframe\">\n",
              "  <thead>\n",
              "    <tr>\n",
              "      <th></th>\n",
              "      <th colspan=\"2\" halign=\"left\">signups</th>\n",
              "      <th colspan=\"2\" halign=\"left\">visitors</th>\n",
              "    </tr>\n",
              "    <tr>\n",
              "      <th>city</th>\n",
              "      <th>Austin</th>\n",
              "      <th>Dallas</th>\n",
              "      <th>Austin</th>\n",
              "      <th>Dallas</th>\n",
              "    </tr>\n",
              "    <tr>\n",
              "      <th>weekday</th>\n",
              "      <th></th>\n",
              "      <th></th>\n",
              "      <th></th>\n",
              "      <th></th>\n",
              "    </tr>\n",
              "  </thead>\n",
              "  <tbody>\n",
              "    <tr>\n",
              "      <th>Mon</th>\n",
              "      <td>3</td>\n",
              "      <td>5</td>\n",
              "      <td>326</td>\n",
              "      <td>456</td>\n",
              "    </tr>\n",
              "    <tr>\n",
              "      <th>Sun</th>\n",
              "      <td>7</td>\n",
              "      <td>12</td>\n",
              "      <td>139</td>\n",
              "      <td>237</td>\n",
              "    </tr>\n",
              "  </tbody>\n",
              "</table>\n",
              "</div>"
            ],
            "text/plain": [
              "        signups        visitors       \n",
              "city     Austin Dallas   Austin Dallas\n",
              "weekday                               \n",
              "Mon           3      5      326    456\n",
              "Sun           7     12      139    237"
            ]
          },
          "metadata": {
            "tags": []
          },
          "execution_count": 48
        }
      ]
    },
    {
      "metadata": {
        "id": "Tiqse1_aneYI",
        "colab_type": "text"
      },
      "cell_type": "markdown",
      "source": [
        "### Using other aggregations in pivot tables"
      ]
    },
    {
      "metadata": {
        "id": "wwK1Otatnas1",
        "colab_type": "code",
        "colab": {
          "base_uri": "https://localhost:8080/",
          "height": 129
        },
        "outputId": "61d8bc14-2773-4f80-c770-518de36d21e8"
      },
      "cell_type": "code",
      "source": [
        "# Use a pivot table to display the count of each column: count_by_weekday1\n",
        "count_by_weekday1 = users.pivot_table(index='weekday', aggfunc='count')\n",
        "\n",
        "# Print count_by_weekday\n",
        "print(count_by_weekday1)\n",
        "\n",
        "# Replace 'aggfunc='count'' with 'aggfunc=len': count_by_weekday2\n",
        "count_by_weekday2 = users.pivot_table(index='weekday', aggfunc=len)\n",
        "\n",
        "# Verify that the same result is obtained\n",
        "print('==========================================')\n",
        "count_by_weekday1.equals(count_by_weekday2)"
      ],
      "execution_count": 49,
      "outputs": [
        {
          "output_type": "stream",
          "text": [
            "         city  signups  visitors\n",
            "weekday                         \n",
            "Mon         2        2         2\n",
            "Sun         2        2         2\n",
            "==========================================\n"
          ],
          "name": "stdout"
        },
        {
          "output_type": "execute_result",
          "data": {
            "text/plain": [
              "True"
            ]
          },
          "metadata": {
            "tags": []
          },
          "execution_count": 49
        }
      ]
    },
    {
      "metadata": {
        "id": "F0IlqYVOnmp2",
        "colab_type": "text"
      },
      "cell_type": "markdown",
      "source": [
        "### Using margins in pivot tables"
      ]
    },
    {
      "metadata": {
        "id": "dWWgBZ-zngol",
        "colab_type": "code",
        "colab": {
          "base_uri": "https://localhost:8080/",
          "height": 185
        },
        "outputId": "d65ac45d-3390-4cc0-cd91-cc97c093f197"
      },
      "cell_type": "code",
      "source": [
        "# Create the DataFrame with the appropriate pivot table: signups_and_visitors\n",
        "signups_and_visitors = users.pivot_table(index='weekday', aggfunc=sum)\n",
        "\n",
        "# Print signups_and_visitors\n",
        "print(signups_and_visitors)\n",
        "\n",
        "# Add in the margins: signups_and_visitors_total \n",
        "signups_and_visitors_total = users.pivot_table(index='weekday', aggfunc=sum, margins=True)\n",
        "\n",
        "# Print signups_and_visitors_total\n",
        "print(signups_and_visitors_total)"
      ],
      "execution_count": 50,
      "outputs": [
        {
          "output_type": "stream",
          "text": [
            "         signups  visitors\n",
            "weekday                   \n",
            "Mon            8       782\n",
            "Sun           19       376\n",
            "         signups  visitors\n",
            "weekday                   \n",
            "Mon            8       782\n",
            "Sun           19       376\n",
            "All           27      1158\n"
          ],
          "name": "stdout"
        }
      ]
    },
    {
      "metadata": {
        "id": "wPeStdAgnw1J",
        "colab_type": "text"
      },
      "cell_type": "markdown",
      "source": [
        "## 3. Grouping data"
      ]
    },
    {
      "metadata": {
        "id": "cugD1bUun0r8",
        "colab_type": "text"
      },
      "cell_type": "markdown",
      "source": [
        "### Grouping by multiple columns"
      ]
    },
    {
      "metadata": {
        "id": "mMv-oTuEnock",
        "colab_type": "code",
        "colab": {
          "base_uri": "https://localhost:8080/",
          "height": 316
        },
        "outputId": "79f53423-0de2-4f66-c9f9-b09408dfb49f"
      },
      "cell_type": "code",
      "source": [
        "# Group titanic by 'pclass'\n",
        "by_class = titanic.groupby('pclass')\n",
        "\n",
        "# Aggregate 'survived' column of by_class by count\n",
        "count_by_class = by_class['survived'].count()\n",
        "\n",
        "# Print count_by_class\n",
        "print(count_by_class)\n",
        "\n",
        "# Group titanic by 'embarked' and 'pclass'\n",
        "by_mult = titanic.groupby(['embarked','pclass'])\n",
        "\n",
        "# Aggregate 'survived' column of by_mult by count\n",
        "count_mult = by_mult.survived.count()\n",
        "\n",
        "# Print count_mult\n",
        "print(count_mult)"
      ],
      "execution_count": 51,
      "outputs": [
        {
          "output_type": "stream",
          "text": [
            "pclass\n",
            "1    323\n",
            "2    277\n",
            "3    709\n",
            "Name: survived, dtype: int64\n",
            "embarked  pclass\n",
            "C         1         141\n",
            "          2          28\n",
            "          3         101\n",
            "Q         1           3\n",
            "          2           7\n",
            "          3         113\n",
            "S         1         177\n",
            "          2         242\n",
            "          3         495\n",
            "Name: survived, dtype: int64\n"
          ],
          "name": "stdout"
        }
      ]
    },
    {
      "metadata": {
        "id": "c0rKuO7mn5o9",
        "colab_type": "text"
      },
      "cell_type": "markdown",
      "source": [
        "### Grouping by another series"
      ]
    },
    {
      "metadata": {
        "id": "zYMY0ZdYpckr",
        "colab_type": "code",
        "colab": {}
      },
      "cell_type": "code",
      "source": [
        "life_fname = 'https://s3.amazonaws.com/assets.datacamp.com/production/course_1650/datasets/life_expectancy.csv'\n",
        "regions_fname = 'https://s3.amazonaws.com/assets.datacamp.com/production/course_1650/datasets/regions.csv'"
      ],
      "execution_count": 0,
      "outputs": []
    },
    {
      "metadata": {
        "id": "ivCwOU7BoLUU",
        "colab_type": "code",
        "colab": {
          "base_uri": "https://localhost:8080/",
          "height": 167
        },
        "outputId": "3c9aa7ba-fff4-4356-a328-e400206b7fb6"
      },
      "cell_type": "code",
      "source": [
        "# Read life_fname into a DataFrame: life\n",
        "life = pd.read_csv(life_fname, index_col='Country')\n",
        "\n",
        "# Read regions_fname into a DataFrame: regions\n",
        "regions = pd.read_csv(regions_fname, index_col='Country')\n",
        "\n",
        "# Group life by regions['region']: life_by_region\n",
        "life_by_region = life.groupby(regions['region'])\n",
        "\n",
        "# Print the mean over the '2010' column of life_by_region\n",
        "print(life_by_region['2010'].mean())"
      ],
      "execution_count": 53,
      "outputs": [
        {
          "output_type": "stream",
          "text": [
            "region\n",
            "America                       74.037350\n",
            "East Asia & Pacific           73.405750\n",
            "Europe & Central Asia         75.656387\n",
            "Middle East & North Africa    72.805333\n",
            "South Asia                    68.189750\n",
            "Sub-Saharan Africa            57.575080\n",
            "Name: 2010, dtype: float64\n"
          ],
          "name": "stdout"
        }
      ]
    },
    {
      "metadata": {
        "id": "CGF2fSTssYck",
        "colab_type": "text"
      },
      "cell_type": "markdown",
      "source": [
        "### Computing multiple aggregates of multiple columns"
      ]
    },
    {
      "metadata": {
        "id": "2clsgyhOn7ws",
        "colab_type": "code",
        "colab": {
          "base_uri": "https://localhost:8080/",
          "height": 204
        },
        "outputId": "8d296e3b-1199-4581-a369-d115b412a652"
      },
      "cell_type": "code",
      "source": [
        "# Group titanic by 'pclass': by_class\n",
        "by_class = titanic.groupby('pclass')\n",
        "\n",
        "# Select 'age' and 'fare'\n",
        "by_class_sub = by_class[['age','fare']]\n",
        "\n",
        "# Aggregate by_class_sub by 'max' and 'median': aggregated\n",
        "aggregated = by_class_sub.agg(['max','median'])\n",
        "\n",
        "# Print the maximum age in each class\n",
        "print(aggregated.loc[:, ('age','max')])\n",
        "\n",
        "# Print the median fare in each class\n",
        "print(aggregated.loc[:,('fare','median')])"
      ],
      "execution_count": 54,
      "outputs": [
        {
          "output_type": "stream",
          "text": [
            "pclass\n",
            "1    80.0\n",
            "2    70.0\n",
            "3    74.0\n",
            "Name: (age, max), dtype: float64\n",
            "pclass\n",
            "1    60.0000\n",
            "2    15.0458\n",
            "3     8.0500\n",
            "Name: (fare, median), dtype: float64\n"
          ],
          "name": "stdout"
        }
      ]
    },
    {
      "metadata": {
        "id": "RckW-O-OscaX",
        "colab_type": "text"
      },
      "cell_type": "markdown",
      "source": [
        "### Aggregating on index levels/fields"
      ]
    },
    {
      "metadata": {
        "id": "EhD_Dll_saSz",
        "colab_type": "code",
        "colab": {
          "base_uri": "https://localhost:8080/",
          "height": 167
        },
        "outputId": "a1841dd9-cc97-41f7-d4ff-482820e5fef8"
      },
      "cell_type": "code",
      "source": [
        "# Read the CSV file into a DataFrame and sort the index: gapminder\n",
        "gapminder = pd.read_csv('gap.csv', index_col=['Year','region','Country']).sort_index()\n",
        "\n",
        "# Group gapminder by 'Year' and 'region': by_year_region\n",
        "by_year_region = gapminder.groupby(['Year', 'region'])\n",
        "\n",
        "# Define the function to compute spread: spread\n",
        "def spread(series):\n",
        "    return series.max() - series.min()\n",
        "\n",
        "# Create the dictionary: aggregator\n",
        "aggregator = {'population':'sum', 'child_mortality':'mean', 'gdp':spread}\n",
        "\n",
        "# Aggregate by_year_region using the dictionary: aggregated\n",
        "aggregated = by_year_region.agg(aggregator)\n",
        "\n",
        "# Print the last 6 entries of aggregated \n",
        "print(aggregated.tail(6))"
      ],
      "execution_count": 55,
      "outputs": [
        {
          "output_type": "stream",
          "text": [
            "                                   population  child_mortality       gdp\n",
            "Year region                                                             \n",
            "2013 America                     9.629087e+08        17.745833   49634.0\n",
            "     East Asia & Pacific         2.244209e+09        22.285714  134744.0\n",
            "     Europe & Central Asia       8.968788e+08         9.831875   86418.0\n",
            "     Middle East & North Africa  4.030504e+08        20.221500  128676.0\n",
            "     South Asia                  1.701241e+09        46.287500   11469.0\n",
            "     Sub-Saharan Africa          9.205996e+08        76.944490   32035.0\n"
          ],
          "name": "stdout"
        }
      ]
    },
    {
      "metadata": {
        "id": "TLtsxJxmsiBm",
        "colab_type": "text"
      },
      "cell_type": "markdown",
      "source": [
        "### Detecting outliers with Z-Scores"
      ]
    },
    {
      "metadata": {
        "id": "xqD_l_t_tXmf",
        "colab_type": "code",
        "colab": {}
      },
      "cell_type": "code",
      "source": [
        "gapminder_2010 = gapminder.loc[2010]"
      ],
      "execution_count": 0,
      "outputs": []
    },
    {
      "metadata": {
        "id": "SNvC6RrNsftE",
        "colab_type": "code",
        "colab": {
          "base_uri": "https://localhost:8080/",
          "height": 260
        },
        "outputId": "e461613a-bb09-431e-b982-d16070302b9e"
      },
      "cell_type": "code",
      "source": [
        "# Import zscore\n",
        "from scipy.stats import zscore\n",
        "\n",
        "# Group gapminder_2010: standardized\n",
        "standardized = gapminder_2010.groupby('region')['life','fertility'].transform(zscore)\n",
        "\n",
        "# Construct a Boolean Series to identify outliers: outliers\n",
        "outliers = (standardized['life'] < -3) | (standardized['fertility'] > 3)\n",
        "\n",
        "# Filter gapminder_2010 by the outliers: gm_outliers\n",
        "gm_outliers = gapminder_2010.loc[outliers]\n",
        "\n",
        "# Print gm_outliers\n",
        "print(gm_outliers)"
      ],
      "execution_count": 57,
      "outputs": [
        {
          "output_type": "stream",
          "text": [
            "                                   fertility    life  population  \\\n",
            "region                Country                                      \n",
            "America               Guatemala        3.974  71.100  14388929.0   \n",
            "                      Haiti            3.350  45.000   9993247.0   \n",
            "East Asia & Pacific   Timor-Leste      6.237  65.952   1124355.0   \n",
            "Europe & Central Asia Tajikistan       3.780  66.830   6878637.0   \n",
            "\n",
            "                                   child_mortality     gdp  \n",
            "region                Country                               \n",
            "America               Guatemala               34.5  6849.0  \n",
            "                      Haiti                  208.8  1518.0  \n",
            "East Asia & Pacific   Timor-Leste             63.8  1777.0  \n",
            "Europe & Central Asia Tajikistan              52.6  2110.0  \n"
          ],
          "name": "stdout"
        }
      ]
    },
    {
      "metadata": {
        "id": "LXs6HX9FtbV3",
        "colab_type": "text"
      },
      "cell_type": "markdown",
      "source": [
        "### Filling missing data (imputation) by group"
      ]
    },
    {
      "metadata": {
        "id": "C1B3PZM6sjq0",
        "colab_type": "code",
        "colab": {
          "base_uri": "https://localhost:8080/",
          "height": 447
        },
        "outputId": "02ef6c7c-e18b-4ce6-fa49-20ac5d3c840c"
      },
      "cell_type": "code",
      "source": [
        "# Create a groupby object: by_sex_class\n",
        "by_sex_class = titanic.groupby(['sex', 'pclass'])\n",
        "\n",
        "# Write a function that imputes median\n",
        "def impute_median(series):\n",
        "    return series.fillna(series.median())\n",
        "\n",
        "# Impute age and assign to titanic['age']\n",
        "titanic.age = by_sex_class.age.transform(impute_median)\n",
        "\n",
        "# Print the output of titanic.tail(10)\n",
        "print(titanic.tail(10))"
      ],
      "execution_count": 58,
      "outputs": [
        {
          "output_type": "stream",
          "text": [
            "      pclass  survived                                     name     sex   age  \\\n",
            "1299       3         0                      Yasbeck, Mr. Antoni    male  27.0   \n",
            "1300       3         1  Yasbeck, Mrs. Antoni (Selini Alexander)  female  15.0   \n",
            "1301       3         0                     Youseff, Mr. Gerious    male  45.5   \n",
            "1302       3         0                        Yousif, Mr. Wazli    male  25.0   \n",
            "1303       3         0                    Yousseff, Mr. Gerious    male  25.0   \n",
            "1304       3         0                     Zabour, Miss. Hileni  female  14.5   \n",
            "1305       3         0                    Zabour, Miss. Thamine  female  22.0   \n",
            "1306       3         0                Zakarian, Mr. Mapriededer    male  26.5   \n",
            "1307       3         0                      Zakarian, Mr. Ortin    male  27.0   \n",
            "1308       3         0                       Zimmerman, Mr. Leo    male  29.0   \n",
            "\n",
            "      sibsp  parch  ticket     fare cabin embarked boat   body home.dest  \n",
            "1299      1      0    2659  14.4542   NaN        C    C    NaN       NaN  \n",
            "1300      1      0    2659  14.4542   NaN        C  NaN    NaN       NaN  \n",
            "1301      0      0    2628   7.2250   NaN        C  NaN  312.0       NaN  \n",
            "1302      0      0    2647   7.2250   NaN        C  NaN    NaN       NaN  \n",
            "1303      0      0    2627  14.4583   NaN        C  NaN    NaN       NaN  \n",
            "1304      1      0    2665  14.4542   NaN        C  NaN  328.0       NaN  \n",
            "1305      1      0    2665  14.4542   NaN        C  NaN    NaN       NaN  \n",
            "1306      0      0    2656   7.2250   NaN        C  NaN  304.0       NaN  \n",
            "1307      0      0    2670   7.2250   NaN        C  NaN    NaN       NaN  \n",
            "1308      0      0  315082   7.8750   NaN        S  NaN    NaN       NaN  \n"
          ],
          "name": "stdout"
        }
      ]
    },
    {
      "metadata": {
        "id": "7hb1k_HUtfWQ",
        "colab_type": "text"
      },
      "cell_type": "markdown",
      "source": [
        "### Grouping and filtering with .apply()"
      ]
    },
    {
      "metadata": {
        "id": "XbTg4S_9t8PE",
        "colab_type": "code",
        "colab": {}
      },
      "cell_type": "code",
      "source": [
        "def c_deck_survival(gr):\n",
        "\n",
        "    c_passengers = gr['cabin'].str.startswith('C').fillna(False)\n",
        "\n",
        "    return gr.loc[c_passengers, 'survived'].mean()"
      ],
      "execution_count": 0,
      "outputs": []
    },
    {
      "metadata": {
        "id": "BjzagFIvtp-F",
        "colab_type": "code",
        "colab": {
          "base_uri": "https://localhost:8080/",
          "height": 92
        },
        "outputId": "acd5d9a1-ea50-4915-c304-56f7425acb26"
      },
      "cell_type": "code",
      "source": [
        "# Create a groupby object using titanic over the 'sex' column: by_sex\n",
        "by_sex = titanic.groupby('sex')\n",
        "\n",
        "# Call by_sex.apply with the function c_deck_survival\n",
        "c_surv_by_sex = by_sex.apply(c_deck_survival)\n",
        "\n",
        "# Print the survival rates\n",
        "print(c_surv_by_sex)"
      ],
      "execution_count": 60,
      "outputs": [
        {
          "output_type": "stream",
          "text": [
            "sex\n",
            "female    0.913043\n",
            "male      0.312500\n",
            "dtype: float64\n"
          ],
          "name": "stdout"
        }
      ]
    }
  ]
}