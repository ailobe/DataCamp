{
 "cells": [
  {
   "cell_type": "markdown",
   "metadata": {},
   "source": [
    "# Statistical Thinking in Python (Part 1)\n",
    "https://www.datacamp.com/courses/statistical-thinking-in-python-part-1"
   ]
  },
  {
   "cell_type": "code",
   "execution_count": 1,
   "metadata": {},
   "outputs": [],
   "source": [
    "# datasets\n",
    "URL = 'https://assets.datacamp.com/production/course_1549/datasets/2008_swing_states.csv'"
   ]
  },
  {
   "cell_type": "code",
   "execution_count": 2,
   "metadata": {},
   "outputs": [
    {
     "data": {
      "text/plain": [
       "('2008_swing_states.csv', <http.client.HTTPMessage at 0x7fdc7064db00>)"
      ]
     },
     "execution_count": 2,
     "metadata": {},
     "output_type": "execute_result"
    }
   ],
   "source": [
    "from urllib.request import urlretrieve\n",
    "urlretrieve(URL, '2008_swing_states.csv')"
   ]
  },
  {
   "cell_type": "code",
   "execution_count": 3,
   "metadata": {},
   "outputs": [
    {
     "name": "stdout",
     "output_type": "stream",
     "text": [
      "state,county,total_votes,dem_votes,rep_votes,dem_share\r\n",
      "PA,Erie County,127691,75775,50351,60.08\r\n",
      "PA,Bradford County,25787,10306,15057,40.64\r\n",
      "PA,Tioga County,17984,6390,11326,36.07\r\n",
      "PA,McKean County,15947,6465,9224,41.21\r\n",
      "PA,Potter County,7507,2300,5109,31.04\r\n",
      "PA,Wayne County,22835,9892,12702,43.78\r\n",
      "PA,Susquehanna County,19286,8381,10633,44.08\r\n",
      "PA,Warren County,18517,8537,9685,46.85\r\n",
      "OH,Ashtabula County,44874,25027,18949,56.94\r\n"
     ]
    }
   ],
   "source": [
    "# unix command\n",
    "!head '2008_swing_states.csv'"
   ]
  },
  {
   "cell_type": "code",
   "execution_count": 16,
   "metadata": {},
   "outputs": [],
   "source": [
    "# import pandas\n",
    "import pandas as pd\n",
    "\n",
    "df_swing = pd.read_csv('2008_swing_states.csv')"
   ]
  },
  {
   "cell_type": "code",
   "execution_count": 5,
   "metadata": {},
   "outputs": [
    {
     "data": {
      "text/html": [
       "<div>\n",
       "<style scoped>\n",
       "    .dataframe tbody tr th:only-of-type {\n",
       "        vertical-align: middle;\n",
       "    }\n",
       "\n",
       "    .dataframe tbody tr th {\n",
       "        vertical-align: top;\n",
       "    }\n",
       "\n",
       "    .dataframe thead th {\n",
       "        text-align: right;\n",
       "    }\n",
       "</style>\n",
       "<table border=\"1\" class=\"dataframe\">\n",
       "  <thead>\n",
       "    <tr style=\"text-align: right;\">\n",
       "      <th></th>\n",
       "      <th>state</th>\n",
       "      <th>county</th>\n",
       "      <th>total_votes</th>\n",
       "      <th>dem_votes</th>\n",
       "      <th>rep_votes</th>\n",
       "      <th>dem_share</th>\n",
       "    </tr>\n",
       "  </thead>\n",
       "  <tbody>\n",
       "    <tr>\n",
       "      <th>0</th>\n",
       "      <td>PA</td>\n",
       "      <td>Erie County</td>\n",
       "      <td>127691</td>\n",
       "      <td>75775</td>\n",
       "      <td>50351</td>\n",
       "      <td>60.08</td>\n",
       "    </tr>\n",
       "    <tr>\n",
       "      <th>1</th>\n",
       "      <td>PA</td>\n",
       "      <td>Bradford County</td>\n",
       "      <td>25787</td>\n",
       "      <td>10306</td>\n",
       "      <td>15057</td>\n",
       "      <td>40.64</td>\n",
       "    </tr>\n",
       "    <tr>\n",
       "      <th>2</th>\n",
       "      <td>PA</td>\n",
       "      <td>Tioga County</td>\n",
       "      <td>17984</td>\n",
       "      <td>6390</td>\n",
       "      <td>11326</td>\n",
       "      <td>36.07</td>\n",
       "    </tr>\n",
       "    <tr>\n",
       "      <th>3</th>\n",
       "      <td>PA</td>\n",
       "      <td>McKean County</td>\n",
       "      <td>15947</td>\n",
       "      <td>6465</td>\n",
       "      <td>9224</td>\n",
       "      <td>41.21</td>\n",
       "    </tr>\n",
       "    <tr>\n",
       "      <th>4</th>\n",
       "      <td>PA</td>\n",
       "      <td>Potter County</td>\n",
       "      <td>7507</td>\n",
       "      <td>2300</td>\n",
       "      <td>5109</td>\n",
       "      <td>31.04</td>\n",
       "    </tr>\n",
       "  </tbody>\n",
       "</table>\n",
       "</div>"
      ],
      "text/plain": [
       "  state           county  total_votes  dem_votes  rep_votes  dem_share\n",
       "0    PA      Erie County       127691      75775      50351      60.08\n",
       "1    PA  Bradford County        25787      10306      15057      40.64\n",
       "2    PA     Tioga County        17984       6390      11326      36.07\n",
       "3    PA    McKean County        15947       6465       9224      41.21\n",
       "4    PA    Potter County         7507       2300       5109      31.04"
      ]
     },
     "execution_count": 5,
     "metadata": {},
     "output_type": "execute_result"
    }
   ],
   "source": [
    "df_swing.head()"
   ]
  },
  {
   "cell_type": "code",
   "execution_count": 15,
   "metadata": {},
   "outputs": [
    {
     "data": {
      "image/png": "[encoded data removed]",
      "text/plain": [
       "<Figure size 432x288 with 1 Axes>"
      ]
     },
     "metadata": {},
     "output_type": "display_data"
    }
   ],
   "source": [
    "# import matplotlib\n",
    "import matplotlib.pyplot as plt\n",
    "\n",
    "# Import numpy\n",
    "import numpy as np\n",
    "\n",
    "\n",
    "# Compute number of data points: n_data\n",
    "#n_data = len(df)\n",
    "\n",
    "# Number of bins is the square root of number of data points: n_bins\n",
    "#n_bins = np.sqrt(n_data)\n",
    "\n",
    "# Convert number of bins to integer: n_bins\n",
    "#n_bins = int(n_bins)\n",
    "\n",
    "# Plot the histogram\n",
    "#plt.hist(df, bins=n_bins)\n",
    "plt.hist(df_swing.dem_share)\n",
    "# Label axes\n",
    "#_ = plt.xlabel('petal length (cm)')\n",
    "#_ = plt.ylabel('count')\n",
    "\n",
    "# Show histogram\n",
    "plt.show()"
   ]
  },
  {
   "cell_type": "markdown",
   "metadata": {},
   "source": [
    "Histogram drawbacks:\n",
    "- **Binning vias**: different arbitrary number of bins can lead to different interpretations.\n",
    "- **Don't plot all of the data**: the actual values are sweeped into bins.\n",
    "\n",
    "## Swarm plots"
   ]
  },
  {
   "cell_type": "markdown",
   "metadata": {},
   "source": []
  }
 ],
 "metadata": {
  "kernelspec": {
   "display_name": "Python 3",
   "language": "python",
   "name": "python3"
  },
  "language_info": {
   "codemirror_mode": {
    "name": "ipython",
    "version": 3
   },
   "file_extension": ".py",
   "mimetype": "text/x-python",
   "name": "python",
   "nbconvert_exporter": "python",
   "pygments_lexer": "ipython3",
   "version": "3.6.5"
  }
 },
 "nbformat": 4,
 "nbformat_minor": 2
}
